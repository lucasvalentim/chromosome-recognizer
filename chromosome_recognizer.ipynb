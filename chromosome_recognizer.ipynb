{
  "nbformat": 4,
  "nbformat_minor": 0,
  "metadata": {
    "colab": {
      "name": "chromosome_recognizer.ipynb",
      "version": "0.3.2",
      "provenance": [],
      "collapsed_sections": []
    },
    "kernelspec": {
      "name": "python3",
      "display_name": "Python 3"
    },
    "accelerator": "GPU"
  },
  "cells": [
    {
      "metadata": {
        "id": "drLLeMykUsd1",
        "colab_type": "code",
        "colab": {}
      },
      "cell_type": "code",
      "source": [
        "import numpy as np\n",
        "import pandas as pd\n",
        "import matplotlib.pyplot as plt\n",
        "import seaborn as sns\n",
        "\n",
        "%matplotlib inline"
      ],
      "execution_count": 0,
      "outputs": []
    },
    {
      "metadata": {
        "id": "G3Fk_-Dz7vYn",
        "colab_type": "code",
        "colab": {}
      },
      "cell_type": "code",
      "source": [
        "import os\n",
        "import cv2\n",
        "\n",
        "def load_images(dirname, grayscale=False, size=None):\n",
        "    mode = 0 if grayscale else 1\n",
        "    images = []\n",
        "    \n",
        "    for filename in os.listdir(dirname):        \n",
        "        image = cv2.imread(os.path.join(dirname, filename), mode)\n",
        "        \n",
        "        if size is not None:\n",
        "            image = cv2.resize(image, size)\n",
        "        \n",
        "        images.append(image)\n",
        "    \n",
        "    return images"
      ],
      "execution_count": 0,
      "outputs": []
    },
    {
      "metadata": {
        "id": "AmQxN_EA_SIV",
        "colab_type": "code",
        "colab": {}
      },
      "cell_type": "code",
      "source": [
        "def prepare_data(c, nc, expand_dims=False, normalize=False, return_y=False):\n",
        "    c  = np.array(c) if type(c) == list else c\n",
        "    nc = np.array(nc) if type(nc) == list else nc\n",
        "    \n",
        "    X = np.concatenate((c, nc), axis=0)\n",
        "    \n",
        "    if expand_dims:\n",
        "        X = np.expand_dims(X, axis=3)\n",
        "    \n",
        "    if normalize:\n",
        "        X = X.astype(np.float32) / 255\n",
        "    \n",
        "    if return_y:\n",
        "        c_target  = np.ones(c.shape[0])\n",
        "        nc_target = np.zeros(nc.shape[0])\n",
        "        \n",
        "        y = np.concatenate((c_target, nc_target), axis=0)\n",
        "        \n",
        "        return X, y\n",
        "    \n",
        "    return X"
      ],
      "execution_count": 0,
      "outputs": []
    },
    {
      "metadata": {
        "id": "s1rskWLx-NNJ",
        "colab_type": "code",
        "colab": {}
      },
      "cell_type": "code",
      "source": [
        "c_train  = load_images('./Dataset/Train/C', size=(64, 64))\n",
        "nc_train = load_images('./Dataset/Train/NC', size=(64, 64))"
      ],
      "execution_count": 0,
      "outputs": []
    },
    {
      "metadata": {
        "id": "jaN-hf4CFK3a",
        "colab_type": "code",
        "colab": {}
      },
      "cell_type": "code",
      "source": [
        "X, y = prepare_data(c_train, nc_train, normalize=True, return_y=True)"
      ],
      "execution_count": 0,
      "outputs": []
    },
    {
      "metadata": {
        "id": "a8G38OlMF0d-",
        "colab_type": "code",
        "colab": {}
      },
      "cell_type": "code",
      "source": [
        "from sklearn.model_selection import train_test_split\n",
        "\n",
        "X_train, X_val, y_train, y_val = train_test_split(X, y, test_size=0.1)"
      ],
      "execution_count": 0,
      "outputs": []
    },
    {
      "metadata": {
        "id": "l3UsrCmPDnfu",
        "colab_type": "code",
        "colab": {
          "base_uri": "https://localhost:8080/",
          "height": 731
        },
        "outputId": "349dce89-90c4-4c0d-deba-53ba002daf5c"
      },
      "cell_type": "code",
      "source": [
        "from keras.models import Sequential\n",
        "from keras.layers import Dense, Dropout\n",
        "from keras.layers import Conv2D, MaxPooling2D, GlobalMaxPooling2D, BatchNormalization\n",
        "from keras.regularizers import l2\n",
        "\n",
        "model = Sequential()\n",
        "\n",
        "model.add(Conv2D(32, (3, 3), activation='relu', kernel_regularizer=l2(1e-4), input_shape=(None, None, X_train.shape[3])))\n",
        "model.add(BatchNormalization())\n",
        "model.add(Conv2D(32, (3, 3), activation='relu', kernel_regularizer=l2(1e-4)))\n",
        "model.add(BatchNormalization())\n",
        "model.add(MaxPooling2D((2, 2)))\n",
        "model.add(Dropout(0.25))\n",
        "\n",
        "model.add(Conv2D(64, (3, 3), activation='relu', kernel_regularizer=l2(1e-4)))\n",
        "model.add(BatchNormalization())\n",
        "model.add(Conv2D(64, (3, 3), activation='relu', kernel_regularizer=l2(1e-4)))\n",
        "model.add(BatchNormalization())\n",
        "model.add(MaxPooling2D((2, 2)))\n",
        "model.add(Dropout(0.25))\n",
        "\n",
        "model.add(Conv2D(128, (1,1), kernel_regularizer=l2(1e-4)))\n",
        "model.add(GlobalMaxPooling2D())\n",
        "\n",
        "model.add(Dense(256, activation='relu', kernel_regularizer=l2(1e-4)))\n",
        "model.add(Dropout(0.5))\n",
        "model.add(Dense(1, activation='sigmoid', kernel_regularizer=l2(1e-4)))\n",
        "\n",
        "model.summary()\n",
        "\n",
        "model.compile(optimizer='adam', loss='binary_crossentropy', metrics=['accuracy'])"
      ],
      "execution_count": 7,
      "outputs": [
        {
          "output_type": "stream",
          "text": [
            "Using TensorFlow backend.\n"
          ],
          "name": "stderr"
        },
        {
          "output_type": "stream",
          "text": [
            "_________________________________________________________________\n",
            "Layer (type)                 Output Shape              Param #   \n",
            "=================================================================\n",
            "conv2d_1 (Conv2D)            (None, None, None, 32)    896       \n",
            "_________________________________________________________________\n",
            "batch_normalization_1 (Batch (None, None, None, 32)    128       \n",
            "_________________________________________________________________\n",
            "conv2d_2 (Conv2D)            (None, None, None, 32)    9248      \n",
            "_________________________________________________________________\n",
            "batch_normalization_2 (Batch (None, None, None, 32)    128       \n",
            "_________________________________________________________________\n",
            "max_pooling2d_1 (MaxPooling2 (None, None, None, 32)    0         \n",
            "_________________________________________________________________\n",
            "dropout_1 (Dropout)          (None, None, None, 32)    0         \n",
            "_________________________________________________________________\n",
            "conv2d_3 (Conv2D)            (None, None, None, 64)    18496     \n",
            "_________________________________________________________________\n",
            "batch_normalization_3 (Batch (None, None, None, 64)    256       \n",
            "_________________________________________________________________\n",
            "conv2d_4 (Conv2D)            (None, None, None, 64)    36928     \n",
            "_________________________________________________________________\n",
            "batch_normalization_4 (Batch (None, None, None, 64)    256       \n",
            "_________________________________________________________________\n",
            "max_pooling2d_2 (MaxPooling2 (None, None, None, 64)    0         \n",
            "_________________________________________________________________\n",
            "dropout_2 (Dropout)          (None, None, None, 64)    0         \n",
            "_________________________________________________________________\n",
            "conv2d_5 (Conv2D)            (None, None, None, 128)   8320      \n",
            "_________________________________________________________________\n",
            "global_max_pooling2d_1 (Glob (None, 128)               0         \n",
            "_________________________________________________________________\n",
            "dense_1 (Dense)              (None, 256)               33024     \n",
            "_________________________________________________________________\n",
            "dropout_3 (Dropout)          (None, 256)               0         \n",
            "_________________________________________________________________\n",
            "dense_2 (Dense)              (None, 1)                 257       \n",
            "=================================================================\n",
            "Total params: 107,937\n",
            "Trainable params: 107,553\n",
            "Non-trainable params: 384\n",
            "_________________________________________________________________\n"
          ],
          "name": "stdout"
        }
      ]
    },
    {
      "metadata": {
        "id": "Ee7th6acFwq1",
        "colab_type": "code",
        "colab": {
          "base_uri": "https://localhost:8080/",
          "height": 1054
        },
        "outputId": "c2416a78-191a-4e85-94cc-beee3b1b1418"
      },
      "cell_type": "code",
      "source": [
        "training = model.fit(X_train, y_train, batch_size=32, epochs=30, validation_data=(X_val, y_val))"
      ],
      "execution_count": 8,
      "outputs": [
        {
          "output_type": "stream",
          "text": [
            "Train on 4809 samples, validate on 535 samples\n",
            "Epoch 1/30\n",
            "4809/4809 [==============================] - 8s 2ms/step - loss: 0.3420 - acc: 0.8850 - val_loss: 0.5380 - val_acc: 0.7364\n",
            "Epoch 2/30\n",
            "4809/4809 [==============================] - 6s 1ms/step - loss: 0.2469 - acc: 0.9235 - val_loss: 0.3453 - val_acc: 0.8785\n",
            "Epoch 3/30\n",
            "4809/4809 [==============================] - 6s 1ms/step - loss: 0.2225 - acc: 0.9357 - val_loss: 1.7984 - val_acc: 0.5645\n",
            "Epoch 4/30\n",
            "4809/4809 [==============================] - 6s 1ms/step - loss: 0.2002 - acc: 0.9412 - val_loss: 0.2872 - val_acc: 0.9009\n",
            "Epoch 5/30\n",
            "4809/4809 [==============================] - 6s 1ms/step - loss: 0.1972 - acc: 0.9418 - val_loss: 0.2371 - val_acc: 0.9159\n",
            "Epoch 6/30\n",
            "4809/4809 [==============================] - 6s 1ms/step - loss: 0.1825 - acc: 0.9449 - val_loss: 0.3010 - val_acc: 0.8879\n",
            "Epoch 7/30\n",
            "4809/4809 [==============================] - 6s 1ms/step - loss: 0.1797 - acc: 0.9480 - val_loss: 3.7210 - val_acc: 0.5103\n",
            "Epoch 8/30\n",
            "4809/4809 [==============================] - 6s 1ms/step - loss: 0.1783 - acc: 0.9480 - val_loss: 0.2111 - val_acc: 0.9551\n",
            "Epoch 9/30\n",
            "4809/4809 [==============================] - 6s 1ms/step - loss: 0.1689 - acc: 0.9515 - val_loss: 0.1364 - val_acc: 0.9589\n",
            "Epoch 10/30\n",
            "4809/4809 [==============================] - 6s 1ms/step - loss: 0.1545 - acc: 0.9586 - val_loss: 0.4926 - val_acc: 0.8000\n",
            "Epoch 11/30\n",
            "4809/4809 [==============================] - 6s 1ms/step - loss: 0.1574 - acc: 0.9518 - val_loss: 0.2023 - val_acc: 0.9234\n",
            "Epoch 12/30\n",
            "4809/4809 [==============================] - 6s 1ms/step - loss: 0.1585 - acc: 0.9515 - val_loss: 0.2598 - val_acc: 0.9065\n",
            "Epoch 13/30\n",
            "4809/4809 [==============================] - 6s 1ms/step - loss: 0.1588 - acc: 0.9532 - val_loss: 0.1747 - val_acc: 0.9383\n",
            "Epoch 14/30\n",
            "4809/4809 [==============================] - 6s 1ms/step - loss: 0.1454 - acc: 0.9613 - val_loss: 0.2190 - val_acc: 0.9140\n",
            "Epoch 15/30\n",
            "4809/4809 [==============================] - 6s 1ms/step - loss: 0.1502 - acc: 0.9586 - val_loss: 0.1940 - val_acc: 0.9215\n",
            "Epoch 16/30\n",
            "4809/4809 [==============================] - 6s 1ms/step - loss: 0.1339 - acc: 0.9613 - val_loss: 0.1510 - val_acc: 0.9477\n",
            "Epoch 17/30\n",
            "4809/4809 [==============================] - 6s 1ms/step - loss: 0.1383 - acc: 0.9622 - val_loss: 0.2001 - val_acc: 0.9364\n",
            "Epoch 18/30\n",
            "4809/4809 [==============================] - 6s 1ms/step - loss: 0.1310 - acc: 0.9663 - val_loss: 0.1455 - val_acc: 0.9533\n",
            "Epoch 19/30\n",
            "4809/4809 [==============================] - 6s 1ms/step - loss: 0.1406 - acc: 0.9626 - val_loss: 0.2661 - val_acc: 0.9121\n",
            "Epoch 20/30\n",
            "4809/4809 [==============================] - 6s 1ms/step - loss: 0.1703 - acc: 0.9476 - val_loss: 0.1837 - val_acc: 0.9514\n",
            "Epoch 21/30\n",
            "4809/4809 [==============================] - 6s 1ms/step - loss: 0.1576 - acc: 0.9553 - val_loss: 0.1742 - val_acc: 0.9477\n",
            "Epoch 22/30\n",
            "4809/4809 [==============================] - 6s 1ms/step - loss: 0.1554 - acc: 0.9524 - val_loss: 0.1768 - val_acc: 0.9421\n",
            "Epoch 23/30\n",
            "4809/4809 [==============================] - 6s 1ms/step - loss: 0.1423 - acc: 0.9590 - val_loss: 0.1262 - val_acc: 0.9720\n",
            "Epoch 24/30\n",
            "4809/4809 [==============================] - 6s 1ms/step - loss: 0.1323 - acc: 0.9642 - val_loss: 0.2480 - val_acc: 0.9065\n",
            "Epoch 25/30\n",
            "4809/4809 [==============================] - 6s 1ms/step - loss: 0.1349 - acc: 0.9615 - val_loss: 0.1494 - val_acc: 0.9645\n",
            "Epoch 26/30\n",
            "4809/4809 [==============================] - 6s 1ms/step - loss: 0.1382 - acc: 0.9582 - val_loss: 0.3139 - val_acc: 0.9103\n",
            "Epoch 27/30\n",
            "4809/4809 [==============================] - 6s 1ms/step - loss: 0.1371 - acc: 0.9597 - val_loss: 0.2007 - val_acc: 0.9421\n",
            "Epoch 28/30\n",
            "4809/4809 [==============================] - 6s 1ms/step - loss: 0.1298 - acc: 0.9622 - val_loss: 0.1752 - val_acc: 0.9551\n",
            "Epoch 29/30\n",
            "4809/4809 [==============================] - 6s 1ms/step - loss: 0.1348 - acc: 0.9636 - val_loss: 0.2032 - val_acc: 0.9402\n",
            "Epoch 30/30\n",
            "4809/4809 [==============================] - 6s 1ms/step - loss: 0.1295 - acc: 0.9636 - val_loss: 0.1490 - val_acc: 0.9551\n"
          ],
          "name": "stdout"
        }
      ]
    },
    {
      "metadata": {
        "id": "wL6AwCVlJeFa",
        "colab_type": "code",
        "colab": {
          "base_uri": "https://localhost:8080/",
          "height": 403
        },
        "outputId": "b383f220-5d4d-4242-90cb-542fdc10756a"
      },
      "cell_type": "code",
      "source": [
        "plt.figure(figsize=(9,6))\n",
        "plt.plot(training.history['loss'], label='Train')\n",
        "plt.plot(training.history['val_loss'], label='Validation')\n",
        "plt.title('Model Loss')\n",
        "plt.xlabel('Epochs')\n",
        "plt.ylabel('Loss')\n",
        "plt.legend()\n",
        "plt.show()"
      ],
      "execution_count": 9,
      "outputs": [
        {
          "output_type": "display_data",
          "data": {
            "image/png": "[encoded data removed]",
            "text/plain": [
              "<matplotlib.figure.Figure at 0x7fb4d159c1d0>"
            ]
          },
          "metadata": {
            "tags": []
          }
        }
      ]
    },
    {
      "metadata": {
        "id": "7xtsi8JHKJtp",
        "colab_type": "code",
        "colab": {
          "base_uri": "https://localhost:8080/",
          "height": 403
        },
        "outputId": "369a4b58-0f06-4c3f-bc06-215f83a0fc5e"
      },
      "cell_type": "code",
      "source": [
        "plt.figure(figsize=(9,6))\n",
        "plt.plot(training.history['acc'], label='Train')\n",
        "plt.plot(training.history['val_acc'], label='Validation')\n",
        "plt.title('Model Accuracy')\n",
        "plt.xlabel('Epochs')\n",
        "plt.ylabel('Accuracy')\n",
        "plt.legend()\n",
        "plt.show()"
      ],
      "execution_count": 10,
      "outputs": [
        {
          "output_type": "display_data",
          "data": {
            "image/png": "[encoded data removed]",
            "text/plain": [
              "<matplotlib.figure.Figure at 0x7fb4d1540828>"
            ]
          },
          "metadata": {
            "tags": []
          }
        }
      ]
    },
    {
      "metadata": {
        "id": "qMVjDB8AMdx8",
        "colab_type": "code",
        "colab": {}
      },
      "cell_type": "code",
      "source": [
        "c_test  = load_images('./Dataset/Test/C', size=(64, 64))\n",
        "nc_test = load_images('./Dataset/Test/NC', size=(64, 64))"
      ],
      "execution_count": 0,
      "outputs": []
    },
    {
      "metadata": {
        "id": "hF58bcylHz7Z",
        "colab_type": "code",
        "colab": {}
      },
      "cell_type": "code",
      "source": [
        "X_test, y_test = prepare_data(c_test, nc_test, normalize=True, return_y=True)"
      ],
      "execution_count": 0,
      "outputs": []
    },
    {
      "metadata": {
        "id": "9fwwrhxsII00",
        "colab_type": "code",
        "colab": {
          "base_uri": "https://localhost:8080/",
          "height": 51
        },
        "outputId": "b94664db-69a9-4111-d6be-32443836b664"
      },
      "cell_type": "code",
      "source": [
        "model.evaluate(X_test, y_test)"
      ],
      "execution_count": 13,
      "outputs": [
        {
          "output_type": "stream",
          "text": [
            "1336/1336 [==============================] - 1s 508us/step\n"
          ],
          "name": "stdout"
        },
        {
          "output_type": "execute_result",
          "data": {
            "text/plain": [
              "[0.15945663584206632, 0.9558383237102075]"
            ]
          },
          "metadata": {
            "tags": []
          },
          "execution_count": 13
        }
      ]
    },
    {
      "metadata": {
        "id": "TzeCLWiIKurT",
        "colab_type": "code",
        "colab": {}
      },
      "cell_type": "code",
      "source": [
        "model.save_weights('weights.hdf5')"
      ],
      "execution_count": 0,
      "outputs": []
    }
  ]
}