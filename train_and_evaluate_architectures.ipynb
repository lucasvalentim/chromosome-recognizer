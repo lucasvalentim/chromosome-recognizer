{
 "cells": [
  {
   "cell_type": "code",
   "execution_count": 0,
   "metadata": {
    "colab": {
     "base_uri": "https://localhost:8080/",
     "height": 34
    },
    "colab_type": "code",
    "id": "ZleVVSQig9CF",
    "outputId": "1794a561-8e98-4a20-afc4-54f2d8804e12"
   },
   "outputs": [
    {
     "name": "stderr",
     "output_type": "stream",
     "text": [
      "Using TensorFlow backend.\n"
     ]
    }
   ],
   "source": [
    "import os\n",
    "import cv2\n",
    "import numpy as np\n",
    "import pandas as pd\n",
    "\n",
    "from keras.models import Model\n",
    "from keras.layers import Input, Dense, Dropout\n",
    "from keras.layers import Conv2D, MaxPooling2D, GlobalMaxPooling2D, BatchNormalization\n",
    "from keras.callbacks import ModelCheckpoint\n",
    "from keras.utils import to_categorical"
   ]
  },
  {
   "cell_type": "code",
   "execution_count": 0,
   "metadata": {
    "colab": {},
    "colab_type": "code",
    "id": "IC0KxROjhMsR"
   },
   "outputs": [],
   "source": [
    "def load_images(dirname, filetype=None, grayscale=False, size=None):\n",
    "    mode = 0 if grayscale else 1\n",
    "    images = []\n",
    "    filenames = os.listdir(dirname)\n",
    "    \n",
    "    if filetype is not None:\n",
    "        filenames = [filename for filename in filenames if filename.endswith('.' + filetype)]\n",
    "        \n",
    "    for filename in filenames:\n",
    "        image = cv2.imread(os.path.join(dirname, filename), mode)\n",
    "        \n",
    "        if size is not None:\n",
    "            image = cv2.resize(image, size)\n",
    "        \n",
    "        images.append(image)\n",
    "    \n",
    "    return images"
   ]
  },
  {
   "cell_type": "code",
   "execution_count": 0,
   "metadata": {
    "colab": {},
    "colab_type": "code",
    "id": "8W7Qb0JIhzI-"
   },
   "outputs": [],
   "source": [
    "def prepare_data(c, nc, expand_dims=False, normalization_method=None, return_y=False, y_categorical=False):\n",
    "    c  = np.array(c) if type(c) == list else c\n",
    "    nc = np.array(nc) if type(nc) == list else nc\n",
    "    \n",
    "    X = np.concatenate((c, nc), axis=0)\n",
    "    \n",
    "    if expand_dims:\n",
    "        X = np.expand_dims(X, axis=3)\n",
    "    \n",
    "    if normalization_method is not None:\n",
    "        X = X.astype(np.float32)\n",
    "        \n",
    "        if normalization_method == 1:\n",
    "            X = (X - X.min()) / (X.max() - X.min())\n",
    "        \n",
    "        elif normalization_method == 2:\n",
    "            X = 2 * (X - X.min()) / (X.max() - X.min())\n",
    "            \n",
    "        elif normalization_method == 3:\n",
    "            X = (X - X.mean()) / X.std()\n",
    "    \n",
    "    if return_y:\n",
    "        c_label  = np.ones(c.shape[0])\n",
    "        nc_label = np.zeros(nc.shape[0])\n",
    "        \n",
    "        y = np.concatenate((c_label, nc_label), axis=0)\n",
    "        \n",
    "        if y_categorical:\n",
    "            y = to_categorical(y)\n",
    "        \n",
    "        return X, y\n",
    "    \n",
    "    return X"
   ]
  },
  {
   "cell_type": "code",
   "execution_count": 0,
   "metadata": {
    "colab": {},
    "colab_type": "code",
    "id": "ArjmrH-El0M4"
   },
   "outputs": [],
   "source": [
    "def train_multiple_times(model_builder, times, weights_path_format, **kwargs):\n",
    "    weights_dirname = '/'.join(weights_path_format.split('/')[:-1])\n",
    "    \n",
    "    if not os.path.exists(weights_dirname):\n",
    "        os.makedirs(weights_dirname)\n",
    "    \n",
    "    for t in range(times):\n",
    "        weights_path = weights_path_format.format(t + 1)\n",
    "        \n",
    "        print('Treinamento {} de {}, os pesos serão salvos em {}'.format(t + 1, times, weights_path))\n",
    "        \n",
    "        checkpointer = ModelCheckpoint(weights_path, save_best_only=True, verbose=0)\n",
    "        \n",
    "        model = model_builder()\n",
    "        \n",
    "        model.fit(callbacks=[checkpointer], verbose=0, **kwargs)"
   ]
  },
  {
   "cell_type": "code",
   "execution_count": 0,
   "metadata": {
    "colab": {},
    "colab_type": "code",
    "id": "X-SP6_1Sv-SE"
   },
   "outputs": [],
   "source": [
    "def evaluate_multiple_weights(model_builder, times, weights_path_format, **kwargs):\n",
    "    results = []\n",
    "    \n",
    "    for t in range(times):\n",
    "        weights_path = weights_path_format.format(t + 1)\n",
    "        \n",
    "        print('Avaliando o modelo com os pesos {}'.format(weights_path))\n",
    "        \n",
    "        model = model_builder()\n",
    "        \n",
    "        model.load_weights(weights_path)\n",
    "        \n",
    "        result = model.evaluate(**kwargs)\n",
    "        \n",
    "        results.append(result)\n",
    "\n",
    "    return results"
   ]
  },
  {
   "cell_type": "code",
   "execution_count": 0,
   "metadata": {
    "colab": {},
    "colab_type": "code",
    "id": "sXf7_v2HK4Cd"
   },
   "outputs": [],
   "source": [
    "def show_results_df(results, describe=False):\n",
    "    results_df = pd.DataFrame(results, columns=['Loss', 'Accuracy'])\n",
    "    \n",
    "    results_df.index += 1\n",
    "    \n",
    "    if describe:\n",
    "        return results_df.describe()\n",
    "    \n",
    "    else:\n",
    "        return results_df"
   ]
  },
  {
   "cell_type": "markdown",
   "metadata": {
    "colab_type": "text",
    "id": "nwxmOPhtHoIT"
   },
   "source": [
    "## Modelos"
   ]
  },
  {
   "cell_type": "markdown",
   "metadata": {
    "colab_type": "text",
    "id": "WYi0nC6Yhq5r"
   },
   "source": [
    "### Modelo 1"
   ]
  },
  {
   "cell_type": "code",
   "execution_count": 0,
   "metadata": {
    "colab": {},
    "colab_type": "code",
    "id": "09AhI5dlk0xt"
   },
   "outputs": [],
   "source": [
    "def model_1():\n",
    "    net_input = Input(shape=(128, 128, 1))\n",
    "    \n",
    "    net_layer = Conv2D(32, (3, 3), activation='relu')(net_input)\n",
    "    net_layer = MaxPooling2D((2, 2))(net_layer)\n",
    "    net_layer = Dropout(0.25)(net_layer)\n",
    "    \n",
    "    net_layer = Conv2D(128, (1,1))(net_layer)\n",
    "    net_layer = GlobalMaxPooling2D()(net_layer)\n",
    "    \n",
    "    net_output = Dense(1, activation='sigmoid')(net_layer)\n",
    "    \n",
    "    model = Model(inputs=net_input, outputs=net_output)\n",
    "    \n",
    "    model.compile(optimizer='adam', loss='binary_crossentropy', metrics=['accuracy'])\n",
    "    \n",
    "    return model"
   ]
  },
  {
   "cell_type": "markdown",
   "metadata": {
    "colab_type": "text",
    "id": "a4-g5q-why2-"
   },
   "source": [
    "### Modelo 2"
   ]
  },
  {
   "cell_type": "code",
   "execution_count": 0,
   "metadata": {
    "colab": {},
    "colab_type": "code",
    "id": "sDImktt4XC3u"
   },
   "outputs": [],
   "source": [
    "def model_2():\n",
    "    net_input = Input(shape=(128, 128, 3))\n",
    "    \n",
    "    net_layer = Conv2D(32, (3, 3), activation='relu')(net_input)\n",
    "    net_layer = MaxPooling2D((2, 2))(net_layer)\n",
    "    net_layer = Dropout(0.25)(net_layer)\n",
    "    \n",
    "    net_layer = Conv2D(128, (1,1))(net_layer)\n",
    "    net_layer = GlobalMaxPooling2D()(net_layer)\n",
    "    \n",
    "    net_output = Dense(1, activation='sigmoid')(net_layer)\n",
    "    \n",
    "    model = Model(inputs=net_input, outputs=net_output)\n",
    "    \n",
    "    model.compile(optimizer='adam', loss='binary_crossentropy', metrics=['accuracy'])\n",
    "    \n",
    "    return model"
   ]
  },
  {
   "cell_type": "markdown",
   "metadata": {
    "colab_type": "text",
    "id": "kbPSAAr8kVzL"
   },
   "source": [
    "### Modelo 3"
   ]
  },
  {
   "cell_type": "code",
   "execution_count": 0,
   "metadata": {
    "colab": {},
    "colab_type": "code",
    "id": "MtE2yNdvkVzN"
   },
   "outputs": [],
   "source": [
    "def model_3():\n",
    "    net_input = Input(shape=(128, 128, 3))\n",
    "    \n",
    "    net_layer = Conv2D(32, (3, 3), activation='relu')(net_input)\n",
    "    net_layer = MaxPooling2D((2, 2))(net_layer)\n",
    "    net_layer = Dropout(0.25)(net_layer)\n",
    "    \n",
    "    net_layer = Conv2D(128, (1,1))(net_layer)\n",
    "    net_layer = GlobalMaxPooling2D()(net_layer)\n",
    "    \n",
    "    net_output = Dense(2, activation='softmax')(net_layer)\n",
    "    \n",
    "    model = Model(inputs=net_input, outputs=net_output)\n",
    "    \n",
    "    model.compile(optimizer='adam', loss='categorical_crossentropy', metrics=['accuracy'])\n",
    "    \n",
    "    return model"
   ]
  },
  {
   "cell_type": "markdown",
   "metadata": {
    "colab_type": "text",
    "id": "i9OfxVj3Nl-9"
   },
   "source": [
    "### Modelo 4"
   ]
  },
  {
   "cell_type": "code",
   "execution_count": 0,
   "metadata": {
    "colab": {},
    "colab_type": "code",
    "id": "F4mISeWxNl_B"
   },
   "outputs": [],
   "source": [
    "def model_4():\n",
    "    net_input = Input(shape=(128, 128, 3))\n",
    "    \n",
    "    net_layer = Conv2D(32, (3, 3), activation='relu')(net_input)\n",
    "    net_layer = BatchNormalization()(net_layer)\n",
    "    net_layer = MaxPooling2D((2, 2))(net_layer)\n",
    "    net_layer = Dropout(0.25)(net_layer)\n",
    "    \n",
    "    net_layer = Conv2D(128, (1,1))(net_layer)\n",
    "    net_layer = GlobalMaxPooling2D()(net_layer)\n",
    "    \n",
    "    net_output = Dense(1, activation='sigmoid')(net_layer)\n",
    "    \n",
    "    model = Model(inputs=net_input, outputs=net_output)\n",
    "    \n",
    "    model.compile(optimizer='adam', loss='binary_crossentropy', metrics=['accuracy'])\n",
    "    \n",
    "    return model"
   ]
  },
  {
   "cell_type": "markdown",
   "metadata": {
    "colab_type": "text",
    "id": "OuVxz4GwPFQS"
   },
   "source": [
    "### Modelo 5"
   ]
  },
  {
   "cell_type": "code",
   "execution_count": 0,
   "metadata": {
    "colab": {},
    "colab_type": "code",
    "id": "AreM8HSDPFQU"
   },
   "outputs": [],
   "source": [
    "def model_5():\n",
    "    net_input = Input(shape=(128, 128, 3))\n",
    "    \n",
    "    net_layer = Conv2D(32, (3, 3), activation='relu')(net_input)\n",
    "    net_layer = MaxPooling2D((2, 2))(net_layer)\n",
    "    net_layer = BatchNormalization()(net_layer)\n",
    "    net_layer = Dropout(0.25)(net_layer)\n",
    "    \n",
    "    net_layer = Conv2D(128, (1,1))(net_layer)\n",
    "    net_layer = GlobalMaxPooling2D()(net_layer)\n",
    "    \n",
    "    net_output = Dense(1, activation='sigmoid')(net_layer)\n",
    "    \n",
    "    model = Model(inputs=net_input, outputs=net_output)\n",
    "    \n",
    "    model.compile(optimizer='adam', loss='binary_crossentropy', metrics=['accuracy'])\n",
    "    \n",
    "    return model"
   ]
  },
  {
   "cell_type": "markdown",
   "metadata": {
    "colab_type": "text",
    "id": "tQ4WCqfQpq2V"
   },
   "source": [
    "### Modelo 6"
   ]
  },
  {
   "cell_type": "code",
   "execution_count": 0,
   "metadata": {
    "colab": {},
    "colab_type": "code",
    "id": "pkCFClbupq2Y"
   },
   "outputs": [],
   "source": [
    "def model_6():\n",
    "    net_input = Input(shape=(128, 128, 3))\n",
    "    \n",
    "    net_layer = Conv2D(32, (3, 3), activation='relu')(net_input)\n",
    "    net_layer = MaxPooling2D((2, 2))(net_layer)\n",
    "    net_layer = BatchNormalization()(net_layer)\n",
    "    net_layer = Dropout(0.25)(net_layer)\n",
    "    \n",
    "    net_layer = Conv2D(128, (1,1))(net_layer)\n",
    "    net_layer = GlobalMaxPooling2D()(net_layer)\n",
    "    \n",
    "    net_layer = Dense(128, activation='relu')(net_layer)\n",
    "    net_layer = Dropout(0.5)(net_layer)\n",
    "    \n",
    "    net_output = Dense(1, activation='sigmoid')(net_layer)\n",
    "    \n",
    "    model = Model(inputs=net_input, outputs=net_output)\n",
    "    \n",
    "    model.compile(optimizer='adam', loss='binary_crossentropy', metrics=['accuracy'])\n",
    "    \n",
    "    return model"
   ]
  },
  {
   "cell_type": "markdown",
   "metadata": {
    "colab_type": "text",
    "id": "MCI82tQSrYOJ"
   },
   "source": [
    "### Modelo 7"
   ]
  },
  {
   "cell_type": "code",
   "execution_count": 0,
   "metadata": {
    "colab": {},
    "colab_type": "code",
    "id": "Wu3flDVHrYOL"
   },
   "outputs": [],
   "source": [
    "def model_7():\n",
    "    net_input = Input(shape=(128, 128, 3))\n",
    "    \n",
    "    net_layer = Conv2D(32, (3, 3), activation='relu')(net_input)\n",
    "    net_layer = MaxPooling2D((2, 2))(net_layer)\n",
    "    net_layer = BatchNormalization()(net_layer)\n",
    "    net_layer = Dropout(0.25)(net_layer)\n",
    "    \n",
    "    net_layer = Conv2D(128, (1,1))(net_layer)\n",
    "    net_layer = GlobalMaxPooling2D()(net_layer)\n",
    "    \n",
    "    net_layer = Dense(256, activation='relu')(net_layer)\n",
    "    net_layer = Dropout(0.5)(net_layer)\n",
    "    \n",
    "    net_output = Dense(1, activation='sigmoid')(net_layer)\n",
    "    \n",
    "    model = Model(inputs=net_input, outputs=net_output)\n",
    "    \n",
    "    model.compile(optimizer='adam', loss='binary_crossentropy', metrics=['accuracy'])\n",
    "    \n",
    "    return model"
   ]
  },
  {
   "cell_type": "markdown",
   "metadata": {
    "colab_type": "text",
    "id": "ccD_PvmdxaLx"
   },
   "source": [
    "### Modelo 8"
   ]
  },
  {
   "cell_type": "code",
   "execution_count": 0,
   "metadata": {
    "colab": {},
    "colab_type": "code",
    "id": "Hi678VAnxaL2"
   },
   "outputs": [],
   "source": [
    "def model_8():\n",
    "    net_input = Input(shape=(128, 128, 3))\n",
    "    \n",
    "    net_layer = Conv2D(32, (3, 3), activation='relu')(net_input)\n",
    "    net_layer = MaxPooling2D((2, 2))(net_layer)\n",
    "    net_layer = BatchNormalization()(net_layer)\n",
    "    net_layer = Dropout(0.25)(net_layer)\n",
    "    \n",
    "    net_layer = Conv2D(64, (3, 3), activation='relu')(net_layer)\n",
    "    net_layer = MaxPooling2D((2, 2))(net_layer)\n",
    "    net_layer = BatchNormalization()(net_layer)\n",
    "    net_layer = Dropout(0.25)(net_layer)\n",
    "    \n",
    "    net_layer = Conv2D(128, (1,1))(net_layer)\n",
    "    net_layer = GlobalMaxPooling2D()(net_layer)\n",
    "    \n",
    "    net_layer = Dense(256, activation='relu')(net_layer)\n",
    "    net_layer = Dropout(0.5)(net_layer)\n",
    "    \n",
    "    net_output = Dense(1, activation='sigmoid')(net_layer)\n",
    "    \n",
    "    model = Model(inputs=net_input, outputs=net_output)\n",
    "    \n",
    "    model.compile(optimizer='adam', loss='binary_crossentropy', metrics=['accuracy'])\n",
    "    \n",
    "    return model"
   ]
  },
  {
   "cell_type": "markdown",
   "metadata": {
    "colab_type": "text",
    "id": "NQxPLo6JAp-P"
   },
   "source": [
    "### Modelo 9"
   ]
  },
  {
   "cell_type": "code",
   "execution_count": 0,
   "metadata": {
    "colab": {},
    "colab_type": "code",
    "id": "3IJGD5lGAp-S"
   },
   "outputs": [],
   "source": [
    "def model_9():\n",
    "    net_input = Input(shape=(128, 128, 3))\n",
    "    \n",
    "    net_layer = Conv2D(32, (3, 3), activation='relu')(net_input)\n",
    "    net_layer = MaxPooling2D((2, 2))(net_layer)\n",
    "    net_layer = BatchNormalization()(net_layer)\n",
    "    net_layer = Dropout(0.25)(net_layer)\n",
    "    \n",
    "    net_layer = Conv2D(64, (5, 5), activation='relu')(net_layer)\n",
    "    net_layer = MaxPooling2D((2, 2))(net_layer)\n",
    "    net_layer = BatchNormalization()(net_layer)\n",
    "    net_layer = Dropout(0.25)(net_layer)\n",
    "    \n",
    "    net_layer = Conv2D(128, (1,1))(net_layer)\n",
    "    net_layer = GlobalMaxPooling2D()(net_layer)\n",
    "    \n",
    "    net_layer = Dense(256, activation='relu')(net_layer)\n",
    "    net_layer = Dropout(0.5)(net_layer)\n",
    "    \n",
    "    net_output = Dense(1, activation='sigmoid')(net_layer)\n",
    "    \n",
    "    model = Model(inputs=net_input, outputs=net_output)\n",
    "    \n",
    "    model.compile(optimizer='adam', loss='binary_crossentropy', metrics=['accuracy'])\n",
    "    \n",
    "    return model"
   ]
  },
  {
   "cell_type": "markdown",
   "metadata": {
    "colab_type": "text",
    "id": "fpJ74jzLSv5t"
   },
   "source": [
    "### Modelo 10"
   ]
  },
  {
   "cell_type": "code",
   "execution_count": 0,
   "metadata": {
    "colab": {},
    "colab_type": "code",
    "id": "0vxx0CPOSv5x"
   },
   "outputs": [],
   "source": [
    "def model_10():\n",
    "    net_input = Input(shape=(128, 128, 3))\n",
    "    \n",
    "    net_layer = Conv2D(32, (3, 3), activation='relu')(net_input)\n",
    "    net_layer = MaxPooling2D((2, 2))(net_layer)\n",
    "    net_layer = BatchNormalization()(net_layer)\n",
    "    net_layer = Dropout(0.25)(net_layer)\n",
    "    \n",
    "    net_layer = Conv2D(64, (3, 3), activation='relu')(net_layer)\n",
    "    net_layer = MaxPooling2D((2, 2))(net_layer)\n",
    "    net_layer = BatchNormalization()(net_layer)\n",
    "    net_layer = Dropout(0.25)(net_layer)\n",
    "    \n",
    "    net_layer = Conv2D(128, (3, 3), activation='relu')(net_layer)\n",
    "    net_layer = MaxPooling2D((2, 2))(net_layer)\n",
    "    net_layer = BatchNormalization()(net_layer)\n",
    "    net_layer = Dropout(0.25)(net_layer)\n",
    "    \n",
    "    net_layer = Conv2D(128, (1,1))(net_layer)\n",
    "    net_layer = GlobalMaxPooling2D()(net_layer)\n",
    "    \n",
    "    net_layer = Dense(256, activation='relu')(net_layer)\n",
    "    net_layer = Dropout(0.5)(net_layer)\n",
    "    \n",
    "    net_output = Dense(1, activation='sigmoid')(net_layer)\n",
    "    \n",
    "    model = Model(inputs=net_input, outputs=net_output)\n",
    "    \n",
    "    model.compile(optimizer='adam', loss='binary_crossentropy', metrics=['accuracy'])\n",
    "    \n",
    "    return model"
   ]
  },
  {
   "cell_type": "markdown",
   "metadata": {
    "colab_type": "text",
    "id": "ObU0MXy7qOxM"
   },
   "source": [
    "### Modelo 11"
   ]
  },
  {
   "cell_type": "code",
   "execution_count": 0,
   "metadata": {
    "colab": {},
    "colab_type": "code",
    "id": "hh_m-2nkqOxP"
   },
   "outputs": [],
   "source": [
    "def model_11():\n",
    "    net_input = Input(shape=(128, 128, 3))\n",
    "    \n",
    "    net_layer = Conv2D(32, (3, 3), activation='relu')(net_input)\n",
    "    net_layer = MaxPooling2D((2, 2))(net_layer)\n",
    "    net_layer = BatchNormalization()(net_layer)\n",
    "    net_layer = Dropout(0.25)(net_layer)\n",
    "    \n",
    "    net_layer = Conv2D(64, (5, 5), activation='relu')(net_layer)\n",
    "    net_layer = MaxPooling2D((2, 2))(net_layer)\n",
    "    net_layer = BatchNormalization()(net_layer)\n",
    "    net_layer = Dropout(0.25)(net_layer)\n",
    "    \n",
    "    net_layer = Conv2D(128, (7, 7), activation='relu')(net_layer)\n",
    "    net_layer = MaxPooling2D((2, 2))(net_layer)\n",
    "    net_layer = BatchNormalization()(net_layer)\n",
    "    net_layer = Dropout(0.25)(net_layer)\n",
    "    \n",
    "    net_layer = Conv2D(128, (1,1))(net_layer)\n",
    "    net_layer = GlobalMaxPooling2D()(net_layer)\n",
    "    \n",
    "    net_layer = Dense(256, activation='relu')(net_layer)\n",
    "    net_layer = Dropout(0.5)(net_layer)\n",
    "    \n",
    "    net_output = Dense(1, activation='sigmoid')(net_layer)\n",
    "    \n",
    "    model = Model(inputs=net_input, outputs=net_output)\n",
    "    \n",
    "    model.compile(optimizer='adam', loss='binary_crossentropy', metrics=['accuracy'])\n",
    "    \n",
    "    return model"
   ]
  },
  {
   "cell_type": "markdown",
   "metadata": {
    "colab_type": "text",
    "id": "OWDtTZM2Hy9A"
   },
   "source": [
    "## Arquiteturas"
   ]
  },
  {
   "cell_type": "markdown",
   "metadata": {
    "colab_type": "text",
    "id": "IBQVfLGEEinI"
   },
   "source": [
    "### Arquitetura 1"
   ]
  },
  {
   "cell_type": "markdown",
   "metadata": {
    "colab_type": "text",
    "id": "6dWm2C1GZp3Y"
   },
   "source": [
    "#### Treino"
   ]
  },
  {
   "cell_type": "code",
   "execution_count": 0,
   "metadata": {
    "colab": {},
    "colab_type": "code",
    "id": "yGBguevV_QuW"
   },
   "outputs": [],
   "source": [
    "c_train  = load_images('Dataset_2/Train/C', filetype='tif', grayscale=True, size=(128, 128))\n",
    "nc_train = load_images('Dataset_2/Train/NC', filetype='tif', grayscale=True, size=(128, 128))\n",
    "\n",
    "c_validation  = load_images('Dataset_2/Validation/C', filetype='tif', grayscale=True, size=(128, 128))\n",
    "nc_validation = load_images('Dataset_2/Validation/NC', filetype='tif', grayscale=True, size=(128, 128))"
   ]
  },
  {
   "cell_type": "code",
   "execution_count": 0,
   "metadata": {
    "colab": {},
    "colab_type": "code",
    "id": "FBoqYeMd_rXY"
   },
   "outputs": [],
   "source": [
    "X_train, y_train = prepare_data(c_train, nc_train, expand_dims=True, normalization_method=1, return_y=True)\n",
    "X_validation, y_validation = prepare_data(c_validation, nc_validation, expand_dims=True, normalization_method=1, return_y=True)"
   ]
  },
  {
   "cell_type": "code",
   "execution_count": 0,
   "metadata": {
    "colab": {
     "base_uri": "https://localhost:8080/",
     "height": 187
    },
    "colab_type": "code",
    "id": "Oay0ivZdAjBf",
    "outputId": "13c75877-6c5a-41f5-8fc3-fb454af58f97"
   },
   "outputs": [
    {
     "name": "stdout",
     "output_type": "stream",
     "text": [
      "Treinamento 1 de 10, os pesos serão salvos em weights/architecture_1/training_1.hdf5\n",
      "Treinamento 2 de 10, os pesos serão salvos em weights/architecture_1/training_2.hdf5\n",
      "Treinamento 3 de 10, os pesos serão salvos em weights/architecture_1/training_3.hdf5\n",
      "Treinamento 4 de 10, os pesos serão salvos em weights/architecture_1/training_4.hdf5\n",
      "Treinamento 5 de 10, os pesos serão salvos em weights/architecture_1/training_5.hdf5\n",
      "Treinamento 6 de 10, os pesos serão salvos em weights/architecture_1/training_6.hdf5\n",
      "Treinamento 7 de 10, os pesos serão salvos em weights/architecture_1/training_7.hdf5\n",
      "Treinamento 8 de 10, os pesos serão salvos em weights/architecture_1/training_8.hdf5\n",
      "Treinamento 9 de 10, os pesos serão salvos em weights/architecture_1/training_9.hdf5\n",
      "Treinamento 10 de 10, os pesos serão salvos em weights/architecture_1/training_10.hdf5\n"
     ]
    }
   ],
   "source": [
    "train_multiple_times(model_builder=model_1, times=10, weights_path_format='weights/architecture_1/training_{}.hdf5',\n",
    "                     x=X_train, y=y_train, batch_size=32, epochs=50, validation_data=(X_validation, y_validation))"
   ]
  },
  {
   "cell_type": "markdown",
   "metadata": {
    "colab_type": "text",
    "id": "QDo9j6SRZvnR"
   },
   "source": [
    "#### Avaliação"
   ]
  },
  {
   "cell_type": "code",
   "execution_count": 0,
   "metadata": {
    "colab": {},
    "colab_type": "code",
    "id": "yw40nojhWQV-"
   },
   "outputs": [],
   "source": [
    "c_test  = load_images('Dataset_2/Test/C', filetype='tif', grayscale=True, size=(128, 128))\n",
    "nc_test = load_images('Dataset_2/Test/NC', filetype='tif', grayscale=True, size=(128, 128))"
   ]
  },
  {
   "cell_type": "code",
   "execution_count": 0,
   "metadata": {
    "colab": {},
    "colab_type": "code",
    "id": "rVq6dEMLWg-Y"
   },
   "outputs": [],
   "source": [
    "X_test, y_test = prepare_data(c_test, nc_test, expand_dims=True, normalization_method=1, return_y=True)"
   ]
  },
  {
   "cell_type": "code",
   "execution_count": 0,
   "metadata": {
    "colab": {
     "base_uri": "https://localhost:8080/",
     "height": 357
    },
    "colab_type": "code",
    "id": "K7SESPAgCfKt",
    "outputId": "c1540449-9b76-42ae-dca6-1e2269dbdab1"
   },
   "outputs": [
    {
     "name": "stdout",
     "output_type": "stream",
     "text": [
      "Avaliando o modelo com os pesos weights/architecture_1/training_1.hdf5\n",
      "1336/1336 [==============================] - 1s 623us/step\n",
      "Avaliando o modelo com os pesos weights/architecture_1/training_2.hdf5\n",
      "1336/1336 [==============================] - 1s 523us/step\n",
      "Avaliando o modelo com os pesos weights/architecture_1/training_3.hdf5\n",
      "1336/1336 [==============================] - 1s 527us/step\n",
      "Avaliando o modelo com os pesos weights/architecture_1/training_4.hdf5\n",
      "1336/1336 [==============================] - 1s 535us/step\n",
      "Avaliando o modelo com os pesos weights/architecture_1/training_5.hdf5\n",
      "1336/1336 [==============================] - 1s 519us/step\n",
      "Avaliando o modelo com os pesos weights/architecture_1/training_6.hdf5\n",
      "1336/1336 [==============================] - 1s 530us/step\n",
      "Avaliando o modelo com os pesos weights/architecture_1/training_7.hdf5\n",
      "1336/1336 [==============================] - 1s 549us/step\n",
      "Avaliando o modelo com os pesos weights/architecture_1/training_8.hdf5\n",
      "1336/1336 [==============================] - 1s 538us/step\n",
      "Avaliando o modelo com os pesos weights/architecture_1/training_9.hdf5\n",
      "1336/1336 [==============================] - 1s 564us/step\n",
      "Avaliando o modelo com os pesos weights/architecture_1/training_10.hdf5\n",
      "1336/1336 [==============================] - 1s 549us/step\n"
     ]
    }
   ],
   "source": [
    "architecture_1_results = evaluate_multiple_weights(model_builder=model_1, times=10,\n",
    "                                                   weights_path_format='weights/architecture_1/training_{}.hdf5',\n",
    "                                                   x=X_test, y=y_test)"
   ]
  },
  {
   "cell_type": "code",
   "execution_count": 0,
   "metadata": {
    "colab": {
     "base_uri": "https://localhost:8080/",
     "height": 359
    },
    "colab_type": "code",
    "id": "Qko3kph5DNOJ",
    "outputId": "1051da61-072f-4363-8393-ec5da0596a4c"
   },
   "outputs": [
    {
     "data": {
      "text/html": [
       "<div>\n",
       "<style scoped>\n",
       "    .dataframe tbody tr th:only-of-type {\n",
       "        vertical-align: middle;\n",
       "    }\n",
       "\n",
       "    .dataframe tbody tr th {\n",
       "        vertical-align: top;\n",
       "    }\n",
       "\n",
       "    .dataframe thead th {\n",
       "        text-align: right;\n",
       "    }\n",
       "</style>\n",
       "<table border=\"1\" class=\"dataframe\">\n",
       "  <thead>\n",
       "    <tr style=\"text-align: right;\">\n",
       "      <th></th>\n",
       "      <th>Loss</th>\n",
       "      <th>Accuracy</th>\n",
       "    </tr>\n",
       "  </thead>\n",
       "  <tbody>\n",
       "    <tr>\n",
       "      <th>1</th>\n",
       "      <td>1.063956</td>\n",
       "      <td>0.5</td>\n",
       "    </tr>\n",
       "    <tr>\n",
       "      <th>2</th>\n",
       "      <td>0.992195</td>\n",
       "      <td>0.5</td>\n",
       "    </tr>\n",
       "    <tr>\n",
       "      <th>3</th>\n",
       "      <td>1.021511</td>\n",
       "      <td>0.5</td>\n",
       "    </tr>\n",
       "    <tr>\n",
       "      <th>4</th>\n",
       "      <td>0.752080</td>\n",
       "      <td>0.5</td>\n",
       "    </tr>\n",
       "    <tr>\n",
       "      <th>5</th>\n",
       "      <td>1.099998</td>\n",
       "      <td>0.5</td>\n",
       "    </tr>\n",
       "    <tr>\n",
       "      <th>6</th>\n",
       "      <td>0.969572</td>\n",
       "      <td>0.5</td>\n",
       "    </tr>\n",
       "    <tr>\n",
       "      <th>7</th>\n",
       "      <td>0.945639</td>\n",
       "      <td>0.5</td>\n",
       "    </tr>\n",
       "    <tr>\n",
       "      <th>8</th>\n",
       "      <td>0.936306</td>\n",
       "      <td>0.5</td>\n",
       "    </tr>\n",
       "    <tr>\n",
       "      <th>9</th>\n",
       "      <td>0.872787</td>\n",
       "      <td>0.5</td>\n",
       "    </tr>\n",
       "    <tr>\n",
       "      <th>10</th>\n",
       "      <td>0.842139</td>\n",
       "      <td>0.5</td>\n",
       "    </tr>\n",
       "  </tbody>\n",
       "</table>\n",
       "</div>"
      ],
      "text/plain": [
       "        Loss  Accuracy\n",
       "1   1.063956       0.5\n",
       "2   0.992195       0.5\n",
       "3   1.021511       0.5\n",
       "4   0.752080       0.5\n",
       "5   1.099998       0.5\n",
       "6   0.969572       0.5\n",
       "7   0.945639       0.5\n",
       "8   0.936306       0.5\n",
       "9   0.872787       0.5\n",
       "10  0.842139       0.5"
      ]
     },
     "execution_count": 19,
     "metadata": {
      "tags": []
     },
     "output_type": "execute_result"
    }
   ],
   "source": [
    "show_results_df(architecture_1_results)"
   ]
  },
  {
   "cell_type": "code",
   "execution_count": 0,
   "metadata": {
    "colab": {
     "base_uri": "https://localhost:8080/",
     "height": 297
    },
    "colab_type": "code",
    "id": "qXno0EcHMUaE",
    "outputId": "0e14f898-beab-4304-8103-3f043f796ae7"
   },
   "outputs": [
    {
     "data": {
      "text/html": [
       "<div>\n",
       "<style scoped>\n",
       "    .dataframe tbody tr th:only-of-type {\n",
       "        vertical-align: middle;\n",
       "    }\n",
       "\n",
       "    .dataframe tbody tr th {\n",
       "        vertical-align: top;\n",
       "    }\n",
       "\n",
       "    .dataframe thead th {\n",
       "        text-align: right;\n",
       "    }\n",
       "</style>\n",
       "<table border=\"1\" class=\"dataframe\">\n",
       "  <thead>\n",
       "    <tr style=\"text-align: right;\">\n",
       "      <th></th>\n",
       "      <th>Loss</th>\n",
       "      <th>Accuracy</th>\n",
       "    </tr>\n",
       "  </thead>\n",
       "  <tbody>\n",
       "    <tr>\n",
       "      <th>count</th>\n",
       "      <td>10.000000</td>\n",
       "      <td>10.0</td>\n",
       "    </tr>\n",
       "    <tr>\n",
       "      <th>mean</th>\n",
       "      <td>0.949618</td>\n",
       "      <td>0.5</td>\n",
       "    </tr>\n",
       "    <tr>\n",
       "      <th>std</th>\n",
       "      <td>0.105270</td>\n",
       "      <td>0.0</td>\n",
       "    </tr>\n",
       "    <tr>\n",
       "      <th>min</th>\n",
       "      <td>0.752080</td>\n",
       "      <td>0.5</td>\n",
       "    </tr>\n",
       "    <tr>\n",
       "      <th>25%</th>\n",
       "      <td>0.888667</td>\n",
       "      <td>0.5</td>\n",
       "    </tr>\n",
       "    <tr>\n",
       "      <th>50%</th>\n",
       "      <td>0.957605</td>\n",
       "      <td>0.5</td>\n",
       "    </tr>\n",
       "    <tr>\n",
       "      <th>75%</th>\n",
       "      <td>1.014182</td>\n",
       "      <td>0.5</td>\n",
       "    </tr>\n",
       "    <tr>\n",
       "      <th>max</th>\n",
       "      <td>1.099998</td>\n",
       "      <td>0.5</td>\n",
       "    </tr>\n",
       "  </tbody>\n",
       "</table>\n",
       "</div>"
      ],
      "text/plain": [
       "            Loss  Accuracy\n",
       "count  10.000000      10.0\n",
       "mean    0.949618       0.5\n",
       "std     0.105270       0.0\n",
       "min     0.752080       0.5\n",
       "25%     0.888667       0.5\n",
       "50%     0.957605       0.5\n",
       "75%     1.014182       0.5\n",
       "max     1.099998       0.5"
      ]
     },
     "execution_count": 20,
     "metadata": {
      "tags": []
     },
     "output_type": "execute_result"
    }
   ],
   "source": [
    "show_results_df(architecture_1_results, describe=True)"
   ]
  },
  {
   "cell_type": "markdown",
   "metadata": {
    "colab_type": "text",
    "id": "Ej0N5B86VMHF"
   },
   "source": [
    "### Arquitetura 2"
   ]
  },
  {
   "cell_type": "markdown",
   "metadata": {
    "colab_type": "text",
    "id": "7TLWpYR8cBV_"
   },
   "source": [
    "#### Treino"
   ]
  },
  {
   "cell_type": "code",
   "execution_count": 0,
   "metadata": {
    "colab": {},
    "colab_type": "code",
    "id": "8nnYO9sacBWC"
   },
   "outputs": [],
   "source": [
    "c_train  = load_images('Dataset_2/Train/C', filetype='tif', size=(128, 128))\n",
    "nc_train = load_images('Dataset_2/Train/NC', filetype='tif', size=(128, 128))\n",
    "\n",
    "c_validation  = load_images('Dataset_2/Validation/C', filetype='tif', size=(128, 128))\n",
    "nc_validation = load_images('Dataset_2/Validation/NC', filetype='tif', size=(128, 128))"
   ]
  },
  {
   "cell_type": "code",
   "execution_count": 0,
   "metadata": {
    "colab": {},
    "colab_type": "code",
    "id": "q-IIwYegcBWH"
   },
   "outputs": [],
   "source": [
    "X_train, y_train = prepare_data(c_train, nc_train, normalization_method=1, return_y=True)\n",
    "X_validation, y_validation = prepare_data(c_validation, nc_validation, normalization_method=1, return_y=True)"
   ]
  },
  {
   "cell_type": "code",
   "execution_count": 0,
   "metadata": {
    "colab": {
     "base_uri": "https://localhost:8080/",
     "height": 187
    },
    "colab_type": "code",
    "id": "WnMsgN-ycBWL",
    "outputId": "9760e4ad-85e2-4add-bdf0-75c773b4036c"
   },
   "outputs": [
    {
     "name": "stdout",
     "output_type": "stream",
     "text": [
      "Treinamento 1 de 10, os pesos serão salvos em weights/architecture_2/training_1.hdf5\n",
      "Treinamento 2 de 10, os pesos serão salvos em weights/architecture_2/training_2.hdf5\n",
      "Treinamento 3 de 10, os pesos serão salvos em weights/architecture_2/training_3.hdf5\n",
      "Treinamento 4 de 10, os pesos serão salvos em weights/architecture_2/training_4.hdf5\n",
      "Treinamento 5 de 10, os pesos serão salvos em weights/architecture_2/training_5.hdf5\n",
      "Treinamento 6 de 10, os pesos serão salvos em weights/architecture_2/training_6.hdf5\n",
      "Treinamento 7 de 10, os pesos serão salvos em weights/architecture_2/training_7.hdf5\n",
      "Treinamento 8 de 10, os pesos serão salvos em weights/architecture_2/training_8.hdf5\n",
      "Treinamento 9 de 10, os pesos serão salvos em weights/architecture_2/training_9.hdf5\n",
      "Treinamento 10 de 10, os pesos serão salvos em weights/architecture_2/training_10.hdf5\n"
     ]
    }
   ],
   "source": [
    "train_multiple_times(model_builder=model_2, times=10, weights_path_format='weights/architecture_2/training_{}.hdf5',\n",
    "                     x=X_train, y=y_train, batch_size=32, epochs=50, validation_data=(X_validation, y_validation))"
   ]
  },
  {
   "cell_type": "markdown",
   "metadata": {
    "colab_type": "text",
    "id": "J0YR7k6icBWd"
   },
   "source": [
    "#### Avaliação"
   ]
  },
  {
   "cell_type": "code",
   "execution_count": 0,
   "metadata": {
    "colab": {},
    "colab_type": "code",
    "id": "NmghVBKRcBWf"
   },
   "outputs": [],
   "source": [
    "c_test  = load_images('Dataset_2/Test/C', filetype='tif', size=(128, 128))\n",
    "nc_test = load_images('Dataset_2/Test/NC', filetype='tif', size=(128, 128))"
   ]
  },
  {
   "cell_type": "code",
   "execution_count": 0,
   "metadata": {
    "colab": {},
    "colab_type": "code",
    "id": "IUv16QIvcBWj"
   },
   "outputs": [],
   "source": [
    "X_test, y_test = prepare_data(c_test, nc_test, normalization_method=1, return_y=True)"
   ]
  },
  {
   "cell_type": "code",
   "execution_count": 0,
   "metadata": {
    "colab": {
     "base_uri": "https://localhost:8080/",
     "height": 357
    },
    "colab_type": "code",
    "id": "G8ziJS8ycBWu",
    "outputId": "fe2676d8-2922-4323-8850-ba7b4adb2a9a"
   },
   "outputs": [
    {
     "name": "stdout",
     "output_type": "stream",
     "text": [
      "Avaliando o modelo com os pesos weights/architecture_2/training_1.hdf5\n",
      "1336/1336 [==============================] - 1s 938us/step\n",
      "Avaliando o modelo com os pesos weights/architecture_2/training_2.hdf5\n",
      "1336/1336 [==============================] - 1s 884us/step\n",
      "Avaliando o modelo com os pesos weights/architecture_2/training_3.hdf5\n",
      "1336/1336 [==============================] - 1s 842us/step\n",
      "Avaliando o modelo com os pesos weights/architecture_2/training_4.hdf5\n",
      "1336/1336 [==============================] - 1s 853us/step\n",
      "Avaliando o modelo com os pesos weights/architecture_2/training_5.hdf5\n",
      "1336/1336 [==============================] - 1s 853us/step\n",
      "Avaliando o modelo com os pesos weights/architecture_2/training_6.hdf5\n",
      "1336/1336 [==============================] - 1s 867us/step\n",
      "Avaliando o modelo com os pesos weights/architecture_2/training_7.hdf5\n",
      "1336/1336 [==============================] - 1s 878us/step\n",
      "Avaliando o modelo com os pesos weights/architecture_2/training_8.hdf5\n",
      "1336/1336 [==============================] - 1s 894us/step\n",
      "Avaliando o modelo com os pesos weights/architecture_2/training_9.hdf5\n",
      "1336/1336 [==============================] - 1s 903us/step\n",
      "Avaliando o modelo com os pesos weights/architecture_2/training_10.hdf5\n",
      "1336/1336 [==============================] - 1s 915us/step\n"
     ]
    }
   ],
   "source": [
    "architecture_2_results = evaluate_multiple_weights(model_builder=model_2, times=10,\n",
    "                                                   weights_path_format='weights/architecture_2/training_{}.hdf5',\n",
    "                                                   x=X_test, y=y_test)"
   ]
  },
  {
   "cell_type": "code",
   "execution_count": 0,
   "metadata": {
    "colab": {
     "base_uri": "https://localhost:8080/",
     "height": 359
    },
    "colab_type": "code",
    "id": "TULJ0Y9acBWz",
    "outputId": "ad889ca6-8586-4a7c-ef6a-94ca1ab30472"
   },
   "outputs": [
    {
     "data": {
      "text/html": [
       "<div>\n",
       "<style scoped>\n",
       "    .dataframe tbody tr th:only-of-type {\n",
       "        vertical-align: middle;\n",
       "    }\n",
       "\n",
       "    .dataframe tbody tr th {\n",
       "        vertical-align: top;\n",
       "    }\n",
       "\n",
       "    .dataframe thead th {\n",
       "        text-align: right;\n",
       "    }\n",
       "</style>\n",
       "<table border=\"1\" class=\"dataframe\">\n",
       "  <thead>\n",
       "    <tr style=\"text-align: right;\">\n",
       "      <th></th>\n",
       "      <th>Loss</th>\n",
       "      <th>Accuracy</th>\n",
       "    </tr>\n",
       "  </thead>\n",
       "  <tbody>\n",
       "    <tr>\n",
       "      <th>1</th>\n",
       "      <td>1.027502</td>\n",
       "      <td>0.775449</td>\n",
       "    </tr>\n",
       "    <tr>\n",
       "      <th>2</th>\n",
       "      <td>0.723167</td>\n",
       "      <td>0.500000</td>\n",
       "    </tr>\n",
       "    <tr>\n",
       "      <th>3</th>\n",
       "      <td>0.284006</td>\n",
       "      <td>0.890719</td>\n",
       "    </tr>\n",
       "    <tr>\n",
       "      <th>4</th>\n",
       "      <td>0.507106</td>\n",
       "      <td>0.723054</td>\n",
       "    </tr>\n",
       "    <tr>\n",
       "      <th>5</th>\n",
       "      <td>0.519164</td>\n",
       "      <td>0.857784</td>\n",
       "    </tr>\n",
       "    <tr>\n",
       "      <th>6</th>\n",
       "      <td>0.484520</td>\n",
       "      <td>0.841317</td>\n",
       "    </tr>\n",
       "    <tr>\n",
       "      <th>7</th>\n",
       "      <td>1.226472</td>\n",
       "      <td>0.500000</td>\n",
       "    </tr>\n",
       "    <tr>\n",
       "      <th>8</th>\n",
       "      <td>0.610360</td>\n",
       "      <td>0.821856</td>\n",
       "    </tr>\n",
       "    <tr>\n",
       "      <th>9</th>\n",
       "      <td>1.123815</td>\n",
       "      <td>0.500000</td>\n",
       "    </tr>\n",
       "    <tr>\n",
       "      <th>10</th>\n",
       "      <td>0.466113</td>\n",
       "      <td>0.801647</td>\n",
       "    </tr>\n",
       "  </tbody>\n",
       "</table>\n",
       "</div>"
      ],
      "text/plain": [
       "        Loss  Accuracy\n",
       "1   1.027502  0.775449\n",
       "2   0.723167  0.500000\n",
       "3   0.284006  0.890719\n",
       "4   0.507106  0.723054\n",
       "5   0.519164  0.857784\n",
       "6   0.484520  0.841317\n",
       "7   1.226472  0.500000\n",
       "8   0.610360  0.821856\n",
       "9   1.123815  0.500000\n",
       "10  0.466113  0.801647"
      ]
     },
     "execution_count": 29,
     "metadata": {
      "tags": []
     },
     "output_type": "execute_result"
    }
   ],
   "source": [
    "show_results_df(architecture_2_results)"
   ]
  },
  {
   "cell_type": "code",
   "execution_count": 0,
   "metadata": {
    "colab": {
     "base_uri": "https://localhost:8080/",
     "height": 297
    },
    "colab_type": "code",
    "id": "_bIR0_c9cBW9",
    "outputId": "59be7493-f566-4d0c-ea8c-83a21495adda"
   },
   "outputs": [
    {
     "data": {
      "text/html": [
       "<div>\n",
       "<style scoped>\n",
       "    .dataframe tbody tr th:only-of-type {\n",
       "        vertical-align: middle;\n",
       "    }\n",
       "\n",
       "    .dataframe tbody tr th {\n",
       "        vertical-align: top;\n",
       "    }\n",
       "\n",
       "    .dataframe thead th {\n",
       "        text-align: right;\n",
       "    }\n",
       "</style>\n",
       "<table border=\"1\" class=\"dataframe\">\n",
       "  <thead>\n",
       "    <tr style=\"text-align: right;\">\n",
       "      <th></th>\n",
       "      <th>Loss</th>\n",
       "      <th>Accuracy</th>\n",
       "    </tr>\n",
       "  </thead>\n",
       "  <tbody>\n",
       "    <tr>\n",
       "      <th>count</th>\n",
       "      <td>10.000000</td>\n",
       "      <td>10.000000</td>\n",
       "    </tr>\n",
       "    <tr>\n",
       "      <th>mean</th>\n",
       "      <td>0.697223</td>\n",
       "      <td>0.721183</td>\n",
       "    </tr>\n",
       "    <tr>\n",
       "      <th>std</th>\n",
       "      <td>0.319138</td>\n",
       "      <td>0.159220</td>\n",
       "    </tr>\n",
       "    <tr>\n",
       "      <th>min</th>\n",
       "      <td>0.284006</td>\n",
       "      <td>0.500000</td>\n",
       "    </tr>\n",
       "    <tr>\n",
       "      <th>25%</th>\n",
       "      <td>0.490167</td>\n",
       "      <td>0.555763</td>\n",
       "    </tr>\n",
       "    <tr>\n",
       "      <th>50%</th>\n",
       "      <td>0.564762</td>\n",
       "      <td>0.788548</td>\n",
       "    </tr>\n",
       "    <tr>\n",
       "      <th>75%</th>\n",
       "      <td>0.951419</td>\n",
       "      <td>0.836452</td>\n",
       "    </tr>\n",
       "    <tr>\n",
       "      <th>max</th>\n",
       "      <td>1.226472</td>\n",
       "      <td>0.890719</td>\n",
       "    </tr>\n",
       "  </tbody>\n",
       "</table>\n",
       "</div>"
      ],
      "text/plain": [
       "            Loss   Accuracy\n",
       "count  10.000000  10.000000\n",
       "mean    0.697223   0.721183\n",
       "std     0.319138   0.159220\n",
       "min     0.284006   0.500000\n",
       "25%     0.490167   0.555763\n",
       "50%     0.564762   0.788548\n",
       "75%     0.951419   0.836452\n",
       "max     1.226472   0.890719"
      ]
     },
     "execution_count": 30,
     "metadata": {
      "tags": []
     },
     "output_type": "execute_result"
    }
   ],
   "source": [
    "show_results_df(architecture_2_results, describe=True)"
   ]
  },
  {
   "cell_type": "markdown",
   "metadata": {
    "colab_type": "text",
    "id": "Kn9M7wBDleL1"
   },
   "source": [
    "### Arquitetura 3"
   ]
  },
  {
   "cell_type": "markdown",
   "metadata": {
    "colab_type": "text",
    "id": "H6IRv1jJleL6"
   },
   "source": [
    "#### Treino"
   ]
  },
  {
   "cell_type": "code",
   "execution_count": 0,
   "metadata": {
    "colab": {},
    "colab_type": "code",
    "id": "r1dNzwV-leL6"
   },
   "outputs": [],
   "source": [
    "c_train  = load_images('Dataset_2/Train/C', filetype='tif', size=(128, 128))\n",
    "nc_train = load_images('Dataset_2/Train/NC', filetype='tif', size=(128, 128))\n",
    "\n",
    "c_validation  = load_images('Dataset_2/Validation/C', filetype='tif', size=(128, 128))\n",
    "nc_validation = load_images('Dataset_2/Validation/NC', filetype='tif', size=(128, 128))"
   ]
  },
  {
   "cell_type": "code",
   "execution_count": 0,
   "metadata": {
    "colab": {},
    "colab_type": "code",
    "id": "dtkRWZveleL-"
   },
   "outputs": [],
   "source": [
    "X_train, y_train = prepare_data(c_train, nc_train, normalization_method=1, return_y=True, y_categorical=True)\n",
    "X_validation, y_validation = prepare_data(c_validation, nc_validation, normalization_method=1, return_y=True, y_categorical=True)"
   ]
  },
  {
   "cell_type": "code",
   "execution_count": 0,
   "metadata": {
    "colab": {
     "base_uri": "https://localhost:8080/",
     "height": 187
    },
    "colab_type": "code",
    "id": "Lvxo3gmXleME",
    "outputId": "5dd8208d-1968-4785-e196-3dc1d896f4a1"
   },
   "outputs": [
    {
     "name": "stdout",
     "output_type": "stream",
     "text": [
      "Treinamento 1 de 10, os pesos serão salvos em weights/architecture_3/training_1.hdf5\n",
      "Treinamento 2 de 10, os pesos serão salvos em weights/architecture_3/training_2.hdf5\n",
      "Treinamento 3 de 10, os pesos serão salvos em weights/architecture_3/training_3.hdf5\n",
      "Treinamento 4 de 10, os pesos serão salvos em weights/architecture_3/training_4.hdf5\n",
      "Treinamento 5 de 10, os pesos serão salvos em weights/architecture_3/training_5.hdf5\n",
      "Treinamento 6 de 10, os pesos serão salvos em weights/architecture_3/training_6.hdf5\n",
      "Treinamento 7 de 10, os pesos serão salvos em weights/architecture_3/training_7.hdf5\n",
      "Treinamento 8 de 10, os pesos serão salvos em weights/architecture_3/training_8.hdf5\n",
      "Treinamento 9 de 10, os pesos serão salvos em weights/architecture_3/training_9.hdf5\n",
      "Treinamento 10 de 10, os pesos serão salvos em weights/architecture_3/training_10.hdf5\n"
     ]
    }
   ],
   "source": [
    "train_multiple_times(model_builder=model_3, times=10, weights_path_format='weights/architecture_3/training_{}.hdf5',\n",
    "                     x=X_train, y=y_train, batch_size=32, epochs=50, validation_data=(X_validation, y_validation))"
   ]
  },
  {
   "cell_type": "markdown",
   "metadata": {
    "colab_type": "text",
    "id": "hUoN90RvleMZ"
   },
   "source": [
    "#### Avaliação"
   ]
  },
  {
   "cell_type": "code",
   "execution_count": 0,
   "metadata": {
    "colab": {},
    "colab_type": "code",
    "id": "twJbh6PYleMa"
   },
   "outputs": [],
   "source": [
    "c_test  = load_images('Dataset_2/Test/C', filetype='tif', size=(128, 128))\n",
    "nc_test = load_images('Dataset_2/Test/NC', filetype='tif', size=(128, 128))"
   ]
  },
  {
   "cell_type": "code",
   "execution_count": 0,
   "metadata": {
    "colab": {},
    "colab_type": "code",
    "id": "_nt-HKasleMi"
   },
   "outputs": [],
   "source": [
    "X_test, y_test = prepare_data(c_test, nc_test, normalization_method=1, return_y=True, y_categorical=True)"
   ]
  },
  {
   "cell_type": "code",
   "execution_count": 0,
   "metadata": {
    "colab": {
     "base_uri": "https://localhost:8080/",
     "height": 357
    },
    "colab_type": "code",
    "id": "BnlRkFgfleMl",
    "outputId": "3c1cded2-13c1-43fa-9bb6-004825f90ed1"
   },
   "outputs": [
    {
     "name": "stdout",
     "output_type": "stream",
     "text": [
      "Avaliando o modelo com os pesos weights/architecture_3/training_1.hdf5\n",
      "1336/1336 [==============================] - 2s 1ms/step\n",
      "Avaliando o modelo com os pesos weights/architecture_3/training_2.hdf5\n",
      "1336/1336 [==============================] - 2s 1ms/step\n",
      "Avaliando o modelo com os pesos weights/architecture_3/training_3.hdf5\n",
      "1336/1336 [==============================] - 2s 1ms/step\n",
      "Avaliando o modelo com os pesos weights/architecture_3/training_4.hdf5\n",
      "1336/1336 [==============================] - 2s 1ms/step\n",
      "Avaliando o modelo com os pesos weights/architecture_3/training_5.hdf5\n",
      "1336/1336 [==============================] - 2s 1ms/step\n",
      "Avaliando o modelo com os pesos weights/architecture_3/training_6.hdf5\n",
      "1336/1336 [==============================] - 2s 1ms/step\n",
      "Avaliando o modelo com os pesos weights/architecture_3/training_7.hdf5\n",
      "1336/1336 [==============================] - 2s 1ms/step\n",
      "Avaliando o modelo com os pesos weights/architecture_3/training_8.hdf5\n",
      "1336/1336 [==============================] - 2s 1ms/step\n",
      "Avaliando o modelo com os pesos weights/architecture_3/training_9.hdf5\n",
      "1336/1336 [==============================] - 2s 1ms/step\n",
      "Avaliando o modelo com os pesos weights/architecture_3/training_10.hdf5\n",
      "1336/1336 [==============================] - 2s 1ms/step\n"
     ]
    }
   ],
   "source": [
    "architecture_3_results = evaluate_multiple_weights(model_builder=model_3, times=10,\n",
    "                                                   weights_path_format='weights/architecture_3/training_{}.hdf5',\n",
    "                                                   x=X_test, y=y_test)"
   ]
  },
  {
   "cell_type": "code",
   "execution_count": 0,
   "metadata": {
    "colab": {
     "base_uri": "https://localhost:8080/",
     "height": 359
    },
    "colab_type": "code",
    "id": "ijRU12lnleMu",
    "outputId": "c1b6a7e2-3b73-4b1a-8269-02183c11bf18"
   },
   "outputs": [
    {
     "data": {
      "text/html": [
       "<div>\n",
       "<style scoped>\n",
       "    .dataframe tbody tr th:only-of-type {\n",
       "        vertical-align: middle;\n",
       "    }\n",
       "\n",
       "    .dataframe tbody tr th {\n",
       "        vertical-align: top;\n",
       "    }\n",
       "\n",
       "    .dataframe thead th {\n",
       "        text-align: right;\n",
       "    }\n",
       "</style>\n",
       "<table border=\"1\" class=\"dataframe\">\n",
       "  <thead>\n",
       "    <tr style=\"text-align: right;\">\n",
       "      <th></th>\n",
       "      <th>Loss</th>\n",
       "      <th>Accuracy</th>\n",
       "    </tr>\n",
       "  </thead>\n",
       "  <tbody>\n",
       "    <tr>\n",
       "      <th>1</th>\n",
       "      <td>0.793165</td>\n",
       "      <td>0.500000</td>\n",
       "    </tr>\n",
       "    <tr>\n",
       "      <th>2</th>\n",
       "      <td>0.300115</td>\n",
       "      <td>0.872006</td>\n",
       "    </tr>\n",
       "    <tr>\n",
       "      <th>3</th>\n",
       "      <td>0.641540</td>\n",
       "      <td>0.517964</td>\n",
       "    </tr>\n",
       "    <tr>\n",
       "      <th>4</th>\n",
       "      <td>2.000733</td>\n",
       "      <td>0.500000</td>\n",
       "    </tr>\n",
       "    <tr>\n",
       "      <th>5</th>\n",
       "      <td>0.425842</td>\n",
       "      <td>0.878743</td>\n",
       "    </tr>\n",
       "    <tr>\n",
       "      <th>6</th>\n",
       "      <td>1.313418</td>\n",
       "      <td>0.500000</td>\n",
       "    </tr>\n",
       "    <tr>\n",
       "      <th>7</th>\n",
       "      <td>1.546329</td>\n",
       "      <td>0.500000</td>\n",
       "    </tr>\n",
       "    <tr>\n",
       "      <th>8</th>\n",
       "      <td>0.400564</td>\n",
       "      <td>0.827096</td>\n",
       "    </tr>\n",
       "    <tr>\n",
       "      <th>9</th>\n",
       "      <td>0.791236</td>\n",
       "      <td>0.500000</td>\n",
       "    </tr>\n",
       "    <tr>\n",
       "      <th>10</th>\n",
       "      <td>0.620607</td>\n",
       "      <td>0.529940</td>\n",
       "    </tr>\n",
       "  </tbody>\n",
       "</table>\n",
       "</div>"
      ],
      "text/plain": [
       "        Loss  Accuracy\n",
       "1   0.793165  0.500000\n",
       "2   0.300115  0.872006\n",
       "3   0.641540  0.517964\n",
       "4   2.000733  0.500000\n",
       "5   0.425842  0.878743\n",
       "6   1.313418  0.500000\n",
       "7   1.546329  0.500000\n",
       "8   0.400564  0.827096\n",
       "9   0.791236  0.500000\n",
       "10  0.620607  0.529940"
      ]
     },
     "execution_count": 52,
     "metadata": {
      "tags": []
     },
     "output_type": "execute_result"
    }
   ],
   "source": [
    "show_results_df(architecture_3_results)"
   ]
  },
  {
   "cell_type": "code",
   "execution_count": 0,
   "metadata": {
    "colab": {
     "base_uri": "https://localhost:8080/",
     "height": 297
    },
    "colab_type": "code",
    "id": "iumQEb2eleM0",
    "outputId": "02c654fe-dd16-4f60-eed4-f898a8c44c3f"
   },
   "outputs": [
    {
     "data": {
      "text/html": [
       "<div>\n",
       "<style scoped>\n",
       "    .dataframe tbody tr th:only-of-type {\n",
       "        vertical-align: middle;\n",
       "    }\n",
       "\n",
       "    .dataframe tbody tr th {\n",
       "        vertical-align: top;\n",
       "    }\n",
       "\n",
       "    .dataframe thead th {\n",
       "        text-align: right;\n",
       "    }\n",
       "</style>\n",
       "<table border=\"1\" class=\"dataframe\">\n",
       "  <thead>\n",
       "    <tr style=\"text-align: right;\">\n",
       "      <th></th>\n",
       "      <th>Loss</th>\n",
       "      <th>Accuracy</th>\n",
       "    </tr>\n",
       "  </thead>\n",
       "  <tbody>\n",
       "    <tr>\n",
       "      <th>count</th>\n",
       "      <td>10.000000</td>\n",
       "      <td>10.000000</td>\n",
       "    </tr>\n",
       "    <tr>\n",
       "      <th>mean</th>\n",
       "      <td>0.883355</td>\n",
       "      <td>0.612575</td>\n",
       "    </tr>\n",
       "    <tr>\n",
       "      <th>std</th>\n",
       "      <td>0.557746</td>\n",
       "      <td>0.171047</td>\n",
       "    </tr>\n",
       "    <tr>\n",
       "      <th>min</th>\n",
       "      <td>0.300115</td>\n",
       "      <td>0.500000</td>\n",
       "    </tr>\n",
       "    <tr>\n",
       "      <th>25%</th>\n",
       "      <td>0.474534</td>\n",
       "      <td>0.500000</td>\n",
       "    </tr>\n",
       "    <tr>\n",
       "      <th>50%</th>\n",
       "      <td>0.716388</td>\n",
       "      <td>0.508982</td>\n",
       "    </tr>\n",
       "    <tr>\n",
       "      <th>75%</th>\n",
       "      <td>1.183355</td>\n",
       "      <td>0.752807</td>\n",
       "    </tr>\n",
       "    <tr>\n",
       "      <th>max</th>\n",
       "      <td>2.000733</td>\n",
       "      <td>0.878743</td>\n",
       "    </tr>\n",
       "  </tbody>\n",
       "</table>\n",
       "</div>"
      ],
      "text/plain": [
       "            Loss   Accuracy\n",
       "count  10.000000  10.000000\n",
       "mean    0.883355   0.612575\n",
       "std     0.557746   0.171047\n",
       "min     0.300115   0.500000\n",
       "25%     0.474534   0.500000\n",
       "50%     0.716388   0.508982\n",
       "75%     1.183355   0.752807\n",
       "max     2.000733   0.878743"
      ]
     },
     "execution_count": 53,
     "metadata": {
      "tags": []
     },
     "output_type": "execute_result"
    }
   ],
   "source": [
    "show_results_df(architecture_3_results, describe=True)"
   ]
  },
  {
   "cell_type": "markdown",
   "metadata": {
    "colab_type": "text",
    "id": "0rp9x0Q7yjQ0"
   },
   "source": [
    "### Arquitetura 4"
   ]
  },
  {
   "cell_type": "markdown",
   "metadata": {
    "colab_type": "text",
    "id": "7GVRzMejyjQ2"
   },
   "source": [
    "#### Treino"
   ]
  },
  {
   "cell_type": "code",
   "execution_count": 0,
   "metadata": {
    "colab": {},
    "colab_type": "code",
    "id": "tukBe2XhyjQ8"
   },
   "outputs": [],
   "source": [
    "c_train  = load_images('Dataset_2/Train/C', filetype='tif', size=(128, 128))\n",
    "nc_train = load_images('Dataset_2/Train/NC', filetype='tif', size=(128, 128))\n",
    "\n",
    "c_validation  = load_images('Dataset_2/Validation/C', filetype='tif', size=(128, 128))\n",
    "nc_validation = load_images('Dataset_2/Validation/NC', filetype='tif', size=(128, 128))"
   ]
  },
  {
   "cell_type": "code",
   "execution_count": 0,
   "metadata": {
    "colab": {},
    "colab_type": "code",
    "id": "aI-X6XbHyjRB"
   },
   "outputs": [],
   "source": [
    "X_train, y_train = prepare_data(c_train, nc_train, normalization_method=2, return_y=True)\n",
    "X_validation, y_validation = prepare_data(c_validation, nc_validation, normalization_method=2, return_y=True)"
   ]
  },
  {
   "cell_type": "code",
   "execution_count": 0,
   "metadata": {
    "colab": {
     "base_uri": "https://localhost:8080/",
     "height": 187
    },
    "colab_type": "code",
    "id": "o4weNgJDyjRI",
    "outputId": "e39227ab-04ca-48af-82bf-fa30ad5150f8"
   },
   "outputs": [
    {
     "name": "stdout",
     "output_type": "stream",
     "text": [
      "Treinamento 1 de 10, os pesos serão salvos em weights/architecture_4/training_1.hdf5\n",
      "Treinamento 2 de 10, os pesos serão salvos em weights/architecture_4/training_2.hdf5\n",
      "Treinamento 3 de 10, os pesos serão salvos em weights/architecture_4/training_3.hdf5\n",
      "Treinamento 4 de 10, os pesos serão salvos em weights/architecture_4/training_4.hdf5\n",
      "Treinamento 5 de 10, os pesos serão salvos em weights/architecture_4/training_5.hdf5\n",
      "Treinamento 6 de 10, os pesos serão salvos em weights/architecture_4/training_6.hdf5\n",
      "Treinamento 7 de 10, os pesos serão salvos em weights/architecture_4/training_7.hdf5\n",
      "Treinamento 8 de 10, os pesos serão salvos em weights/architecture_4/training_8.hdf5\n",
      "Treinamento 9 de 10, os pesos serão salvos em weights/architecture_4/training_9.hdf5\n",
      "Treinamento 10 de 10, os pesos serão salvos em weights/architecture_4/training_10.hdf5\n"
     ]
    }
   ],
   "source": [
    "train_multiple_times(model_builder=model_2, times=10, weights_path_format='weights/architecture_4/training_{}.hdf5',\n",
    "                     x=X_train, y=y_train, batch_size=32, epochs=50, validation_data=(X_validation, y_validation))"
   ]
  },
  {
   "cell_type": "markdown",
   "metadata": {
    "colab_type": "text",
    "id": "00Chy0dzyjRl"
   },
   "source": [
    "#### Avaliação"
   ]
  },
  {
   "cell_type": "code",
   "execution_count": 0,
   "metadata": {
    "colab": {},
    "colab_type": "code",
    "id": "_vUR_qcpyjRm"
   },
   "outputs": [],
   "source": [
    "c_test  = load_images('Dataset_2/Test/C', filetype='tif', size=(128, 128))\n",
    "nc_test = load_images('Dataset_2/Test/NC', filetype='tif', size=(128, 128))"
   ]
  },
  {
   "cell_type": "code",
   "execution_count": 0,
   "metadata": {
    "colab": {},
    "colab_type": "code",
    "id": "dHSibWvqyjRs"
   },
   "outputs": [],
   "source": [
    "X_test, y_test = prepare_data(c_test, nc_test, normalization_method=2, return_y=True)"
   ]
  },
  {
   "cell_type": "code",
   "execution_count": 0,
   "metadata": {
    "colab": {
     "base_uri": "https://localhost:8080/",
     "height": 357
    },
    "colab_type": "code",
    "id": "z9FgqZ-8yjRw",
    "outputId": "d03766e3-1ac7-4739-863e-7c13006003da"
   },
   "outputs": [
    {
     "name": "stdout",
     "output_type": "stream",
     "text": [
      "Avaliando o modelo com os pesos weights/architecture_4/training_1.hdf5\n",
      "1336/1336 [==============================] - 2s 2ms/step\n",
      "Avaliando o modelo com os pesos weights/architecture_4/training_2.hdf5\n",
      "1336/1336 [==============================] - 2s 2ms/step\n",
      "Avaliando o modelo com os pesos weights/architecture_4/training_3.hdf5\n",
      "1336/1336 [==============================] - 2s 2ms/step\n",
      "Avaliando o modelo com os pesos weights/architecture_4/training_4.hdf5\n",
      "1336/1336 [==============================] - 2s 2ms/step\n",
      "Avaliando o modelo com os pesos weights/architecture_4/training_5.hdf5\n",
      "1336/1336 [==============================] - 2s 2ms/step\n",
      "Avaliando o modelo com os pesos weights/architecture_4/training_6.hdf5\n",
      "1336/1336 [==============================] - 2s 2ms/step\n",
      "Avaliando o modelo com os pesos weights/architecture_4/training_7.hdf5\n",
      "1336/1336 [==============================] - 2s 2ms/step\n",
      "Avaliando o modelo com os pesos weights/architecture_4/training_8.hdf5\n",
      "1336/1336 [==============================] - 2s 2ms/step\n",
      "Avaliando o modelo com os pesos weights/architecture_4/training_9.hdf5\n",
      "1336/1336 [==============================] - 2s 2ms/step\n",
      "Avaliando o modelo com os pesos weights/architecture_4/training_10.hdf5\n",
      "1336/1336 [==============================] - 2s 2ms/step\n"
     ]
    }
   ],
   "source": [
    "architecture_4_results = evaluate_multiple_weights(model_builder=model_2, times=10,\n",
    "                                                   weights_path_format='weights/architecture_4/training_{}.hdf5',\n",
    "                                                   x=X_test, y=y_test)"
   ]
  },
  {
   "cell_type": "code",
   "execution_count": 0,
   "metadata": {
    "colab": {
     "base_uri": "https://localhost:8080/",
     "height": 359
    },
    "colab_type": "code",
    "id": "CG24tZvLyjR6",
    "outputId": "9eaba0ff-68ee-4bca-f902-5738e68a9194"
   },
   "outputs": [
    {
     "data": {
      "text/html": [
       "<div>\n",
       "<style scoped>\n",
       "    .dataframe tbody tr th:only-of-type {\n",
       "        vertical-align: middle;\n",
       "    }\n",
       "\n",
       "    .dataframe tbody tr th {\n",
       "        vertical-align: top;\n",
       "    }\n",
       "\n",
       "    .dataframe thead th {\n",
       "        text-align: right;\n",
       "    }\n",
       "</style>\n",
       "<table border=\"1\" class=\"dataframe\">\n",
       "  <thead>\n",
       "    <tr style=\"text-align: right;\">\n",
       "      <th></th>\n",
       "      <th>Loss</th>\n",
       "      <th>Accuracy</th>\n",
       "    </tr>\n",
       "  </thead>\n",
       "  <tbody>\n",
       "    <tr>\n",
       "      <th>1</th>\n",
       "      <td>0.491432</td>\n",
       "      <td>0.866766</td>\n",
       "    </tr>\n",
       "    <tr>\n",
       "      <th>2</th>\n",
       "      <td>0.382551</td>\n",
       "      <td>0.848054</td>\n",
       "    </tr>\n",
       "    <tr>\n",
       "      <th>3</th>\n",
       "      <td>0.598055</td>\n",
       "      <td>0.828593</td>\n",
       "    </tr>\n",
       "    <tr>\n",
       "      <th>4</th>\n",
       "      <td>0.419838</td>\n",
       "      <td>0.824102</td>\n",
       "    </tr>\n",
       "    <tr>\n",
       "      <th>5</th>\n",
       "      <td>0.624843</td>\n",
       "      <td>0.657934</td>\n",
       "    </tr>\n",
       "    <tr>\n",
       "      <th>6</th>\n",
       "      <td>0.677937</td>\n",
       "      <td>0.512725</td>\n",
       "    </tr>\n",
       "    <tr>\n",
       "      <th>7</th>\n",
       "      <td>0.347476</td>\n",
       "      <td>0.843563</td>\n",
       "    </tr>\n",
       "    <tr>\n",
       "      <th>8</th>\n",
       "      <td>0.786716</td>\n",
       "      <td>0.500000</td>\n",
       "    </tr>\n",
       "    <tr>\n",
       "      <th>9</th>\n",
       "      <td>0.597257</td>\n",
       "      <td>0.843563</td>\n",
       "    </tr>\n",
       "    <tr>\n",
       "      <th>10</th>\n",
       "      <td>0.810857</td>\n",
       "      <td>0.500000</td>\n",
       "    </tr>\n",
       "  </tbody>\n",
       "</table>\n",
       "</div>"
      ],
      "text/plain": [
       "        Loss  Accuracy\n",
       "1   0.491432  0.866766\n",
       "2   0.382551  0.848054\n",
       "3   0.598055  0.828593\n",
       "4   0.419838  0.824102\n",
       "5   0.624843  0.657934\n",
       "6   0.677937  0.512725\n",
       "7   0.347476  0.843563\n",
       "8   0.786716  0.500000\n",
       "9   0.597257  0.843563\n",
       "10  0.810857  0.500000"
      ]
     },
     "execution_count": 62,
     "metadata": {
      "tags": []
     },
     "output_type": "execute_result"
    }
   ],
   "source": [
    "show_results_df(architecture_4_results)"
   ]
  },
  {
   "cell_type": "code",
   "execution_count": 0,
   "metadata": {
    "colab": {
     "base_uri": "https://localhost:8080/",
     "height": 297
    },
    "colab_type": "code",
    "id": "6DegLGlGyjSH",
    "outputId": "008f15ca-ae17-4b9e-b669-5129125ac840"
   },
   "outputs": [
    {
     "data": {
      "text/html": [
       "<div>\n",
       "<style scoped>\n",
       "    .dataframe tbody tr th:only-of-type {\n",
       "        vertical-align: middle;\n",
       "    }\n",
       "\n",
       "    .dataframe tbody tr th {\n",
       "        vertical-align: top;\n",
       "    }\n",
       "\n",
       "    .dataframe thead th {\n",
       "        text-align: right;\n",
       "    }\n",
       "</style>\n",
       "<table border=\"1\" class=\"dataframe\">\n",
       "  <thead>\n",
       "    <tr style=\"text-align: right;\">\n",
       "      <th></th>\n",
       "      <th>Loss</th>\n",
       "      <th>Accuracy</th>\n",
       "    </tr>\n",
       "  </thead>\n",
       "  <tbody>\n",
       "    <tr>\n",
       "      <th>count</th>\n",
       "      <td>10.000000</td>\n",
       "      <td>10.000000</td>\n",
       "    </tr>\n",
       "    <tr>\n",
       "      <th>mean</th>\n",
       "      <td>0.573696</td>\n",
       "      <td>0.722530</td>\n",
       "    </tr>\n",
       "    <tr>\n",
       "      <th>std</th>\n",
       "      <td>0.161385</td>\n",
       "      <td>0.161471</td>\n",
       "    </tr>\n",
       "    <tr>\n",
       "      <th>min</th>\n",
       "      <td>0.347476</td>\n",
       "      <td>0.500000</td>\n",
       "    </tr>\n",
       "    <tr>\n",
       "      <th>25%</th>\n",
       "      <td>0.437736</td>\n",
       "      <td>0.549027</td>\n",
       "    </tr>\n",
       "    <tr>\n",
       "      <th>50%</th>\n",
       "      <td>0.597656</td>\n",
       "      <td>0.826347</td>\n",
       "    </tr>\n",
       "    <tr>\n",
       "      <th>75%</th>\n",
       "      <td>0.664664</td>\n",
       "      <td>0.843563</td>\n",
       "    </tr>\n",
       "    <tr>\n",
       "      <th>max</th>\n",
       "      <td>0.810857</td>\n",
       "      <td>0.866766</td>\n",
       "    </tr>\n",
       "  </tbody>\n",
       "</table>\n",
       "</div>"
      ],
      "text/plain": [
       "            Loss   Accuracy\n",
       "count  10.000000  10.000000\n",
       "mean    0.573696   0.722530\n",
       "std     0.161385   0.161471\n",
       "min     0.347476   0.500000\n",
       "25%     0.437736   0.549027\n",
       "50%     0.597656   0.826347\n",
       "75%     0.664664   0.843563\n",
       "max     0.810857   0.866766"
      ]
     },
     "execution_count": 63,
     "metadata": {
      "tags": []
     },
     "output_type": "execute_result"
    }
   ],
   "source": [
    "show_results_df(architecture_4_results, describe=True)"
   ]
  },
  {
   "cell_type": "markdown",
   "metadata": {
    "colab_type": "text",
    "id": "ry1iBJ21-RwO"
   },
   "source": [
    "### Arquitetura 5"
   ]
  },
  {
   "cell_type": "markdown",
   "metadata": {
    "colab_type": "text",
    "id": "BiD68Gsr-RwQ"
   },
   "source": [
    "#### Treino"
   ]
  },
  {
   "cell_type": "code",
   "execution_count": 0,
   "metadata": {
    "colab": {},
    "colab_type": "code",
    "id": "fZwcNUnN-RwR"
   },
   "outputs": [],
   "source": [
    "c_train  = load_images('Dataset_2/Train/C', filetype='tif', size=(128, 128))\n",
    "nc_train = load_images('Dataset_2/Train/NC', filetype='tif', size=(128, 128))\n",
    "\n",
    "c_validation  = load_images('Dataset_2/Validation/C', filetype='tif', size=(128, 128))\n",
    "nc_validation = load_images('Dataset_2/Validation/NC', filetype='tif', size=(128, 128))"
   ]
  },
  {
   "cell_type": "code",
   "execution_count": 0,
   "metadata": {
    "colab": {},
    "colab_type": "code",
    "id": "tusG_kwQ-Rwd"
   },
   "outputs": [],
   "source": [
    "X_train, y_train = prepare_data(c_train, nc_train, normalization_method=3, return_y=True)\n",
    "X_validation, y_validation = prepare_data(c_validation, nc_validation, normalization_method=3, return_y=True)"
   ]
  },
  {
   "cell_type": "code",
   "execution_count": 0,
   "metadata": {
    "colab": {
     "base_uri": "https://localhost:8080/",
     "height": 187
    },
    "colab_type": "code",
    "id": "TyXONvAp-Rwi",
    "outputId": "58203c66-1a92-48f1-cdf6-9e61fc34473b"
   },
   "outputs": [
    {
     "name": "stdout",
     "output_type": "stream",
     "text": [
      "Treinamento 1 de 10, os pesos serão salvos em weights/architecture_5/training_1.hdf5\n",
      "Treinamento 2 de 10, os pesos serão salvos em weights/architecture_5/training_2.hdf5\n",
      "Treinamento 3 de 10, os pesos serão salvos em weights/architecture_5/training_3.hdf5\n",
      "Treinamento 4 de 10, os pesos serão salvos em weights/architecture_5/training_4.hdf5\n",
      "Treinamento 5 de 10, os pesos serão salvos em weights/architecture_5/training_5.hdf5\n",
      "Treinamento 6 de 10, os pesos serão salvos em weights/architecture_5/training_6.hdf5\n",
      "Treinamento 7 de 10, os pesos serão salvos em weights/architecture_5/training_7.hdf5\n",
      "Treinamento 8 de 10, os pesos serão salvos em weights/architecture_5/training_8.hdf5\n",
      "Treinamento 9 de 10, os pesos serão salvos em weights/architecture_5/training_9.hdf5\n",
      "Treinamento 10 de 10, os pesos serão salvos em weights/architecture_5/training_10.hdf5\n"
     ]
    }
   ],
   "source": [
    "train_multiple_times(model_builder=model_2, times=10, weights_path_format='weights/architecture_5/training_{}.hdf5',\n",
    "                     x=X_train, y=y_train, batch_size=32, epochs=50, validation_data=(X_validation, y_validation))"
   ]
  },
  {
   "cell_type": "markdown",
   "metadata": {
    "colab_type": "text",
    "id": "Q_WWHAJO-Rw0"
   },
   "source": [
    "#### Avaliação"
   ]
  },
  {
   "cell_type": "code",
   "execution_count": 0,
   "metadata": {
    "colab": {},
    "colab_type": "code",
    "id": "r_h6syBe-Rw0"
   },
   "outputs": [],
   "source": [
    "c_test  = load_images('Dataset_2/Test/C', filetype='tif', size=(128, 128))\n",
    "nc_test = load_images('Dataset_2/Test/NC', filetype='tif', size=(128, 128))"
   ]
  },
  {
   "cell_type": "code",
   "execution_count": 0,
   "metadata": {
    "colab": {},
    "colab_type": "code",
    "id": "xArXd56k-Rw6"
   },
   "outputs": [],
   "source": [
    "X_test, y_test = prepare_data(c_test, nc_test, normalization_method=3, return_y=True)"
   ]
  },
  {
   "cell_type": "code",
   "execution_count": 0,
   "metadata": {
    "colab": {
     "base_uri": "https://localhost:8080/",
     "height": 357
    },
    "colab_type": "code",
    "id": "EbvHZyyD-Rw_",
    "outputId": "79c59f1d-f9ed-4c04-c049-dd14f8e17d3f"
   },
   "outputs": [
    {
     "name": "stdout",
     "output_type": "stream",
     "text": [
      "Avaliando o modelo com os pesos weights/architecture_5/training_1.hdf5\n",
      "1336/1336 [==============================] - 3s 2ms/step\n",
      "Avaliando o modelo com os pesos weights/architecture_5/training_2.hdf5\n",
      "1336/1336 [==============================] - 3s 2ms/step\n",
      "Avaliando o modelo com os pesos weights/architecture_5/training_3.hdf5\n",
      "1336/1336 [==============================] - 3s 2ms/step\n",
      "Avaliando o modelo com os pesos weights/architecture_5/training_4.hdf5\n",
      "1336/1336 [==============================] - 3s 2ms/step\n",
      "Avaliando o modelo com os pesos weights/architecture_5/training_5.hdf5\n",
      "1336/1336 [==============================] - 3s 2ms/step\n",
      "Avaliando o modelo com os pesos weights/architecture_5/training_6.hdf5\n",
      "1336/1336 [==============================] - 3s 2ms/step\n",
      "Avaliando o modelo com os pesos weights/architecture_5/training_7.hdf5\n",
      "1336/1336 [==============================] - 3s 2ms/step\n",
      "Avaliando o modelo com os pesos weights/architecture_5/training_8.hdf5\n",
      "1336/1336 [==============================] - 3s 2ms/step\n",
      "Avaliando o modelo com os pesos weights/architecture_5/training_9.hdf5\n",
      "1336/1336 [==============================] - 3s 2ms/step\n",
      "Avaliando o modelo com os pesos weights/architecture_5/training_10.hdf5\n",
      "1336/1336 [==============================] - 3s 2ms/step\n"
     ]
    }
   ],
   "source": [
    "architecture_5_results = evaluate_multiple_weights(model_builder=model_2, times=10,\n",
    "                                                   weights_path_format='weights/architecture_5/training_{}.hdf5',\n",
    "                                                   x=X_test, y=y_test)"
   ]
  },
  {
   "cell_type": "code",
   "execution_count": 0,
   "metadata": {
    "colab": {
     "base_uri": "https://localhost:8080/",
     "height": 359
    },
    "colab_type": "code",
    "id": "YMzNnODk-RxE",
    "outputId": "e1b78398-facd-4daf-baa2-5cf1bf9788dd"
   },
   "outputs": [
    {
     "data": {
      "text/html": [
       "<div>\n",
       "<style scoped>\n",
       "    .dataframe tbody tr th:only-of-type {\n",
       "        vertical-align: middle;\n",
       "    }\n",
       "\n",
       "    .dataframe tbody tr th {\n",
       "        vertical-align: top;\n",
       "    }\n",
       "\n",
       "    .dataframe thead th {\n",
       "        text-align: right;\n",
       "    }\n",
       "</style>\n",
       "<table border=\"1\" class=\"dataframe\">\n",
       "  <thead>\n",
       "    <tr style=\"text-align: right;\">\n",
       "      <th></th>\n",
       "      <th>Loss</th>\n",
       "      <th>Accuracy</th>\n",
       "    </tr>\n",
       "  </thead>\n",
       "  <tbody>\n",
       "    <tr>\n",
       "      <th>1</th>\n",
       "      <td>0.455302</td>\n",
       "      <td>0.732784</td>\n",
       "    </tr>\n",
       "    <tr>\n",
       "      <th>2</th>\n",
       "      <td>0.450954</td>\n",
       "      <td>0.755240</td>\n",
       "    </tr>\n",
       "    <tr>\n",
       "      <th>3</th>\n",
       "      <td>0.675900</td>\n",
       "      <td>0.558383</td>\n",
       "    </tr>\n",
       "    <tr>\n",
       "      <th>4</th>\n",
       "      <td>0.419411</td>\n",
       "      <td>0.767964</td>\n",
       "    </tr>\n",
       "    <tr>\n",
       "      <th>5</th>\n",
       "      <td>0.427464</td>\n",
       "      <td>0.769461</td>\n",
       "    </tr>\n",
       "    <tr>\n",
       "      <th>6</th>\n",
       "      <td>0.422836</td>\n",
       "      <td>0.789671</td>\n",
       "    </tr>\n",
       "    <tr>\n",
       "      <th>7</th>\n",
       "      <td>0.349385</td>\n",
       "      <td>0.876497</td>\n",
       "    </tr>\n",
       "    <tr>\n",
       "      <th>8</th>\n",
       "      <td>0.360126</td>\n",
       "      <td>0.833084</td>\n",
       "    </tr>\n",
       "    <tr>\n",
       "      <th>9</th>\n",
       "      <td>0.563222</td>\n",
       "      <td>0.698353</td>\n",
       "    </tr>\n",
       "    <tr>\n",
       "      <th>10</th>\n",
       "      <td>0.385982</td>\n",
       "      <td>0.841317</td>\n",
       "    </tr>\n",
       "  </tbody>\n",
       "</table>\n",
       "</div>"
      ],
      "text/plain": [
       "        Loss  Accuracy\n",
       "1   0.455302  0.732784\n",
       "2   0.450954  0.755240\n",
       "3   0.675900  0.558383\n",
       "4   0.419411  0.767964\n",
       "5   0.427464  0.769461\n",
       "6   0.422836  0.789671\n",
       "7   0.349385  0.876497\n",
       "8   0.360126  0.833084\n",
       "9   0.563222  0.698353\n",
       "10  0.385982  0.841317"
      ]
     },
     "execution_count": 77,
     "metadata": {
      "tags": []
     },
     "output_type": "execute_result"
    }
   ],
   "source": [
    "show_results_df(architecture_5_results)"
   ]
  },
  {
   "cell_type": "code",
   "execution_count": 0,
   "metadata": {
    "colab": {
     "base_uri": "https://localhost:8080/",
     "height": 297
    },
    "colab_type": "code",
    "id": "oTCAXXfN-RxK",
    "outputId": "a5f4b86f-8bb8-488d-a994-12e9623c0a8f"
   },
   "outputs": [
    {
     "data": {
      "text/html": [
       "<div>\n",
       "<style scoped>\n",
       "    .dataframe tbody tr th:only-of-type {\n",
       "        vertical-align: middle;\n",
       "    }\n",
       "\n",
       "    .dataframe tbody tr th {\n",
       "        vertical-align: top;\n",
       "    }\n",
       "\n",
       "    .dataframe thead th {\n",
       "        text-align: right;\n",
       "    }\n",
       "</style>\n",
       "<table border=\"1\" class=\"dataframe\">\n",
       "  <thead>\n",
       "    <tr style=\"text-align: right;\">\n",
       "      <th></th>\n",
       "      <th>Loss</th>\n",
       "      <th>Accuracy</th>\n",
       "    </tr>\n",
       "  </thead>\n",
       "  <tbody>\n",
       "    <tr>\n",
       "      <th>count</th>\n",
       "      <td>10.000000</td>\n",
       "      <td>10.000000</td>\n",
       "    </tr>\n",
       "    <tr>\n",
       "      <th>mean</th>\n",
       "      <td>0.451058</td>\n",
       "      <td>0.762275</td>\n",
       "    </tr>\n",
       "    <tr>\n",
       "      <th>std</th>\n",
       "      <td>0.099078</td>\n",
       "      <td>0.089269</td>\n",
       "    </tr>\n",
       "    <tr>\n",
       "      <th>min</th>\n",
       "      <td>0.349385</td>\n",
       "      <td>0.558383</td>\n",
       "    </tr>\n",
       "    <tr>\n",
       "      <th>25%</th>\n",
       "      <td>0.394339</td>\n",
       "      <td>0.738398</td>\n",
       "    </tr>\n",
       "    <tr>\n",
       "      <th>50%</th>\n",
       "      <td>0.425150</td>\n",
       "      <td>0.768713</td>\n",
       "    </tr>\n",
       "    <tr>\n",
       "      <th>75%</th>\n",
       "      <td>0.454215</td>\n",
       "      <td>0.822231</td>\n",
       "    </tr>\n",
       "    <tr>\n",
       "      <th>max</th>\n",
       "      <td>0.675900</td>\n",
       "      <td>0.876497</td>\n",
       "    </tr>\n",
       "  </tbody>\n",
       "</table>\n",
       "</div>"
      ],
      "text/plain": [
       "            Loss   Accuracy\n",
       "count  10.000000  10.000000\n",
       "mean    0.451058   0.762275\n",
       "std     0.099078   0.089269\n",
       "min     0.349385   0.558383\n",
       "25%     0.394339   0.738398\n",
       "50%     0.425150   0.768713\n",
       "75%     0.454215   0.822231\n",
       "max     0.675900   0.876497"
      ]
     },
     "execution_count": 78,
     "metadata": {
      "tags": []
     },
     "output_type": "execute_result"
    }
   ],
   "source": [
    "show_results_df(architecture_5_results, describe=True)"
   ]
  },
  {
   "cell_type": "markdown",
   "metadata": {
    "colab_type": "text",
    "id": "JOyxnKQQP1Mu"
   },
   "source": [
    "### Arquitetura 6"
   ]
  },
  {
   "cell_type": "markdown",
   "metadata": {
    "colab_type": "text",
    "id": "zHLzJ-EzP1Mw"
   },
   "source": [
    "#### Treino"
   ]
  },
  {
   "cell_type": "code",
   "execution_count": 0,
   "metadata": {
    "colab": {},
    "colab_type": "code",
    "id": "wk9U8Vn-P1M0"
   },
   "outputs": [],
   "source": [
    "c_train  = load_images('Dataset_2/Train/C', filetype='tif', size=(128, 128))\n",
    "nc_train = load_images('Dataset_2/Train/NC', filetype='tif', size=(128, 128))\n",
    "\n",
    "c_validation  = load_images('Dataset_2/Validation/C', filetype='tif', size=(128, 128))\n",
    "nc_validation = load_images('Dataset_2/Validation/NC', filetype='tif', size=(128, 128))"
   ]
  },
  {
   "cell_type": "code",
   "execution_count": 0,
   "metadata": {
    "colab": {},
    "colab_type": "code",
    "id": "oNAXAgYaP1M6"
   },
   "outputs": [],
   "source": [
    "X_train, y_train = prepare_data(c_train, nc_train, normalization_method=3, return_y=True)\n",
    "X_validation, y_validation = prepare_data(c_validation, nc_validation, normalization_method=3, return_y=True)"
   ]
  },
  {
   "cell_type": "code",
   "execution_count": 0,
   "metadata": {
    "colab": {
     "base_uri": "https://localhost:8080/",
     "height": 187
    },
    "colab_type": "code",
    "id": "OtoCv1d3P1M_",
    "outputId": "99ff2a20-4114-4f28-a42f-50f3c2198989"
   },
   "outputs": [
    {
     "name": "stdout",
     "output_type": "stream",
     "text": [
      "Treinamento 1 de 10, os pesos serão salvos em weights/architecture_6/training_1.hdf5\n",
      "Treinamento 2 de 10, os pesos serão salvos em weights/architecture_6/training_2.hdf5\n",
      "Treinamento 3 de 10, os pesos serão salvos em weights/architecture_6/training_3.hdf5\n",
      "Treinamento 4 de 10, os pesos serão salvos em weights/architecture_6/training_4.hdf5\n",
      "Treinamento 5 de 10, os pesos serão salvos em weights/architecture_6/training_5.hdf5\n",
      "Treinamento 6 de 10, os pesos serão salvos em weights/architecture_6/training_6.hdf5\n",
      "Treinamento 7 de 10, os pesos serão salvos em weights/architecture_6/training_7.hdf5\n",
      "Treinamento 8 de 10, os pesos serão salvos em weights/architecture_6/training_8.hdf5\n",
      "Treinamento 9 de 10, os pesos serão salvos em weights/architecture_6/training_9.hdf5\n",
      "Treinamento 10 de 10, os pesos serão salvos em weights/architecture_6/training_10.hdf5\n"
     ]
    }
   ],
   "source": [
    "train_multiple_times(model_builder=model_4, times=10, weights_path_format='weights/architecture_6/training_{}.hdf5',\n",
    "                     x=X_train, y=y_train, batch_size=32, epochs=50, validation_data=(X_validation, y_validation))"
   ]
  },
  {
   "cell_type": "markdown",
   "metadata": {
    "colab_type": "text",
    "id": "hhUW0HL-P1NY"
   },
   "source": [
    "#### Avaliação"
   ]
  },
  {
   "cell_type": "code",
   "execution_count": 0,
   "metadata": {
    "colab": {},
    "colab_type": "code",
    "id": "1VzePAcrP1Na"
   },
   "outputs": [],
   "source": [
    "c_test  = load_images('Dataset_2/Test/C', filetype='tif', size=(128, 128))\n",
    "nc_test = load_images('Dataset_2/Test/NC', filetype='tif', size=(128, 128))"
   ]
  },
  {
   "cell_type": "code",
   "execution_count": 0,
   "metadata": {
    "colab": {},
    "colab_type": "code",
    "id": "wYbknPgsP1Ne"
   },
   "outputs": [],
   "source": [
    "X_test, y_test = prepare_data(c_test, nc_test, normalization_method=3, return_y=True)"
   ]
  },
  {
   "cell_type": "code",
   "execution_count": 0,
   "metadata": {
    "colab": {
     "base_uri": "https://localhost:8080/",
     "height": 357
    },
    "colab_type": "code",
    "id": "4xL-37waP1Nj",
    "outputId": "0424c90c-101f-4176-8018-ed2584a8794d"
   },
   "outputs": [
    {
     "name": "stdout",
     "output_type": "stream",
     "text": [
      "Avaliando o modelo com os pesos weights/architecture_6/training_1.hdf5\n",
      "1336/1336 [==============================] - 1s 1ms/step\n",
      "Avaliando o modelo com os pesos weights/architecture_6/training_2.hdf5\n",
      "1336/1336 [==============================] - 1s 1ms/step\n",
      "Avaliando o modelo com os pesos weights/architecture_6/training_3.hdf5\n",
      "1336/1336 [==============================] - 1s 1ms/step\n",
      "Avaliando o modelo com os pesos weights/architecture_6/training_4.hdf5\n",
      "1336/1336 [==============================] - 1s 1ms/step\n",
      "Avaliando o modelo com os pesos weights/architecture_6/training_5.hdf5\n",
      "1336/1336 [==============================] - 1s 1ms/step\n",
      "Avaliando o modelo com os pesos weights/architecture_6/training_6.hdf5\n",
      "1336/1336 [==============================] - 1s 1ms/step\n",
      "Avaliando o modelo com os pesos weights/architecture_6/training_7.hdf5\n",
      "1336/1336 [==============================] - 1s 1ms/step\n",
      "Avaliando o modelo com os pesos weights/architecture_6/training_8.hdf5\n",
      "1336/1336 [==============================] - 1s 1ms/step\n",
      "Avaliando o modelo com os pesos weights/architecture_6/training_9.hdf5\n",
      "1336/1336 [==============================] - 1s 1ms/step\n",
      "Avaliando o modelo com os pesos weights/architecture_6/training_10.hdf5\n",
      "1336/1336 [==============================] - 1s 1ms/step\n"
     ]
    }
   ],
   "source": [
    "architecture_6_results = evaluate_multiple_weights(model_builder=model_4, times=10,\n",
    "                                                   weights_path_format='weights/architecture_6/training_{}.hdf5',\n",
    "                                                   x=X_test, y=y_test)"
   ]
  },
  {
   "cell_type": "code",
   "execution_count": 0,
   "metadata": {
    "colab": {
     "base_uri": "https://localhost:8080/",
     "height": 359
    },
    "colab_type": "code",
    "id": "YLoMfKsLP1Np",
    "outputId": "aedb79f7-21bc-4a5e-cad7-9f2e284cdffb"
   },
   "outputs": [
    {
     "data": {
      "text/html": [
       "<div>\n",
       "<style scoped>\n",
       "    .dataframe tbody tr th:only-of-type {\n",
       "        vertical-align: middle;\n",
       "    }\n",
       "\n",
       "    .dataframe tbody tr th {\n",
       "        vertical-align: top;\n",
       "    }\n",
       "\n",
       "    .dataframe thead th {\n",
       "        text-align: right;\n",
       "    }\n",
       "</style>\n",
       "<table border=\"1\" class=\"dataframe\">\n",
       "  <thead>\n",
       "    <tr style=\"text-align: right;\">\n",
       "      <th></th>\n",
       "      <th>Loss</th>\n",
       "      <th>Accuracy</th>\n",
       "    </tr>\n",
       "  </thead>\n",
       "  <tbody>\n",
       "    <tr>\n",
       "      <th>1</th>\n",
       "      <td>0.233001</td>\n",
       "      <td>0.916916</td>\n",
       "    </tr>\n",
       "    <tr>\n",
       "      <th>2</th>\n",
       "      <td>0.207089</td>\n",
       "      <td>0.934132</td>\n",
       "    </tr>\n",
       "    <tr>\n",
       "      <th>3</th>\n",
       "      <td>0.223329</td>\n",
       "      <td>0.919910</td>\n",
       "    </tr>\n",
       "    <tr>\n",
       "      <th>4</th>\n",
       "      <td>0.200491</td>\n",
       "      <td>0.917665</td>\n",
       "    </tr>\n",
       "    <tr>\n",
       "      <th>5</th>\n",
       "      <td>0.230669</td>\n",
       "      <td>0.910928</td>\n",
       "    </tr>\n",
       "    <tr>\n",
       "      <th>6</th>\n",
       "      <td>0.206413</td>\n",
       "      <td>0.935629</td>\n",
       "    </tr>\n",
       "    <tr>\n",
       "      <th>7</th>\n",
       "      <td>0.188443</td>\n",
       "      <td>0.935629</td>\n",
       "    </tr>\n",
       "    <tr>\n",
       "      <th>8</th>\n",
       "      <td>0.242152</td>\n",
       "      <td>0.907186</td>\n",
       "    </tr>\n",
       "    <tr>\n",
       "      <th>9</th>\n",
       "      <td>0.213104</td>\n",
       "      <td>0.918413</td>\n",
       "    </tr>\n",
       "    <tr>\n",
       "      <th>10</th>\n",
       "      <td>0.252023</td>\n",
       "      <td>0.912425</td>\n",
       "    </tr>\n",
       "  </tbody>\n",
       "</table>\n",
       "</div>"
      ],
      "text/plain": [
       "        Loss  Accuracy\n",
       "1   0.233001  0.916916\n",
       "2   0.207089  0.934132\n",
       "3   0.223329  0.919910\n",
       "4   0.200491  0.917665\n",
       "5   0.230669  0.910928\n",
       "6   0.206413  0.935629\n",
       "7   0.188443  0.935629\n",
       "8   0.242152  0.907186\n",
       "9   0.213104  0.918413\n",
       "10  0.252023  0.912425"
      ]
     },
     "execution_count": 21,
     "metadata": {
      "tags": []
     },
     "output_type": "execute_result"
    }
   ],
   "source": [
    "show_results_df(architecture_6_results)"
   ]
  },
  {
   "cell_type": "code",
   "execution_count": 0,
   "metadata": {
    "colab": {
     "base_uri": "https://localhost:8080/",
     "height": 297
    },
    "colab_type": "code",
    "id": "MXp1EcqhP1Nw",
    "outputId": "b7c9b5c2-ae78-4150-c08a-aaf0959673cb"
   },
   "outputs": [
    {
     "data": {
      "text/html": [
       "<div>\n",
       "<style scoped>\n",
       "    .dataframe tbody tr th:only-of-type {\n",
       "        vertical-align: middle;\n",
       "    }\n",
       "\n",
       "    .dataframe tbody tr th {\n",
       "        vertical-align: top;\n",
       "    }\n",
       "\n",
       "    .dataframe thead th {\n",
       "        text-align: right;\n",
       "    }\n",
       "</style>\n",
       "<table border=\"1\" class=\"dataframe\">\n",
       "  <thead>\n",
       "    <tr style=\"text-align: right;\">\n",
       "      <th></th>\n",
       "      <th>Loss</th>\n",
       "      <th>Accuracy</th>\n",
       "    </tr>\n",
       "  </thead>\n",
       "  <tbody>\n",
       "    <tr>\n",
       "      <th>count</th>\n",
       "      <td>10.000000</td>\n",
       "      <td>10.000000</td>\n",
       "    </tr>\n",
       "    <tr>\n",
       "      <th>mean</th>\n",
       "      <td>0.219671</td>\n",
       "      <td>0.920883</td>\n",
       "    </tr>\n",
       "    <tr>\n",
       "      <th>std</th>\n",
       "      <td>0.019956</td>\n",
       "      <td>0.010550</td>\n",
       "    </tr>\n",
       "    <tr>\n",
       "      <th>min</th>\n",
       "      <td>0.188443</td>\n",
       "      <td>0.907186</td>\n",
       "    </tr>\n",
       "    <tr>\n",
       "      <th>25%</th>\n",
       "      <td>0.206582</td>\n",
       "      <td>0.913548</td>\n",
       "    </tr>\n",
       "    <tr>\n",
       "      <th>50%</th>\n",
       "      <td>0.218217</td>\n",
       "      <td>0.918039</td>\n",
       "    </tr>\n",
       "    <tr>\n",
       "      <th>75%</th>\n",
       "      <td>0.232418</td>\n",
       "      <td>0.930576</td>\n",
       "    </tr>\n",
       "    <tr>\n",
       "      <th>max</th>\n",
       "      <td>0.252023</td>\n",
       "      <td>0.935629</td>\n",
       "    </tr>\n",
       "  </tbody>\n",
       "</table>\n",
       "</div>"
      ],
      "text/plain": [
       "            Loss   Accuracy\n",
       "count  10.000000  10.000000\n",
       "mean    0.219671   0.920883\n",
       "std     0.019956   0.010550\n",
       "min     0.188443   0.907186\n",
       "25%     0.206582   0.913548\n",
       "50%     0.218217   0.918039\n",
       "75%     0.232418   0.930576\n",
       "max     0.252023   0.935629"
      ]
     },
     "execution_count": 22,
     "metadata": {
      "tags": []
     },
     "output_type": "execute_result"
    }
   ],
   "source": [
    "show_results_df(architecture_6_results, describe=True)"
   ]
  },
  {
   "cell_type": "markdown",
   "metadata": {
    "colab_type": "text",
    "id": "1MC620tXeChM"
   },
   "source": [
    "### Arquitetura 7"
   ]
  },
  {
   "cell_type": "markdown",
   "metadata": {
    "colab_type": "text",
    "id": "XJGnWtaReChQ"
   },
   "source": [
    "#### Treino"
   ]
  },
  {
   "cell_type": "code",
   "execution_count": 0,
   "metadata": {
    "colab": {},
    "colab_type": "code",
    "id": "D6PeNpn2eChW"
   },
   "outputs": [],
   "source": [
    "c_train  = load_images('Dataset_2/Train/C', filetype='tif', size=(128, 128))\n",
    "nc_train = load_images('Dataset_2/Train/NC', filetype='tif', size=(128, 128))\n",
    "\n",
    "c_validation  = load_images('Dataset_2/Validation/C', filetype='tif', size=(128, 128))\n",
    "nc_validation = load_images('Dataset_2/Validation/NC', filetype='tif', size=(128, 128))"
   ]
  },
  {
   "cell_type": "code",
   "execution_count": 0,
   "metadata": {
    "colab": {},
    "colab_type": "code",
    "id": "qASkw8YFeChe"
   },
   "outputs": [],
   "source": [
    "X_train, y_train = prepare_data(c_train, nc_train, normalization_method=3, return_y=True)\n",
    "X_validation, y_validation = prepare_data(c_validation, nc_validation, normalization_method=3, return_y=True)"
   ]
  },
  {
   "cell_type": "code",
   "execution_count": 0,
   "metadata": {
    "colab": {
     "base_uri": "https://localhost:8080/",
     "height": 187
    },
    "colab_type": "code",
    "id": "8AeilFVseChh",
    "outputId": "2b4ab7ec-2bac-4194-b449-5e525fe42be4"
   },
   "outputs": [
    {
     "name": "stdout",
     "output_type": "stream",
     "text": [
      "Treinamento 1 de 10, os pesos serão salvos em weights/architecture_7/training_1.hdf5\n",
      "Treinamento 2 de 10, os pesos serão salvos em weights/architecture_7/training_2.hdf5\n",
      "Treinamento 3 de 10, os pesos serão salvos em weights/architecture_7/training_3.hdf5\n",
      "Treinamento 4 de 10, os pesos serão salvos em weights/architecture_7/training_4.hdf5\n",
      "Treinamento 5 de 10, os pesos serão salvos em weights/architecture_7/training_5.hdf5\n",
      "Treinamento 6 de 10, os pesos serão salvos em weights/architecture_7/training_6.hdf5\n",
      "Treinamento 7 de 10, os pesos serão salvos em weights/architecture_7/training_7.hdf5\n",
      "Treinamento 8 de 10, os pesos serão salvos em weights/architecture_7/training_8.hdf5\n",
      "Treinamento 9 de 10, os pesos serão salvos em weights/architecture_7/training_9.hdf5\n",
      "Treinamento 10 de 10, os pesos serão salvos em weights/architecture_7/training_10.hdf5\n"
     ]
    }
   ],
   "source": [
    "train_multiple_times(model_builder=model_5, times=10, weights_path_format='weights/architecture_7/training_{}.hdf5',\n",
    "                     x=X_train, y=y_train, batch_size=32, epochs=50, validation_data=(X_validation, y_validation))"
   ]
  },
  {
   "cell_type": "markdown",
   "metadata": {
    "colab_type": "text",
    "id": "-UmxIgZDeCh8"
   },
   "source": [
    "#### Avaliação"
   ]
  },
  {
   "cell_type": "code",
   "execution_count": 0,
   "metadata": {
    "colab": {},
    "colab_type": "code",
    "id": "iBmIKmm0eCh_"
   },
   "outputs": [],
   "source": [
    "c_test  = load_images('Dataset_2/Test/C', filetype='tif', size=(128, 128))\n",
    "nc_test = load_images('Dataset_2/Test/NC', filetype='tif', size=(128, 128))"
   ]
  },
  {
   "cell_type": "code",
   "execution_count": 0,
   "metadata": {
    "colab": {},
    "colab_type": "code",
    "id": "rbWzweeBeCiG"
   },
   "outputs": [],
   "source": [
    "X_test, y_test = prepare_data(c_test, nc_test, normalization_method=3, return_y=True)"
   ]
  },
  {
   "cell_type": "code",
   "execution_count": 0,
   "metadata": {
    "colab": {
     "base_uri": "https://localhost:8080/",
     "height": 357
    },
    "colab_type": "code",
    "id": "IxBxPU10eCiO",
    "outputId": "6f97eaa6-15d4-40df-b8a4-545c9ee5517d"
   },
   "outputs": [
    {
     "name": "stdout",
     "output_type": "stream",
     "text": [
      "Avaliando o modelo com os pesos weights/architecture_7/training_1.hdf5\n",
      "1336/1336 [==============================] - 2s 2ms/step\n",
      "Avaliando o modelo com os pesos weights/architecture_7/training_2.hdf5\n",
      "1336/1336 [==============================] - 2s 2ms/step\n",
      "Avaliando o modelo com os pesos weights/architecture_7/training_3.hdf5\n",
      "1336/1336 [==============================] - 2s 2ms/step\n",
      "Avaliando o modelo com os pesos weights/architecture_7/training_4.hdf5\n",
      "1336/1336 [==============================] - 2s 2ms/step\n",
      "Avaliando o modelo com os pesos weights/architecture_7/training_5.hdf5\n",
      "1336/1336 [==============================] - 2s 2ms/step\n",
      "Avaliando o modelo com os pesos weights/architecture_7/training_6.hdf5\n",
      "1336/1336 [==============================] - 2s 2ms/step\n",
      "Avaliando o modelo com os pesos weights/architecture_7/training_7.hdf5\n",
      "1336/1336 [==============================] - 2s 2ms/step\n",
      "Avaliando o modelo com os pesos weights/architecture_7/training_8.hdf5\n",
      "1336/1336 [==============================] - 2s 2ms/step\n",
      "Avaliando o modelo com os pesos weights/architecture_7/training_9.hdf5\n",
      "1336/1336 [==============================] - 2s 2ms/step\n",
      "Avaliando o modelo com os pesos weights/architecture_7/training_10.hdf5\n",
      "1336/1336 [==============================] - 2s 2ms/step\n"
     ]
    }
   ],
   "source": [
    "architecture_7_results = evaluate_multiple_weights(model_builder=model_5, times=10,\n",
    "                                                   weights_path_format='weights/architecture_7/training_{}.hdf5',\n",
    "                                                   x=X_test, y=y_test)"
   ]
  },
  {
   "cell_type": "code",
   "execution_count": 0,
   "metadata": {
    "colab": {
     "base_uri": "https://localhost:8080/",
     "height": 359
    },
    "colab_type": "code",
    "id": "G71lfugxeCig",
    "outputId": "44d6359c-f0d3-4f9c-fd96-dbb190a4539d"
   },
   "outputs": [
    {
     "data": {
      "text/html": [
       "<div>\n",
       "<style scoped>\n",
       "    .dataframe tbody tr th:only-of-type {\n",
       "        vertical-align: middle;\n",
       "    }\n",
       "\n",
       "    .dataframe tbody tr th {\n",
       "        vertical-align: top;\n",
       "    }\n",
       "\n",
       "    .dataframe thead th {\n",
       "        text-align: right;\n",
       "    }\n",
       "</style>\n",
       "<table border=\"1\" class=\"dataframe\">\n",
       "  <thead>\n",
       "    <tr style=\"text-align: right;\">\n",
       "      <th></th>\n",
       "      <th>Loss</th>\n",
       "      <th>Accuracy</th>\n",
       "    </tr>\n",
       "  </thead>\n",
       "  <tbody>\n",
       "    <tr>\n",
       "      <th>1</th>\n",
       "      <td>0.207412</td>\n",
       "      <td>0.932635</td>\n",
       "    </tr>\n",
       "    <tr>\n",
       "      <th>2</th>\n",
       "      <td>0.219422</td>\n",
       "      <td>0.921407</td>\n",
       "    </tr>\n",
       "    <tr>\n",
       "      <th>3</th>\n",
       "      <td>0.220278</td>\n",
       "      <td>0.926647</td>\n",
       "    </tr>\n",
       "    <tr>\n",
       "      <th>4</th>\n",
       "      <td>0.208210</td>\n",
       "      <td>0.937874</td>\n",
       "    </tr>\n",
       "    <tr>\n",
       "      <th>5</th>\n",
       "      <td>0.197964</td>\n",
       "      <td>0.934880</td>\n",
       "    </tr>\n",
       "    <tr>\n",
       "      <th>6</th>\n",
       "      <td>0.225024</td>\n",
       "      <td>0.916168</td>\n",
       "    </tr>\n",
       "    <tr>\n",
       "      <th>7</th>\n",
       "      <td>0.276298</td>\n",
       "      <td>0.904192</td>\n",
       "    </tr>\n",
       "    <tr>\n",
       "      <th>8</th>\n",
       "      <td>0.191749</td>\n",
       "      <td>0.939371</td>\n",
       "    </tr>\n",
       "    <tr>\n",
       "      <th>9</th>\n",
       "      <td>0.177060</td>\n",
       "      <td>0.944611</td>\n",
       "    </tr>\n",
       "    <tr>\n",
       "      <th>10</th>\n",
       "      <td>0.222113</td>\n",
       "      <td>0.923653</td>\n",
       "    </tr>\n",
       "  </tbody>\n",
       "</table>\n",
       "</div>"
      ],
      "text/plain": [
       "        Loss  Accuracy\n",
       "1   0.207412  0.932635\n",
       "2   0.219422  0.921407\n",
       "3   0.220278  0.926647\n",
       "4   0.208210  0.937874\n",
       "5   0.197964  0.934880\n",
       "6   0.225024  0.916168\n",
       "7   0.276298  0.904192\n",
       "8   0.191749  0.939371\n",
       "9   0.177060  0.944611\n",
       "10  0.222113  0.923653"
      ]
     },
     "execution_count": 31,
     "metadata": {
      "tags": []
     },
     "output_type": "execute_result"
    }
   ],
   "source": [
    "show_results_df(architecture_7_results)"
   ]
  },
  {
   "cell_type": "code",
   "execution_count": 0,
   "metadata": {
    "colab": {
     "base_uri": "https://localhost:8080/",
     "height": 297
    },
    "colab_type": "code",
    "id": "CEH1EMEqeCin",
    "outputId": "bbd6a4d7-31ec-498b-e743-bc5bca3bcdb1"
   },
   "outputs": [
    {
     "data": {
      "text/html": [
       "<div>\n",
       "<style scoped>\n",
       "    .dataframe tbody tr th:only-of-type {\n",
       "        vertical-align: middle;\n",
       "    }\n",
       "\n",
       "    .dataframe tbody tr th {\n",
       "        vertical-align: top;\n",
       "    }\n",
       "\n",
       "    .dataframe thead th {\n",
       "        text-align: right;\n",
       "    }\n",
       "</style>\n",
       "<table border=\"1\" class=\"dataframe\">\n",
       "  <thead>\n",
       "    <tr style=\"text-align: right;\">\n",
       "      <th></th>\n",
       "      <th>Loss</th>\n",
       "      <th>Accuracy</th>\n",
       "    </tr>\n",
       "  </thead>\n",
       "  <tbody>\n",
       "    <tr>\n",
       "      <th>count</th>\n",
       "      <td>10.000000</td>\n",
       "      <td>10.000000</td>\n",
       "    </tr>\n",
       "    <tr>\n",
       "      <th>mean</th>\n",
       "      <td>0.214553</td>\n",
       "      <td>0.928144</td>\n",
       "    </tr>\n",
       "    <tr>\n",
       "      <th>std</th>\n",
       "      <td>0.026516</td>\n",
       "      <td>0.012213</td>\n",
       "    </tr>\n",
       "    <tr>\n",
       "      <th>min</th>\n",
       "      <td>0.177060</td>\n",
       "      <td>0.904192</td>\n",
       "    </tr>\n",
       "    <tr>\n",
       "      <th>25%</th>\n",
       "      <td>0.200326</td>\n",
       "      <td>0.921969</td>\n",
       "    </tr>\n",
       "    <tr>\n",
       "      <th>50%</th>\n",
       "      <td>0.213816</td>\n",
       "      <td>0.929641</td>\n",
       "    </tr>\n",
       "    <tr>\n",
       "      <th>75%</th>\n",
       "      <td>0.221654</td>\n",
       "      <td>0.937126</td>\n",
       "    </tr>\n",
       "    <tr>\n",
       "      <th>max</th>\n",
       "      <td>0.276298</td>\n",
       "      <td>0.944611</td>\n",
       "    </tr>\n",
       "  </tbody>\n",
       "</table>\n",
       "</div>"
      ],
      "text/plain": [
       "            Loss   Accuracy\n",
       "count  10.000000  10.000000\n",
       "mean    0.214553   0.928144\n",
       "std     0.026516   0.012213\n",
       "min     0.177060   0.904192\n",
       "25%     0.200326   0.921969\n",
       "50%     0.213816   0.929641\n",
       "75%     0.221654   0.937126\n",
       "max     0.276298   0.944611"
      ]
     },
     "execution_count": 32,
     "metadata": {
      "tags": []
     },
     "output_type": "execute_result"
    }
   ],
   "source": [
    "show_results_df(architecture_7_results, describe=True)"
   ]
  },
  {
   "cell_type": "markdown",
   "metadata": {
    "colab_type": "text",
    "id": "uhmkRguQskmL"
   },
   "source": [
    "### Arquitetura 8"
   ]
  },
  {
   "cell_type": "markdown",
   "metadata": {
    "colab_type": "text",
    "id": "8zvTFW99skmO"
   },
   "source": [
    "#### Treino"
   ]
  },
  {
   "cell_type": "code",
   "execution_count": 0,
   "metadata": {
    "colab": {},
    "colab_type": "code",
    "id": "JBfjlbvBskmV"
   },
   "outputs": [],
   "source": [
    "c_train  = load_images('Dataset_2/Train/C', filetype='tif', size=(128, 128))\n",
    "nc_train = load_images('Dataset_2/Train/NC', filetype='tif', size=(128, 128))\n",
    "\n",
    "c_validation  = load_images('Dataset_2/Validation/C', filetype='tif', size=(128, 128))\n",
    "nc_validation = load_images('Dataset_2/Validation/NC', filetype='tif', size=(128, 128))"
   ]
  },
  {
   "cell_type": "code",
   "execution_count": 0,
   "metadata": {
    "colab": {},
    "colab_type": "code",
    "id": "c_cUHTe-skml"
   },
   "outputs": [],
   "source": [
    "X_train, y_train = prepare_data(c_train, nc_train, normalization_method=3, return_y=True)\n",
    "X_validation, y_validation = prepare_data(c_validation, nc_validation, normalization_method=3, return_y=True)"
   ]
  },
  {
   "cell_type": "code",
   "execution_count": 0,
   "metadata": {
    "colab": {
     "base_uri": "https://localhost:8080/",
     "height": 187
    },
    "colab_type": "code",
    "id": "dUEY48Nvskmo",
    "outputId": "a815b075-a476-495b-a7d2-0a4a740a75b4"
   },
   "outputs": [
    {
     "name": "stdout",
     "output_type": "stream",
     "text": [
      "Treinamento 1 de 10, os pesos serão salvos em weights/architecture_8/training_1.hdf5\n",
      "Treinamento 2 de 10, os pesos serão salvos em weights/architecture_8/training_2.hdf5\n",
      "Treinamento 3 de 10, os pesos serão salvos em weights/architecture_8/training_3.hdf5\n",
      "Treinamento 4 de 10, os pesos serão salvos em weights/architecture_8/training_4.hdf5\n",
      "Treinamento 5 de 10, os pesos serão salvos em weights/architecture_8/training_5.hdf5\n",
      "Treinamento 6 de 10, os pesos serão salvos em weights/architecture_8/training_6.hdf5\n",
      "Treinamento 7 de 10, os pesos serão salvos em weights/architecture_8/training_7.hdf5\n",
      "Treinamento 8 de 10, os pesos serão salvos em weights/architecture_8/training_8.hdf5\n",
      "Treinamento 9 de 10, os pesos serão salvos em weights/architecture_8/training_9.hdf5\n",
      "Treinamento 10 de 10, os pesos serão salvos em weights/architecture_8/training_10.hdf5\n"
     ]
    }
   ],
   "source": [
    "train_multiple_times(model_builder=model_6, times=10, weights_path_format='weights/architecture_8/training_{}.hdf5',\n",
    "                     x=X_train, y=y_train, batch_size=32, epochs=50, validation_data=(X_validation, y_validation))"
   ]
  },
  {
   "cell_type": "markdown",
   "metadata": {
    "colab_type": "text",
    "id": "Fs1jhCahsknH"
   },
   "source": [
    "#### Avaliação"
   ]
  },
  {
   "cell_type": "code",
   "execution_count": 0,
   "metadata": {
    "colab": {},
    "colab_type": "code",
    "id": "qIJLWtnssknI"
   },
   "outputs": [],
   "source": [
    "c_test  = load_images('Dataset_2/Test/C', filetype='tif', size=(128, 128))\n",
    "nc_test = load_images('Dataset_2/Test/NC', filetype='tif', size=(128, 128))"
   ]
  },
  {
   "cell_type": "code",
   "execution_count": 0,
   "metadata": {
    "colab": {},
    "colab_type": "code",
    "id": "6x1jiV_LsknM"
   },
   "outputs": [],
   "source": [
    "X_test, y_test = prepare_data(c_test, nc_test, normalization_method=3, return_y=True)"
   ]
  },
  {
   "cell_type": "code",
   "execution_count": 0,
   "metadata": {
    "colab": {
     "base_uri": "https://localhost:8080/",
     "height": 357
    },
    "colab_type": "code",
    "id": "kWRGthPtsknR",
    "outputId": "39a531d8-b9dc-4c3e-e35a-c7b1a99d05b2"
   },
   "outputs": [
    {
     "name": "stdout",
     "output_type": "stream",
     "text": [
      "Avaliando o modelo com os pesos weights/architecture_8/training_1.hdf5\n",
      "1336/1336 [==============================] - 3s 2ms/step\n",
      "Avaliando o modelo com os pesos weights/architecture_8/training_2.hdf5\n",
      "1336/1336 [==============================] - 3s 2ms/step\n",
      "Avaliando o modelo com os pesos weights/architecture_8/training_3.hdf5\n",
      "1336/1336 [==============================] - 3s 2ms/step\n",
      "Avaliando o modelo com os pesos weights/architecture_8/training_4.hdf5\n",
      "1336/1336 [==============================] - 3s 2ms/step\n",
      "Avaliando o modelo com os pesos weights/architecture_8/training_5.hdf5\n",
      "1336/1336 [==============================] - 3s 2ms/step\n",
      "Avaliando o modelo com os pesos weights/architecture_8/training_6.hdf5\n",
      "1336/1336 [==============================] - 3s 2ms/step\n",
      "Avaliando o modelo com os pesos weights/architecture_8/training_7.hdf5\n",
      "1336/1336 [==============================] - 3s 2ms/step\n",
      "Avaliando o modelo com os pesos weights/architecture_8/training_8.hdf5\n",
      "1336/1336 [==============================] - 3s 2ms/step\n",
      "Avaliando o modelo com os pesos weights/architecture_8/training_9.hdf5\n",
      "1336/1336 [==============================] - 3s 2ms/step\n",
      "Avaliando o modelo com os pesos weights/architecture_8/training_10.hdf5\n",
      "1336/1336 [==============================] - 3s 2ms/step\n"
     ]
    }
   ],
   "source": [
    "architecture_8_results = evaluate_multiple_weights(model_builder=model_6, times=10,\n",
    "                                                   weights_path_format='weights/architecture_8/training_{}.hdf5',\n",
    "                                                   x=X_test, y=y_test)"
   ]
  },
  {
   "cell_type": "code",
   "execution_count": 0,
   "metadata": {
    "colab": {
     "base_uri": "https://localhost:8080/",
     "height": 359
    },
    "colab_type": "code",
    "id": "i6Z3ZNjhskna",
    "outputId": "fc5f2532-2b46-4326-cb35-0387da8e1095"
   },
   "outputs": [
    {
     "data": {
      "text/html": [
       "<div>\n",
       "<style scoped>\n",
       "    .dataframe tbody tr th:only-of-type {\n",
       "        vertical-align: middle;\n",
       "    }\n",
       "\n",
       "    .dataframe tbody tr th {\n",
       "        vertical-align: top;\n",
       "    }\n",
       "\n",
       "    .dataframe thead th {\n",
       "        text-align: right;\n",
       "    }\n",
       "</style>\n",
       "<table border=\"1\" class=\"dataframe\">\n",
       "  <thead>\n",
       "    <tr style=\"text-align: right;\">\n",
       "      <th></th>\n",
       "      <th>Loss</th>\n",
       "      <th>Accuracy</th>\n",
       "    </tr>\n",
       "  </thead>\n",
       "  <tbody>\n",
       "    <tr>\n",
       "      <th>1</th>\n",
       "      <td>0.133848</td>\n",
       "      <td>0.948353</td>\n",
       "    </tr>\n",
       "    <tr>\n",
       "      <th>2</th>\n",
       "      <td>0.129573</td>\n",
       "      <td>0.949102</td>\n",
       "    </tr>\n",
       "    <tr>\n",
       "      <th>3</th>\n",
       "      <td>0.129217</td>\n",
       "      <td>0.947605</td>\n",
       "    </tr>\n",
       "    <tr>\n",
       "      <th>4</th>\n",
       "      <td>0.133364</td>\n",
       "      <td>0.950599</td>\n",
       "    </tr>\n",
       "    <tr>\n",
       "      <th>5</th>\n",
       "      <td>0.150312</td>\n",
       "      <td>0.949102</td>\n",
       "    </tr>\n",
       "    <tr>\n",
       "      <th>6</th>\n",
       "      <td>0.161184</td>\n",
       "      <td>0.936377</td>\n",
       "    </tr>\n",
       "    <tr>\n",
       "      <th>7</th>\n",
       "      <td>0.139733</td>\n",
       "      <td>0.939371</td>\n",
       "    </tr>\n",
       "    <tr>\n",
       "      <th>8</th>\n",
       "      <td>0.142376</td>\n",
       "      <td>0.949850</td>\n",
       "    </tr>\n",
       "    <tr>\n",
       "      <th>9</th>\n",
       "      <td>0.151680</td>\n",
       "      <td>0.943114</td>\n",
       "    </tr>\n",
       "    <tr>\n",
       "      <th>10</th>\n",
       "      <td>0.140834</td>\n",
       "      <td>0.947605</td>\n",
       "    </tr>\n",
       "  </tbody>\n",
       "</table>\n",
       "</div>"
      ],
      "text/plain": [
       "        Loss  Accuracy\n",
       "1   0.133848  0.948353\n",
       "2   0.129573  0.949102\n",
       "3   0.129217  0.947605\n",
       "4   0.133364  0.950599\n",
       "5   0.150312  0.949102\n",
       "6   0.161184  0.936377\n",
       "7   0.139733  0.939371\n",
       "8   0.142376  0.949850\n",
       "9   0.151680  0.943114\n",
       "10  0.140834  0.947605"
      ]
     },
     "execution_count": 45,
     "metadata": {
      "tags": []
     },
     "output_type": "execute_result"
    }
   ],
   "source": [
    "show_results_df(architecture_8_results)"
   ]
  },
  {
   "cell_type": "code",
   "execution_count": 0,
   "metadata": {
    "colab": {
     "base_uri": "https://localhost:8080/",
     "height": 297
    },
    "colab_type": "code",
    "id": "rxPaD3kqsknk",
    "outputId": "ebd52d3a-85a0-4476-f486-2b9601e93b88"
   },
   "outputs": [
    {
     "data": {
      "text/html": [
       "<div>\n",
       "<style scoped>\n",
       "    .dataframe tbody tr th:only-of-type {\n",
       "        vertical-align: middle;\n",
       "    }\n",
       "\n",
       "    .dataframe tbody tr th {\n",
       "        vertical-align: top;\n",
       "    }\n",
       "\n",
       "    .dataframe thead th {\n",
       "        text-align: right;\n",
       "    }\n",
       "</style>\n",
       "<table border=\"1\" class=\"dataframe\">\n",
       "  <thead>\n",
       "    <tr style=\"text-align: right;\">\n",
       "      <th></th>\n",
       "      <th>Loss</th>\n",
       "      <th>Accuracy</th>\n",
       "    </tr>\n",
       "  </thead>\n",
       "  <tbody>\n",
       "    <tr>\n",
       "      <th>count</th>\n",
       "      <td>10.000000</td>\n",
       "      <td>10.000000</td>\n",
       "    </tr>\n",
       "    <tr>\n",
       "      <th>mean</th>\n",
       "      <td>0.141212</td>\n",
       "      <td>0.946108</td>\n",
       "    </tr>\n",
       "    <tr>\n",
       "      <th>std</th>\n",
       "      <td>0.010489</td>\n",
       "      <td>0.004838</td>\n",
       "    </tr>\n",
       "    <tr>\n",
       "      <th>min</th>\n",
       "      <td>0.129217</td>\n",
       "      <td>0.936377</td>\n",
       "    </tr>\n",
       "    <tr>\n",
       "      <th>25%</th>\n",
       "      <td>0.133485</td>\n",
       "      <td>0.944237</td>\n",
       "    </tr>\n",
       "    <tr>\n",
       "      <th>50%</th>\n",
       "      <td>0.140283</td>\n",
       "      <td>0.947979</td>\n",
       "    </tr>\n",
       "    <tr>\n",
       "      <th>75%</th>\n",
       "      <td>0.148328</td>\n",
       "      <td>0.949102</td>\n",
       "    </tr>\n",
       "    <tr>\n",
       "      <th>max</th>\n",
       "      <td>0.161184</td>\n",
       "      <td>0.950599</td>\n",
       "    </tr>\n",
       "  </tbody>\n",
       "</table>\n",
       "</div>"
      ],
      "text/plain": [
       "            Loss   Accuracy\n",
       "count  10.000000  10.000000\n",
       "mean    0.141212   0.946108\n",
       "std     0.010489   0.004838\n",
       "min     0.129217   0.936377\n",
       "25%     0.133485   0.944237\n",
       "50%     0.140283   0.947979\n",
       "75%     0.148328   0.949102\n",
       "max     0.161184   0.950599"
      ]
     },
     "execution_count": 46,
     "metadata": {
      "tags": []
     },
     "output_type": "execute_result"
    }
   ],
   "source": [
    "show_results_df(architecture_8_results, describe=True)"
   ]
  },
  {
   "cell_type": "markdown",
   "metadata": {
    "colab_type": "text",
    "id": "scwRNlXr6lmS"
   },
   "source": [
    "### Arquitetura 9"
   ]
  },
  {
   "cell_type": "markdown",
   "metadata": {
    "colab_type": "text",
    "id": "dkRhvvjY6lmU"
   },
   "source": [
    "#### Treino"
   ]
  },
  {
   "cell_type": "code",
   "execution_count": 0,
   "metadata": {
    "colab": {},
    "colab_type": "code",
    "id": "kFINcueB6lmV"
   },
   "outputs": [],
   "source": [
    "c_train  = load_images('Dataset_2/Train/C', filetype='tif', size=(128, 128))\n",
    "nc_train = load_images('Dataset_2/Train/NC', filetype='tif', size=(128, 128))\n",
    "\n",
    "c_validation  = load_images('Dataset_2/Validation/C', filetype='tif', size=(128, 128))\n",
    "nc_validation = load_images('Dataset_2/Validation/NC', filetype='tif', size=(128, 128))"
   ]
  },
  {
   "cell_type": "code",
   "execution_count": 0,
   "metadata": {
    "colab": {},
    "colab_type": "code",
    "id": "vzK03jxc6lmb"
   },
   "outputs": [],
   "source": [
    "X_train, y_train = prepare_data(c_train, nc_train, normalization_method=3, return_y=True)\n",
    "X_validation, y_validation = prepare_data(c_validation, nc_validation, normalization_method=3, return_y=True)"
   ]
  },
  {
   "cell_type": "code",
   "execution_count": 0,
   "metadata": {
    "colab": {
     "base_uri": "https://localhost:8080/",
     "height": 187
    },
    "colab_type": "code",
    "id": "5b9yaIOI6lmf",
    "outputId": "a712be9c-bde5-468f-ab79-0a6f562c1c4a"
   },
   "outputs": [
    {
     "name": "stdout",
     "output_type": "stream",
     "text": [
      "Treinamento 1 de 10, os pesos serão salvos em weights/architecture_9/training_1.hdf5\n",
      "Treinamento 2 de 10, os pesos serão salvos em weights/architecture_9/training_2.hdf5\n",
      "Treinamento 3 de 10, os pesos serão salvos em weights/architecture_9/training_3.hdf5\n",
      "Treinamento 4 de 10, os pesos serão salvos em weights/architecture_9/training_4.hdf5\n",
      "Treinamento 5 de 10, os pesos serão salvos em weights/architecture_9/training_5.hdf5\n",
      "Treinamento 6 de 10, os pesos serão salvos em weights/architecture_9/training_6.hdf5\n",
      "Treinamento 7 de 10, os pesos serão salvos em weights/architecture_9/training_7.hdf5\n",
      "Treinamento 8 de 10, os pesos serão salvos em weights/architecture_9/training_8.hdf5\n",
      "Treinamento 9 de 10, os pesos serão salvos em weights/architecture_9/training_9.hdf5\n",
      "Treinamento 10 de 10, os pesos serão salvos em weights/architecture_9/training_10.hdf5\n"
     ]
    }
   ],
   "source": [
    "train_multiple_times(model_builder=model_7, times=10, weights_path_format='weights/architecture_9/training_{}.hdf5',\n",
    "                     x=X_train, y=y_train, batch_size=32, epochs=50, validation_data=(X_validation, y_validation))"
   ]
  },
  {
   "cell_type": "markdown",
   "metadata": {
    "colab_type": "text",
    "id": "ktSdx4FE6lm3"
   },
   "source": [
    "#### Avaliação"
   ]
  },
  {
   "cell_type": "code",
   "execution_count": 0,
   "metadata": {
    "colab": {},
    "colab_type": "code",
    "id": "qPLe9qLj6lm4"
   },
   "outputs": [],
   "source": [
    "c_test  = load_images('Dataset_2/Test/C', filetype='tif', size=(128, 128))\n",
    "nc_test = load_images('Dataset_2/Test/NC', filetype='tif', size=(128, 128))"
   ]
  },
  {
   "cell_type": "code",
   "execution_count": 0,
   "metadata": {
    "colab": {},
    "colab_type": "code",
    "id": "r_4cjPBK6lm_"
   },
   "outputs": [],
   "source": [
    "X_test, y_test = prepare_data(c_test, nc_test, normalization_method=3, return_y=True)"
   ]
  },
  {
   "cell_type": "code",
   "execution_count": 0,
   "metadata": {
    "colab": {
     "base_uri": "https://localhost:8080/",
     "height": 357
    },
    "colab_type": "code",
    "id": "Y9g0dk-Y6lnD",
    "outputId": "2b4815c0-a30d-41e8-c1dc-c4db124a31e2"
   },
   "outputs": [
    {
     "name": "stdout",
     "output_type": "stream",
     "text": [
      "Avaliando o modelo com os pesos weights/architecture_9/training_1.hdf5\n",
      "1336/1336 [==============================] - 1s 830us/step\n",
      "Avaliando o modelo com os pesos weights/architecture_9/training_2.hdf5\n",
      "1336/1336 [==============================] - 1s 755us/step\n",
      "Avaliando o modelo com os pesos weights/architecture_9/training_3.hdf5\n",
      "1336/1336 [==============================] - 1s 755us/step\n",
      "Avaliando o modelo com os pesos weights/architecture_9/training_4.hdf5\n",
      "1336/1336 [==============================] - 1s 718us/step\n",
      "Avaliando o modelo com os pesos weights/architecture_9/training_5.hdf5\n",
      "1336/1336 [==============================] - 1s 737us/step\n",
      "Avaliando o modelo com os pesos weights/architecture_9/training_6.hdf5\n",
      "1336/1336 [==============================] - 1s 751us/step\n",
      "Avaliando o modelo com os pesos weights/architecture_9/training_7.hdf5\n",
      "1336/1336 [==============================] - 1s 752us/step\n",
      "Avaliando o modelo com os pesos weights/architecture_9/training_8.hdf5\n",
      "1336/1336 [==============================] - 1s 777us/step\n",
      "Avaliando o modelo com os pesos weights/architecture_9/training_9.hdf5\n",
      "1336/1336 [==============================] - 1s 777us/step\n",
      "Avaliando o modelo com os pesos weights/architecture_9/training_10.hdf5\n",
      "1336/1336 [==============================] - 1s 796us/step\n"
     ]
    }
   ],
   "source": [
    "architecture_9_results = evaluate_multiple_weights(model_builder=model_7, times=10,\n",
    "                                                   weights_path_format='weights/architecture_9/training_{}.hdf5',\n",
    "                                                   x=X_test, y=y_test)"
   ]
  },
  {
   "cell_type": "code",
   "execution_count": 0,
   "metadata": {
    "colab": {
     "base_uri": "https://localhost:8080/",
     "height": 359
    },
    "colab_type": "code",
    "id": "3GjvTXaU6lnO",
    "outputId": "a4b5139a-0a22-41ad-b364-fbee6ed13bd9"
   },
   "outputs": [
    {
     "data": {
      "text/html": [
       "<div>\n",
       "<style scoped>\n",
       "    .dataframe tbody tr th:only-of-type {\n",
       "        vertical-align: middle;\n",
       "    }\n",
       "\n",
       "    .dataframe tbody tr th {\n",
       "        vertical-align: top;\n",
       "    }\n",
       "\n",
       "    .dataframe thead th {\n",
       "        text-align: right;\n",
       "    }\n",
       "</style>\n",
       "<table border=\"1\" class=\"dataframe\">\n",
       "  <thead>\n",
       "    <tr style=\"text-align: right;\">\n",
       "      <th></th>\n",
       "      <th>Loss</th>\n",
       "      <th>Accuracy</th>\n",
       "    </tr>\n",
       "  </thead>\n",
       "  <tbody>\n",
       "    <tr>\n",
       "      <th>1</th>\n",
       "      <td>0.110735</td>\n",
       "      <td>0.954341</td>\n",
       "    </tr>\n",
       "    <tr>\n",
       "      <th>2</th>\n",
       "      <td>0.119788</td>\n",
       "      <td>0.952096</td>\n",
       "    </tr>\n",
       "    <tr>\n",
       "      <th>3</th>\n",
       "      <td>0.139065</td>\n",
       "      <td>0.949850</td>\n",
       "    </tr>\n",
       "    <tr>\n",
       "      <th>4</th>\n",
       "      <td>0.129676</td>\n",
       "      <td>0.963323</td>\n",
       "    </tr>\n",
       "    <tr>\n",
       "      <th>5</th>\n",
       "      <td>0.144999</td>\n",
       "      <td>0.944611</td>\n",
       "    </tr>\n",
       "    <tr>\n",
       "      <th>6</th>\n",
       "      <td>0.120049</td>\n",
       "      <td>0.953593</td>\n",
       "    </tr>\n",
       "    <tr>\n",
       "      <th>7</th>\n",
       "      <td>0.121364</td>\n",
       "      <td>0.955090</td>\n",
       "    </tr>\n",
       "    <tr>\n",
       "      <th>8</th>\n",
       "      <td>0.142581</td>\n",
       "      <td>0.945359</td>\n",
       "    </tr>\n",
       "    <tr>\n",
       "      <th>9</th>\n",
       "      <td>0.139914</td>\n",
       "      <td>0.945359</td>\n",
       "    </tr>\n",
       "    <tr>\n",
       "      <th>10</th>\n",
       "      <td>0.141431</td>\n",
       "      <td>0.953593</td>\n",
       "    </tr>\n",
       "  </tbody>\n",
       "</table>\n",
       "</div>"
      ],
      "text/plain": [
       "        Loss  Accuracy\n",
       "1   0.110735  0.954341\n",
       "2   0.119788  0.952096\n",
       "3   0.139065  0.949850\n",
       "4   0.129676  0.963323\n",
       "5   0.144999  0.944611\n",
       "6   0.120049  0.953593\n",
       "7   0.121364  0.955090\n",
       "8   0.142581  0.945359\n",
       "9   0.139914  0.945359\n",
       "10  0.141431  0.953593"
      ]
     },
     "execution_count": 18,
     "metadata": {
      "tags": []
     },
     "output_type": "execute_result"
    }
   ],
   "source": [
    "show_results_df(architecture_9_results)"
   ]
  },
  {
   "cell_type": "code",
   "execution_count": 0,
   "metadata": {
    "colab": {
     "base_uri": "https://localhost:8080/",
     "height": 297
    },
    "colab_type": "code",
    "id": "fF4fCnAJ6lnX",
    "outputId": "ef979b12-6693-4da2-a45c-354255f5f2e6"
   },
   "outputs": [
    {
     "data": {
      "text/html": [
       "<div>\n",
       "<style scoped>\n",
       "    .dataframe tbody tr th:only-of-type {\n",
       "        vertical-align: middle;\n",
       "    }\n",
       "\n",
       "    .dataframe tbody tr th {\n",
       "        vertical-align: top;\n",
       "    }\n",
       "\n",
       "    .dataframe thead th {\n",
       "        text-align: right;\n",
       "    }\n",
       "</style>\n",
       "<table border=\"1\" class=\"dataframe\">\n",
       "  <thead>\n",
       "    <tr style=\"text-align: right;\">\n",
       "      <th></th>\n",
       "      <th>Loss</th>\n",
       "      <th>Accuracy</th>\n",
       "    </tr>\n",
       "  </thead>\n",
       "  <tbody>\n",
       "    <tr>\n",
       "      <th>count</th>\n",
       "      <td>10.000000</td>\n",
       "      <td>10.000000</td>\n",
       "    </tr>\n",
       "    <tr>\n",
       "      <th>mean</th>\n",
       "      <td>0.130960</td>\n",
       "      <td>0.951722</td>\n",
       "    </tr>\n",
       "    <tr>\n",
       "      <th>std</th>\n",
       "      <td>0.012176</td>\n",
       "      <td>0.005725</td>\n",
       "    </tr>\n",
       "    <tr>\n",
       "      <th>min</th>\n",
       "      <td>0.110735</td>\n",
       "      <td>0.944611</td>\n",
       "    </tr>\n",
       "    <tr>\n",
       "      <th>25%</th>\n",
       "      <td>0.120378</td>\n",
       "      <td>0.946482</td>\n",
       "    </tr>\n",
       "    <tr>\n",
       "      <th>50%</th>\n",
       "      <td>0.134371</td>\n",
       "      <td>0.952844</td>\n",
       "    </tr>\n",
       "    <tr>\n",
       "      <th>75%</th>\n",
       "      <td>0.141052</td>\n",
       "      <td>0.954154</td>\n",
       "    </tr>\n",
       "    <tr>\n",
       "      <th>max</th>\n",
       "      <td>0.144999</td>\n",
       "      <td>0.963323</td>\n",
       "    </tr>\n",
       "  </tbody>\n",
       "</table>\n",
       "</div>"
      ],
      "text/plain": [
       "            Loss   Accuracy\n",
       "count  10.000000  10.000000\n",
       "mean    0.130960   0.951722\n",
       "std     0.012176   0.005725\n",
       "min     0.110735   0.944611\n",
       "25%     0.120378   0.946482\n",
       "50%     0.134371   0.952844\n",
       "75%     0.141052   0.954154\n",
       "max     0.144999   0.963323"
      ]
     },
     "execution_count": 19,
     "metadata": {
      "tags": []
     },
     "output_type": "execute_result"
    }
   ],
   "source": [
    "show_results_df(architecture_9_results, describe=True)"
   ]
  },
  {
   "cell_type": "markdown",
   "metadata": {
    "colab_type": "text",
    "id": "MInAsPAzyu6Z"
   },
   "source": [
    "### Arquitetura 10"
   ]
  },
  {
   "cell_type": "markdown",
   "metadata": {
    "colab_type": "text",
    "id": "K_DrYcoOyu6a"
   },
   "source": [
    "#### Treino"
   ]
  },
  {
   "cell_type": "code",
   "execution_count": 0,
   "metadata": {
    "colab": {},
    "colab_type": "code",
    "id": "vOndIwQqyu6c"
   },
   "outputs": [],
   "source": [
    "c_train  = load_images('Dataset_2/Train/C', filetype='tif', size=(128, 128))\n",
    "nc_train = load_images('Dataset_2/Train/NC', filetype='tif', size=(128, 128))\n",
    "\n",
    "c_validation  = load_images('Dataset_2/Validation/C', filetype='tif', size=(128, 128))\n",
    "nc_validation = load_images('Dataset_2/Validation/NC', filetype='tif', size=(128, 128))"
   ]
  },
  {
   "cell_type": "code",
   "execution_count": 0,
   "metadata": {
    "colab": {},
    "colab_type": "code",
    "id": "xLiDgTAsyu6i"
   },
   "outputs": [],
   "source": [
    "X_train, y_train = prepare_data(c_train, nc_train, normalization_method=3, return_y=True)\n",
    "X_validation, y_validation = prepare_data(c_validation, nc_validation, normalization_method=3, return_y=True)"
   ]
  },
  {
   "cell_type": "code",
   "execution_count": 0,
   "metadata": {
    "colab": {
     "base_uri": "https://localhost:8080/",
     "height": 187
    },
    "colab_type": "code",
    "id": "50fcd30Qyu6o",
    "outputId": "ff479b79-89b1-4222-e8b5-edf4749a5597"
   },
   "outputs": [
    {
     "name": "stdout",
     "output_type": "stream",
     "text": [
      "Treinamento 1 de 10, os pesos serão salvos em weights/architecture_10/training_1.hdf5\n",
      "Treinamento 2 de 10, os pesos serão salvos em weights/architecture_10/training_2.hdf5\n",
      "Treinamento 3 de 10, os pesos serão salvos em weights/architecture_10/training_3.hdf5\n",
      "Treinamento 4 de 10, os pesos serão salvos em weights/architecture_10/training_4.hdf5\n",
      "Treinamento 5 de 10, os pesos serão salvos em weights/architecture_10/training_5.hdf5\n",
      "Treinamento 6 de 10, os pesos serão salvos em weights/architecture_10/training_6.hdf5\n",
      "Treinamento 7 de 10, os pesos serão salvos em weights/architecture_10/training_7.hdf5\n",
      "Treinamento 8 de 10, os pesos serão salvos em weights/architecture_10/training_8.hdf5\n",
      "Treinamento 9 de 10, os pesos serão salvos em weights/architecture_10/training_9.hdf5\n",
      "Treinamento 10 de 10, os pesos serão salvos em weights/architecture_10/training_10.hdf5\n"
     ]
    }
   ],
   "source": [
    "train_multiple_times(model_builder=model_8, times=10, weights_path_format='weights/architecture_10/training_{}.hdf5',\n",
    "                     x=X_train, y=y_train, batch_size=32, epochs=50, validation_data=(X_validation, y_validation))"
   ]
  },
  {
   "cell_type": "markdown",
   "metadata": {
    "colab_type": "text",
    "id": "tYw9Np54yu69"
   },
   "source": [
    "#### Avaliação"
   ]
  },
  {
   "cell_type": "code",
   "execution_count": 0,
   "metadata": {
    "colab": {},
    "colab_type": "code",
    "id": "gvweKWkgyu7A"
   },
   "outputs": [],
   "source": [
    "c_test  = load_images('Dataset_2/Test/C', filetype='tif', size=(128, 128))\n",
    "nc_test = load_images('Dataset_2/Test/NC', filetype='tif', size=(128, 128))"
   ]
  },
  {
   "cell_type": "code",
   "execution_count": 0,
   "metadata": {
    "colab": {},
    "colab_type": "code",
    "id": "FLnxstcVyu7H"
   },
   "outputs": [],
   "source": [
    "X_test, y_test = prepare_data(c_test, nc_test, normalization_method=3, return_y=True)"
   ]
  },
  {
   "cell_type": "code",
   "execution_count": 0,
   "metadata": {
    "colab": {
     "base_uri": "https://localhost:8080/",
     "height": 357
    },
    "colab_type": "code",
    "id": "6DYK8Z8Gyu7L",
    "outputId": "74363c3d-f06e-47f2-f558-c19048515398"
   },
   "outputs": [
    {
     "name": "stdout",
     "output_type": "stream",
     "text": [
      "Avaliando o modelo com os pesos weights/architecture_10/training_1.hdf5\n",
      "1336/1336 [==============================] - 1s 1ms/step\n",
      "Avaliando o modelo com os pesos weights/architecture_10/training_2.hdf5\n",
      "1336/1336 [==============================] - 1s 1ms/step\n",
      "Avaliando o modelo com os pesos weights/architecture_10/training_3.hdf5\n",
      "1336/1336 [==============================] - 2s 1ms/step\n",
      "Avaliando o modelo com os pesos weights/architecture_10/training_4.hdf5\n",
      "1336/1336 [==============================] - 1s 997us/step\n",
      "Avaliando o modelo com os pesos weights/architecture_10/training_5.hdf5\n",
      "1336/1336 [==============================] - 1s 1ms/step\n",
      "Avaliando o modelo com os pesos weights/architecture_10/training_6.hdf5\n",
      "1336/1336 [==============================] - 1s 1ms/step\n",
      "Avaliando o modelo com os pesos weights/architecture_10/training_7.hdf5\n",
      "1336/1336 [==============================] - 2s 1ms/step\n",
      "Avaliando o modelo com os pesos weights/architecture_10/training_8.hdf5\n",
      "1336/1336 [==============================] - 1s 1ms/step\n",
      "Avaliando o modelo com os pesos weights/architecture_10/training_9.hdf5\n",
      "1336/1336 [==============================] - 1s 1ms/step\n",
      "Avaliando o modelo com os pesos weights/architecture_10/training_10.hdf5\n",
      "1336/1336 [==============================] - 2s 1ms/step\n"
     ]
    }
   ],
   "source": [
    "architecture_10_results = evaluate_multiple_weights(model_builder=model_8, times=10,\n",
    "                                                    weights_path_format='weights/architecture_10/training_{}.hdf5',\n",
    "                                                    x=X_test, y=y_test)"
   ]
  },
  {
   "cell_type": "code",
   "execution_count": 0,
   "metadata": {
    "colab": {
     "base_uri": "https://localhost:8080/",
     "height": 359
    },
    "colab_type": "code",
    "id": "9_mkzlXsyu7R",
    "outputId": "8c8d7385-5a68-4530-f6bd-b8bffb9bc4b6"
   },
   "outputs": [
    {
     "data": {
      "text/html": [
       "<div>\n",
       "<style scoped>\n",
       "    .dataframe tbody tr th:only-of-type {\n",
       "        vertical-align: middle;\n",
       "    }\n",
       "\n",
       "    .dataframe tbody tr th {\n",
       "        vertical-align: top;\n",
       "    }\n",
       "\n",
       "    .dataframe thead th {\n",
       "        text-align: right;\n",
       "    }\n",
       "</style>\n",
       "<table border=\"1\" class=\"dataframe\">\n",
       "  <thead>\n",
       "    <tr style=\"text-align: right;\">\n",
       "      <th></th>\n",
       "      <th>Loss</th>\n",
       "      <th>Accuracy</th>\n",
       "    </tr>\n",
       "  </thead>\n",
       "  <tbody>\n",
       "    <tr>\n",
       "      <th>1</th>\n",
       "      <td>0.097986</td>\n",
       "      <td>0.962575</td>\n",
       "    </tr>\n",
       "    <tr>\n",
       "      <th>2</th>\n",
       "      <td>0.104935</td>\n",
       "      <td>0.964072</td>\n",
       "    </tr>\n",
       "    <tr>\n",
       "      <th>3</th>\n",
       "      <td>0.097370</td>\n",
       "      <td>0.965569</td>\n",
       "    </tr>\n",
       "    <tr>\n",
       "      <th>4</th>\n",
       "      <td>0.108968</td>\n",
       "      <td>0.961826</td>\n",
       "    </tr>\n",
       "    <tr>\n",
       "      <th>5</th>\n",
       "      <td>0.126815</td>\n",
       "      <td>0.954341</td>\n",
       "    </tr>\n",
       "    <tr>\n",
       "      <th>6</th>\n",
       "      <td>0.094585</td>\n",
       "      <td>0.967814</td>\n",
       "    </tr>\n",
       "    <tr>\n",
       "      <th>7</th>\n",
       "      <td>0.097342</td>\n",
       "      <td>0.970808</td>\n",
       "    </tr>\n",
       "    <tr>\n",
       "      <th>8</th>\n",
       "      <td>0.108867</td>\n",
       "      <td>0.956587</td>\n",
       "    </tr>\n",
       "    <tr>\n",
       "      <th>9</th>\n",
       "      <td>0.094359</td>\n",
       "      <td>0.971557</td>\n",
       "    </tr>\n",
       "    <tr>\n",
       "      <th>10</th>\n",
       "      <td>0.089962</td>\n",
       "      <td>0.970808</td>\n",
       "    </tr>\n",
       "  </tbody>\n",
       "</table>\n",
       "</div>"
      ],
      "text/plain": [
       "        Loss  Accuracy\n",
       "1   0.097986  0.962575\n",
       "2   0.104935  0.964072\n",
       "3   0.097370  0.965569\n",
       "4   0.108968  0.961826\n",
       "5   0.126815  0.954341\n",
       "6   0.094585  0.967814\n",
       "7   0.097342  0.970808\n",
       "8   0.108867  0.956587\n",
       "9   0.094359  0.971557\n",
       "10  0.089962  0.970808"
      ]
     },
     "execution_count": 18,
     "metadata": {
      "tags": []
     },
     "output_type": "execute_result"
    }
   ],
   "source": [
    "show_results_df(architecture_10_results)"
   ]
  },
  {
   "cell_type": "code",
   "execution_count": 0,
   "metadata": {
    "colab": {
     "base_uri": "https://localhost:8080/",
     "height": 297
    },
    "colab_type": "code",
    "id": "ikAoIQCtyu7c",
    "outputId": "d1027bb5-29cf-4599-a48b-aa74fcf9a04c"
   },
   "outputs": [
    {
     "data": {
      "text/html": [
       "<div>\n",
       "<style scoped>\n",
       "    .dataframe tbody tr th:only-of-type {\n",
       "        vertical-align: middle;\n",
       "    }\n",
       "\n",
       "    .dataframe tbody tr th {\n",
       "        vertical-align: top;\n",
       "    }\n",
       "\n",
       "    .dataframe thead th {\n",
       "        text-align: right;\n",
       "    }\n",
       "</style>\n",
       "<table border=\"1\" class=\"dataframe\">\n",
       "  <thead>\n",
       "    <tr style=\"text-align: right;\">\n",
       "      <th></th>\n",
       "      <th>Loss</th>\n",
       "      <th>Accuracy</th>\n",
       "    </tr>\n",
       "  </thead>\n",
       "  <tbody>\n",
       "    <tr>\n",
       "      <th>count</th>\n",
       "      <td>10.000000</td>\n",
       "      <td>10.000000</td>\n",
       "    </tr>\n",
       "    <tr>\n",
       "      <th>mean</th>\n",
       "      <td>0.102119</td>\n",
       "      <td>0.964596</td>\n",
       "    </tr>\n",
       "    <tr>\n",
       "      <th>std</th>\n",
       "      <td>0.010737</td>\n",
       "      <td>0.005947</td>\n",
       "    </tr>\n",
       "    <tr>\n",
       "      <th>min</th>\n",
       "      <td>0.089962</td>\n",
       "      <td>0.954341</td>\n",
       "    </tr>\n",
       "    <tr>\n",
       "      <th>25%</th>\n",
       "      <td>0.095274</td>\n",
       "      <td>0.962013</td>\n",
       "    </tr>\n",
       "    <tr>\n",
       "      <th>50%</th>\n",
       "      <td>0.097678</td>\n",
       "      <td>0.964820</td>\n",
       "    </tr>\n",
       "    <tr>\n",
       "      <th>75%</th>\n",
       "      <td>0.107884</td>\n",
       "      <td>0.970060</td>\n",
       "    </tr>\n",
       "    <tr>\n",
       "      <th>max</th>\n",
       "      <td>0.126815</td>\n",
       "      <td>0.971557</td>\n",
       "    </tr>\n",
       "  </tbody>\n",
       "</table>\n",
       "</div>"
      ],
      "text/plain": [
       "            Loss   Accuracy\n",
       "count  10.000000  10.000000\n",
       "mean    0.102119   0.964596\n",
       "std     0.010737   0.005947\n",
       "min     0.089962   0.954341\n",
       "25%     0.095274   0.962013\n",
       "50%     0.097678   0.964820\n",
       "75%     0.107884   0.970060\n",
       "max     0.126815   0.971557"
      ]
     },
     "execution_count": 19,
     "metadata": {
      "tags": []
     },
     "output_type": "execute_result"
    }
   ],
   "source": [
    "show_results_df(architecture_10_results, describe=True)"
   ]
  },
  {
   "cell_type": "markdown",
   "metadata": {
    "colab_type": "text",
    "id": "4ILWuMGhCczy"
   },
   "source": [
    "### Arquitetura 11"
   ]
  },
  {
   "cell_type": "markdown",
   "metadata": {
    "colab_type": "text",
    "id": "k8lAFbMeCcz1"
   },
   "source": [
    "#### Treino"
   ]
  },
  {
   "cell_type": "code",
   "execution_count": 0,
   "metadata": {
    "colab": {},
    "colab_type": "code",
    "id": "eokxYW0_Ccz2"
   },
   "outputs": [],
   "source": [
    "c_train  = load_images('Dataset_2/Train/C', filetype='tif', size=(128, 128))\n",
    "nc_train = load_images('Dataset_2/Train/NC', filetype='tif', size=(128, 128))\n",
    "\n",
    "c_validation  = load_images('Dataset_2/Validation/C', filetype='tif', size=(128, 128))\n",
    "nc_validation = load_images('Dataset_2/Validation/NC', filetype='tif', size=(128, 128))"
   ]
  },
  {
   "cell_type": "code",
   "execution_count": 0,
   "metadata": {
    "colab": {},
    "colab_type": "code",
    "id": "RScxb_etCcz7"
   },
   "outputs": [],
   "source": [
    "X_train, y_train = prepare_data(c_train, nc_train, normalization_method=3, return_y=True)\n",
    "X_validation, y_validation = prepare_data(c_validation, nc_validation, normalization_method=3, return_y=True)"
   ]
  },
  {
   "cell_type": "code",
   "execution_count": 0,
   "metadata": {
    "colab": {
     "base_uri": "https://localhost:8080/",
     "height": 187
    },
    "colab_type": "code",
    "id": "5pKGCjGaCc0A",
    "outputId": "3f48025e-0364-44e2-958d-a98b48365769"
   },
   "outputs": [
    {
     "name": "stdout",
     "output_type": "stream",
     "text": [
      "Treinamento 1 de 10, os pesos serão salvos em weights/architecture_11/training_1.hdf5\n",
      "Treinamento 2 de 10, os pesos serão salvos em weights/architecture_11/training_2.hdf5\n",
      "Treinamento 3 de 10, os pesos serão salvos em weights/architecture_11/training_3.hdf5\n",
      "Treinamento 4 de 10, os pesos serão salvos em weights/architecture_11/training_4.hdf5\n",
      "Treinamento 5 de 10, os pesos serão salvos em weights/architecture_11/training_5.hdf5\n",
      "Treinamento 6 de 10, os pesos serão salvos em weights/architecture_11/training_6.hdf5\n",
      "Treinamento 7 de 10, os pesos serão salvos em weights/architecture_11/training_7.hdf5\n",
      "Treinamento 8 de 10, os pesos serão salvos em weights/architecture_11/training_8.hdf5\n",
      "Treinamento 9 de 10, os pesos serão salvos em weights/architecture_11/training_9.hdf5\n",
      "Treinamento 10 de 10, os pesos serão salvos em weights/architecture_11/training_10.hdf5\n"
     ]
    }
   ],
   "source": [
    "train_multiple_times(model_builder=model_9, times=10, weights_path_format='weights/architecture_11/training_{}.hdf5',\n",
    "                     x=X_train, y=y_train, batch_size=32, epochs=50, validation_data=(X_validation, y_validation))"
   ]
  },
  {
   "cell_type": "markdown",
   "metadata": {
    "colab_type": "text",
    "id": "OzbhDr6rCc0V"
   },
   "source": [
    "#### Avaliação"
   ]
  },
  {
   "cell_type": "code",
   "execution_count": 0,
   "metadata": {
    "colab": {},
    "colab_type": "code",
    "id": "cYGMqXQ1Cc0X"
   },
   "outputs": [],
   "source": [
    "c_test  = load_images('Dataset_2/Test/C', filetype='tif', size=(128, 128))\n",
    "nc_test = load_images('Dataset_2/Test/NC', filetype='tif', size=(128, 128))"
   ]
  },
  {
   "cell_type": "code",
   "execution_count": 0,
   "metadata": {
    "colab": {},
    "colab_type": "code",
    "id": "9fChGkNvCc0f"
   },
   "outputs": [],
   "source": [
    "X_test, y_test = prepare_data(c_test, nc_test, normalization_method=3, return_y=True)"
   ]
  },
  {
   "cell_type": "code",
   "execution_count": 0,
   "metadata": {
    "colab": {
     "base_uri": "https://localhost:8080/",
     "height": 357
    },
    "colab_type": "code",
    "id": "ws_WL38YCc0j",
    "outputId": "2eb967e4-6562-4a35-8b14-24edef6a0061"
   },
   "outputs": [
    {
     "name": "stdout",
     "output_type": "stream",
     "text": [
      "Avaliando o modelo com os pesos weights/architecture_11/training_1.hdf5\n",
      "1336/1336 [==============================] - 2s 2ms/step\n",
      "Avaliando o modelo com os pesos weights/architecture_11/training_2.hdf5\n",
      "1336/1336 [==============================] - 2s 2ms/step\n",
      "Avaliando o modelo com os pesos weights/architecture_11/training_3.hdf5\n",
      "1336/1336 [==============================] - 2s 2ms/step\n",
      "Avaliando o modelo com os pesos weights/architecture_11/training_4.hdf5\n",
      "1336/1336 [==============================] - 3s 2ms/step\n",
      "Avaliando o modelo com os pesos weights/architecture_11/training_5.hdf5\n",
      "1336/1336 [==============================] - 3s 2ms/step\n",
      "Avaliando o modelo com os pesos weights/architecture_11/training_6.hdf5\n",
      "1336/1336 [==============================] - 2s 2ms/step\n",
      "Avaliando o modelo com os pesos weights/architecture_11/training_7.hdf5\n",
      "1336/1336 [==============================] - 3s 2ms/step\n",
      "Avaliando o modelo com os pesos weights/architecture_11/training_8.hdf5\n",
      "1336/1336 [==============================] - 3s 2ms/step\n",
      "Avaliando o modelo com os pesos weights/architecture_11/training_9.hdf5\n",
      "1336/1336 [==============================] - 3s 2ms/step\n",
      "Avaliando o modelo com os pesos weights/architecture_11/training_10.hdf5\n",
      "1336/1336 [==============================] - 3s 2ms/step\n"
     ]
    }
   ],
   "source": [
    "architecture_11_results = evaluate_multiple_weights(model_builder=model_9, times=10,\n",
    "                                                    weights_path_format='weights/architecture_11/training_{}.hdf5',\n",
    "                                                    x=X_test, y=y_test)"
   ]
  },
  {
   "cell_type": "code",
   "execution_count": 0,
   "metadata": {
    "colab": {
     "base_uri": "https://localhost:8080/",
     "height": 359
    },
    "colab_type": "code",
    "id": "MzSjBt9UCc0q",
    "outputId": "25cb1d0d-89e5-4afb-cd71-6a2f631d032c"
   },
   "outputs": [
    {
     "data": {
      "text/html": [
       "<div>\n",
       "<style scoped>\n",
       "    .dataframe tbody tr th:only-of-type {\n",
       "        vertical-align: middle;\n",
       "    }\n",
       "\n",
       "    .dataframe tbody tr th {\n",
       "        vertical-align: top;\n",
       "    }\n",
       "\n",
       "    .dataframe thead th {\n",
       "        text-align: right;\n",
       "    }\n",
       "</style>\n",
       "<table border=\"1\" class=\"dataframe\">\n",
       "  <thead>\n",
       "    <tr style=\"text-align: right;\">\n",
       "      <th></th>\n",
       "      <th>Loss</th>\n",
       "      <th>Accuracy</th>\n",
       "    </tr>\n",
       "  </thead>\n",
       "  <tbody>\n",
       "    <tr>\n",
       "      <th>1</th>\n",
       "      <td>0.077166</td>\n",
       "      <td>0.973054</td>\n",
       "    </tr>\n",
       "    <tr>\n",
       "      <th>2</th>\n",
       "      <td>0.080601</td>\n",
       "      <td>0.975299</td>\n",
       "    </tr>\n",
       "    <tr>\n",
       "      <th>3</th>\n",
       "      <td>0.099345</td>\n",
       "      <td>0.968563</td>\n",
       "    </tr>\n",
       "    <tr>\n",
       "      <th>4</th>\n",
       "      <td>0.087417</td>\n",
       "      <td>0.970060</td>\n",
       "    </tr>\n",
       "    <tr>\n",
       "      <th>5</th>\n",
       "      <td>0.084364</td>\n",
       "      <td>0.972305</td>\n",
       "    </tr>\n",
       "    <tr>\n",
       "      <th>6</th>\n",
       "      <td>0.076167</td>\n",
       "      <td>0.975299</td>\n",
       "    </tr>\n",
       "    <tr>\n",
       "      <th>7</th>\n",
       "      <td>0.076012</td>\n",
       "      <td>0.976048</td>\n",
       "    </tr>\n",
       "    <tr>\n",
       "      <th>8</th>\n",
       "      <td>0.098764</td>\n",
       "      <td>0.967066</td>\n",
       "    </tr>\n",
       "    <tr>\n",
       "      <th>9</th>\n",
       "      <td>0.082456</td>\n",
       "      <td>0.970060</td>\n",
       "    </tr>\n",
       "    <tr>\n",
       "      <th>10</th>\n",
       "      <td>0.083268</td>\n",
       "      <td>0.974551</td>\n",
       "    </tr>\n",
       "  </tbody>\n",
       "</table>\n",
       "</div>"
      ],
      "text/plain": [
       "        Loss  Accuracy\n",
       "1   0.077166  0.973054\n",
       "2   0.080601  0.975299\n",
       "3   0.099345  0.968563\n",
       "4   0.087417  0.970060\n",
       "5   0.084364  0.972305\n",
       "6   0.076167  0.975299\n",
       "7   0.076012  0.976048\n",
       "8   0.098764  0.967066\n",
       "9   0.082456  0.970060\n",
       "10  0.083268  0.974551"
      ]
     },
     "execution_count": 30,
     "metadata": {
      "tags": []
     },
     "output_type": "execute_result"
    }
   ],
   "source": [
    "show_results_df(architecture_11_results)"
   ]
  },
  {
   "cell_type": "code",
   "execution_count": 0,
   "metadata": {
    "colab": {
     "base_uri": "https://localhost:8080/",
     "height": 297
    },
    "colab_type": "code",
    "id": "6Y0otlZoCc04",
    "outputId": "8a4a9e61-e01c-440c-c221-68f3813f73df"
   },
   "outputs": [
    {
     "data": {
      "text/html": [
       "<div>\n",
       "<style scoped>\n",
       "    .dataframe tbody tr th:only-of-type {\n",
       "        vertical-align: middle;\n",
       "    }\n",
       "\n",
       "    .dataframe tbody tr th {\n",
       "        vertical-align: top;\n",
       "    }\n",
       "\n",
       "    .dataframe thead th {\n",
       "        text-align: right;\n",
       "    }\n",
       "</style>\n",
       "<table border=\"1\" class=\"dataframe\">\n",
       "  <thead>\n",
       "    <tr style=\"text-align: right;\">\n",
       "      <th></th>\n",
       "      <th>Loss</th>\n",
       "      <th>Accuracy</th>\n",
       "    </tr>\n",
       "  </thead>\n",
       "  <tbody>\n",
       "    <tr>\n",
       "      <th>count</th>\n",
       "      <td>10.000000</td>\n",
       "      <td>10.000000</td>\n",
       "    </tr>\n",
       "    <tr>\n",
       "      <th>mean</th>\n",
       "      <td>0.084556</td>\n",
       "      <td>0.972231</td>\n",
       "    </tr>\n",
       "    <tr>\n",
       "      <th>std</th>\n",
       "      <td>0.008489</td>\n",
       "      <td>0.003145</td>\n",
       "    </tr>\n",
       "    <tr>\n",
       "      <th>min</th>\n",
       "      <td>0.076012</td>\n",
       "      <td>0.967066</td>\n",
       "    </tr>\n",
       "    <tr>\n",
       "      <th>25%</th>\n",
       "      <td>0.078025</td>\n",
       "      <td>0.970060</td>\n",
       "    </tr>\n",
       "    <tr>\n",
       "      <th>50%</th>\n",
       "      <td>0.082862</td>\n",
       "      <td>0.972680</td>\n",
       "    </tr>\n",
       "    <tr>\n",
       "      <th>75%</th>\n",
       "      <td>0.086654</td>\n",
       "      <td>0.975112</td>\n",
       "    </tr>\n",
       "    <tr>\n",
       "      <th>max</th>\n",
       "      <td>0.099345</td>\n",
       "      <td>0.976048</td>\n",
       "    </tr>\n",
       "  </tbody>\n",
       "</table>\n",
       "</div>"
      ],
      "text/plain": [
       "            Loss   Accuracy\n",
       "count  10.000000  10.000000\n",
       "mean    0.084556   0.972231\n",
       "std     0.008489   0.003145\n",
       "min     0.076012   0.967066\n",
       "25%     0.078025   0.970060\n",
       "50%     0.082862   0.972680\n",
       "75%     0.086654   0.975112\n",
       "max     0.099345   0.976048"
      ]
     },
     "execution_count": 31,
     "metadata": {
      "tags": []
     },
     "output_type": "execute_result"
    }
   ],
   "source": [
    "show_results_df(architecture_11_results, describe=True)"
   ]
  },
  {
   "cell_type": "markdown",
   "metadata": {
    "colab_type": "text",
    "id": "KjmKbG2FUR-O"
   },
   "source": [
    "### Arquitetura 12"
   ]
  },
  {
   "cell_type": "markdown",
   "metadata": {
    "colab_type": "text",
    "id": "dLIxaJwoUR-R"
   },
   "source": [
    "#### Treino"
   ]
  },
  {
   "cell_type": "code",
   "execution_count": 0,
   "metadata": {
    "colab": {},
    "colab_type": "code",
    "id": "z2RLrzzTUR-S"
   },
   "outputs": [],
   "source": [
    "c_train  = load_images('Dataset_2/Train/C', filetype='tif', size=(128, 128))\n",
    "nc_train = load_images('Dataset_2/Train/NC', filetype='tif', size=(128, 128))\n",
    "\n",
    "c_validation  = load_images('Dataset_2/Validation/C', filetype='tif', size=(128, 128))\n",
    "nc_validation = load_images('Dataset_2/Validation/NC', filetype='tif', size=(128, 128))"
   ]
  },
  {
   "cell_type": "code",
   "execution_count": 0,
   "metadata": {
    "colab": {},
    "colab_type": "code",
    "id": "10luZm08UR-X"
   },
   "outputs": [],
   "source": [
    "X_train, y_train = prepare_data(c_train, nc_train, normalization_method=3, return_y=True)\n",
    "X_validation, y_validation = prepare_data(c_validation, nc_validation, normalization_method=3, return_y=True)"
   ]
  },
  {
   "cell_type": "code",
   "execution_count": 0,
   "metadata": {
    "colab": {
     "base_uri": "https://localhost:8080/",
     "height": 187
    },
    "colab_type": "code",
    "id": "jZ8KwOw4UR-a",
    "outputId": "fa6bb2c6-a323-44a0-a4e2-cc72f0b79336"
   },
   "outputs": [
    {
     "name": "stdout",
     "output_type": "stream",
     "text": [
      "Treinamento 1 de 10, os pesos serão salvos em weights/architecture_12/training_1.hdf5\n",
      "Treinamento 2 de 10, os pesos serão salvos em weights/architecture_12/training_2.hdf5\n",
      "Treinamento 3 de 10, os pesos serão salvos em weights/architecture_12/training_3.hdf5\n",
      "Treinamento 4 de 10, os pesos serão salvos em weights/architecture_12/training_4.hdf5\n",
      "Treinamento 5 de 10, os pesos serão salvos em weights/architecture_12/training_5.hdf5\n",
      "Treinamento 6 de 10, os pesos serão salvos em weights/architecture_12/training_6.hdf5\n",
      "Treinamento 7 de 10, os pesos serão salvos em weights/architecture_12/training_7.hdf5\n",
      "Treinamento 8 de 10, os pesos serão salvos em weights/architecture_12/training_8.hdf5\n",
      "Treinamento 9 de 10, os pesos serão salvos em weights/architecture_12/training_9.hdf5\n",
      "Treinamento 10 de 10, os pesos serão salvos em weights/architecture_12/training_10.hdf5\n"
     ]
    }
   ],
   "source": [
    "train_multiple_times(model_builder=model_10, times=10, weights_path_format='weights/architecture_12/training_{}.hdf5',\n",
    "                     x=X_train, y=y_train, batch_size=32, epochs=50, validation_data=(X_validation, y_validation))"
   ]
  },
  {
   "cell_type": "markdown",
   "metadata": {
    "colab_type": "text",
    "id": "Ksqbn7QiUR-x"
   },
   "source": [
    "#### Avaliação"
   ]
  },
  {
   "cell_type": "code",
   "execution_count": 0,
   "metadata": {
    "colab": {},
    "colab_type": "code",
    "id": "47DCtvELUR-z"
   },
   "outputs": [],
   "source": [
    "c_test  = load_images('Dataset_2/Test/C', filetype='tif', size=(128, 128))\n",
    "nc_test = load_images('Dataset_2/Test/NC', filetype='tif', size=(128, 128))"
   ]
  },
  {
   "cell_type": "code",
   "execution_count": 0,
   "metadata": {
    "colab": {},
    "colab_type": "code",
    "id": "_ZK3zpssUR-7"
   },
   "outputs": [],
   "source": [
    "X_test, y_test = prepare_data(c_test, nc_test, normalization_method=3, return_y=True)"
   ]
  },
  {
   "cell_type": "code",
   "execution_count": 0,
   "metadata": {
    "colab": {
     "base_uri": "https://localhost:8080/",
     "height": 357
    },
    "colab_type": "code",
    "id": "UmAgEzDNUR-_",
    "outputId": "209b0f2a-04e0-414b-b6c7-91326b27a42b"
   },
   "outputs": [
    {
     "name": "stdout",
     "output_type": "stream",
     "text": [
      "Avaliando o modelo com os pesos weights/architecture_12/training_1.hdf5\n",
      "1336/1336 [==============================] - 2s 2ms/step\n",
      "Avaliando o modelo com os pesos weights/architecture_12/training_2.hdf5\n",
      "1336/1336 [==============================] - 2s 1ms/step\n",
      "Avaliando o modelo com os pesos weights/architecture_12/training_3.hdf5\n",
      "1336/1336 [==============================] - 2s 1ms/step\n",
      "Avaliando o modelo com os pesos weights/architecture_12/training_4.hdf5\n",
      "1336/1336 [==============================] - 2s 2ms/step\n",
      "Avaliando o modelo com os pesos weights/architecture_12/training_5.hdf5\n",
      "1336/1336 [==============================] - 2s 2ms/step\n",
      "Avaliando o modelo com os pesos weights/architecture_12/training_6.hdf5\n",
      "1336/1336 [==============================] - 2s 2ms/step\n",
      "Avaliando o modelo com os pesos weights/architecture_12/training_7.hdf5\n",
      "1336/1336 [==============================] - 2s 2ms/step\n",
      "Avaliando o modelo com os pesos weights/architecture_12/training_8.hdf5\n",
      "1336/1336 [==============================] - 2s 2ms/step\n",
      "Avaliando o modelo com os pesos weights/architecture_12/training_9.hdf5\n",
      "1336/1336 [==============================] - 2s 2ms/step\n",
      "Avaliando o modelo com os pesos weights/architecture_12/training_10.hdf5\n",
      "1336/1336 [==============================] - 2s 2ms/step\n"
     ]
    }
   ],
   "source": [
    "architecture_12_results = evaluate_multiple_weights(model_builder=model_10, times=10,\n",
    "                                                    weights_path_format='weights/architecture_12/training_{}.hdf5',\n",
    "                                                    x=X_test, y=y_test)"
   ]
  },
  {
   "cell_type": "code",
   "execution_count": 0,
   "metadata": {
    "colab": {
     "base_uri": "https://localhost:8080/",
     "height": 359
    },
    "colab_type": "code",
    "id": "i0wVhD2dUR_H",
    "outputId": "e6ca71f6-cdfe-4b4b-8716-e393e304828a"
   },
   "outputs": [
    {
     "data": {
      "text/html": [
       "<div>\n",
       "<style scoped>\n",
       "    .dataframe tbody tr th:only-of-type {\n",
       "        vertical-align: middle;\n",
       "    }\n",
       "\n",
       "    .dataframe tbody tr th {\n",
       "        vertical-align: top;\n",
       "    }\n",
       "\n",
       "    .dataframe thead th {\n",
       "        text-align: right;\n",
       "    }\n",
       "</style>\n",
       "<table border=\"1\" class=\"dataframe\">\n",
       "  <thead>\n",
       "    <tr style=\"text-align: right;\">\n",
       "      <th></th>\n",
       "      <th>Loss</th>\n",
       "      <th>Accuracy</th>\n",
       "    </tr>\n",
       "  </thead>\n",
       "  <tbody>\n",
       "    <tr>\n",
       "      <th>1</th>\n",
       "      <td>0.075829</td>\n",
       "      <td>0.974551</td>\n",
       "    </tr>\n",
       "    <tr>\n",
       "      <th>2</th>\n",
       "      <td>0.073412</td>\n",
       "      <td>0.974551</td>\n",
       "    </tr>\n",
       "    <tr>\n",
       "      <th>3</th>\n",
       "      <td>0.078944</td>\n",
       "      <td>0.973054</td>\n",
       "    </tr>\n",
       "    <tr>\n",
       "      <th>4</th>\n",
       "      <td>0.088841</td>\n",
       "      <td>0.970808</td>\n",
       "    </tr>\n",
       "    <tr>\n",
       "      <th>5</th>\n",
       "      <td>0.071411</td>\n",
       "      <td>0.973802</td>\n",
       "    </tr>\n",
       "    <tr>\n",
       "      <th>6</th>\n",
       "      <td>0.069408</td>\n",
       "      <td>0.976796</td>\n",
       "    </tr>\n",
       "    <tr>\n",
       "      <th>7</th>\n",
       "      <td>0.073838</td>\n",
       "      <td>0.976048</td>\n",
       "    </tr>\n",
       "    <tr>\n",
       "      <th>8</th>\n",
       "      <td>0.072379</td>\n",
       "      <td>0.977545</td>\n",
       "    </tr>\n",
       "    <tr>\n",
       "      <th>9</th>\n",
       "      <td>0.070523</td>\n",
       "      <td>0.976048</td>\n",
       "    </tr>\n",
       "    <tr>\n",
       "      <th>10</th>\n",
       "      <td>0.064751</td>\n",
       "      <td>0.977545</td>\n",
       "    </tr>\n",
       "  </tbody>\n",
       "</table>\n",
       "</div>"
      ],
      "text/plain": [
       "        Loss  Accuracy\n",
       "1   0.075829  0.974551\n",
       "2   0.073412  0.974551\n",
       "3   0.078944  0.973054\n",
       "4   0.088841  0.970808\n",
       "5   0.071411  0.973802\n",
       "6   0.069408  0.976796\n",
       "7   0.073838  0.976048\n",
       "8   0.072379  0.977545\n",
       "9   0.070523  0.976048\n",
       "10  0.064751  0.977545"
      ]
     },
     "execution_count": 18,
     "metadata": {
      "tags": []
     },
     "output_type": "execute_result"
    }
   ],
   "source": [
    "show_results_df(architecture_12_results)"
   ]
  },
  {
   "cell_type": "code",
   "execution_count": 0,
   "metadata": {
    "colab": {
     "base_uri": "https://localhost:8080/",
     "height": 297
    },
    "colab_type": "code",
    "id": "dhmxUdtvUR_Q",
    "outputId": "670ec241-d96c-45b9-d28e-b90f50668b2a"
   },
   "outputs": [
    {
     "data": {
      "text/html": [
       "<div>\n",
       "<style scoped>\n",
       "    .dataframe tbody tr th:only-of-type {\n",
       "        vertical-align: middle;\n",
       "    }\n",
       "\n",
       "    .dataframe tbody tr th {\n",
       "        vertical-align: top;\n",
       "    }\n",
       "\n",
       "    .dataframe thead th {\n",
       "        text-align: right;\n",
       "    }\n",
       "</style>\n",
       "<table border=\"1\" class=\"dataframe\">\n",
       "  <thead>\n",
       "    <tr style=\"text-align: right;\">\n",
       "      <th></th>\n",
       "      <th>Loss</th>\n",
       "      <th>Accuracy</th>\n",
       "    </tr>\n",
       "  </thead>\n",
       "  <tbody>\n",
       "    <tr>\n",
       "      <th>count</th>\n",
       "      <td>10.000000</td>\n",
       "      <td>10.000000</td>\n",
       "    </tr>\n",
       "    <tr>\n",
       "      <th>mean</th>\n",
       "      <td>0.073934</td>\n",
       "      <td>0.975075</td>\n",
       "    </tr>\n",
       "    <tr>\n",
       "      <th>std</th>\n",
       "      <td>0.006467</td>\n",
       "      <td>0.002148</td>\n",
       "    </tr>\n",
       "    <tr>\n",
       "      <th>min</th>\n",
       "      <td>0.064751</td>\n",
       "      <td>0.970808</td>\n",
       "    </tr>\n",
       "    <tr>\n",
       "      <th>25%</th>\n",
       "      <td>0.070745</td>\n",
       "      <td>0.973990</td>\n",
       "    </tr>\n",
       "    <tr>\n",
       "      <th>50%</th>\n",
       "      <td>0.072896</td>\n",
       "      <td>0.975299</td>\n",
       "    </tr>\n",
       "    <tr>\n",
       "      <th>75%</th>\n",
       "      <td>0.075331</td>\n",
       "      <td>0.976609</td>\n",
       "    </tr>\n",
       "    <tr>\n",
       "      <th>max</th>\n",
       "      <td>0.088841</td>\n",
       "      <td>0.977545</td>\n",
       "    </tr>\n",
       "  </tbody>\n",
       "</table>\n",
       "</div>"
      ],
      "text/plain": [
       "            Loss   Accuracy\n",
       "count  10.000000  10.000000\n",
       "mean    0.073934   0.975075\n",
       "std     0.006467   0.002148\n",
       "min     0.064751   0.970808\n",
       "25%     0.070745   0.973990\n",
       "50%     0.072896   0.975299\n",
       "75%     0.075331   0.976609\n",
       "max     0.088841   0.977545"
      ]
     },
     "execution_count": 19,
     "metadata": {
      "tags": []
     },
     "output_type": "execute_result"
    }
   ],
   "source": [
    "show_results_df(architecture_12_results, describe=True)"
   ]
  },
  {
   "cell_type": "markdown",
   "metadata": {
    "colab_type": "text",
    "id": "k2oQ6q8ErJv2"
   },
   "source": [
    "### Arquitetura 13"
   ]
  },
  {
   "cell_type": "markdown",
   "metadata": {
    "colab_type": "text",
    "id": "apfhCHzErJv4"
   },
   "source": [
    "#### Treino"
   ]
  },
  {
   "cell_type": "code",
   "execution_count": 0,
   "metadata": {
    "colab": {},
    "colab_type": "code",
    "id": "DyD5xEfQrJv6"
   },
   "outputs": [],
   "source": [
    "c_train  = load_images('Dataset_2/Train/C', filetype='tif', size=(128, 128))\n",
    "nc_train = load_images('Dataset_2/Train/NC', filetype='tif', size=(128, 128))\n",
    "\n",
    "c_validation  = load_images('Dataset_2/Validation/C', filetype='tif', size=(128, 128))\n",
    "nc_validation = load_images('Dataset_2/Validation/NC', filetype='tif', size=(128, 128))"
   ]
  },
  {
   "cell_type": "code",
   "execution_count": 0,
   "metadata": {
    "colab": {},
    "colab_type": "code",
    "id": "5UsuxuoUrJwA"
   },
   "outputs": [],
   "source": [
    "X_train, y_train = prepare_data(c_train, nc_train, normalization_method=3, return_y=True)\n",
    "X_validation, y_validation = prepare_data(c_validation, nc_validation, normalization_method=3, return_y=True)"
   ]
  },
  {
   "cell_type": "code",
   "execution_count": 0,
   "metadata": {
    "colab": {
     "base_uri": "https://localhost:8080/",
     "height": 187
    },
    "colab_type": "code",
    "id": "UUhdglkwrJwD",
    "outputId": "ea4d405e-8b67-46cc-e1fb-d9db7c09d732"
   },
   "outputs": [
    {
     "name": "stdout",
     "output_type": "stream",
     "text": [
      "Treinamento 1 de 10, os pesos serão salvos em weights/architecture_13/training_1.hdf5\n",
      "Treinamento 2 de 10, os pesos serão salvos em weights/architecture_13/training_2.hdf5\n",
      "Treinamento 3 de 10, os pesos serão salvos em weights/architecture_13/training_3.hdf5\n",
      "Treinamento 4 de 10, os pesos serão salvos em weights/architecture_13/training_4.hdf5\n",
      "Treinamento 5 de 10, os pesos serão salvos em weights/architecture_13/training_5.hdf5\n",
      "Treinamento 6 de 10, os pesos serão salvos em weights/architecture_13/training_6.hdf5\n",
      "Treinamento 7 de 10, os pesos serão salvos em weights/architecture_13/training_7.hdf5\n",
      "Treinamento 8 de 10, os pesos serão salvos em weights/architecture_13/training_8.hdf5\n",
      "Treinamento 9 de 10, os pesos serão salvos em weights/architecture_13/training_9.hdf5\n",
      "Treinamento 10 de 10, os pesos serão salvos em weights/architecture_13/training_10.hdf5\n"
     ]
    }
   ],
   "source": [
    "train_multiple_times(model_builder=model_11, times=10, weights_path_format='weights/architecture_13/training_{}.hdf5',\n",
    "                     x=X_train, y=y_train, batch_size=32, epochs=50, validation_data=(X_validation, y_validation))"
   ]
  },
  {
   "cell_type": "markdown",
   "metadata": {
    "colab_type": "text",
    "id": "U4heV3FBrJwa"
   },
   "source": [
    "#### Avaliação"
   ]
  },
  {
   "cell_type": "code",
   "execution_count": 0,
   "metadata": {
    "colab": {},
    "colab_type": "code",
    "id": "1vTgl4SsrJwa"
   },
   "outputs": [],
   "source": [
    "c_test  = load_images('Dataset_2/Test/C', filetype='tif', size=(128, 128))\n",
    "nc_test = load_images('Dataset_2/Test/NC', filetype='tif', size=(128, 128))"
   ]
  },
  {
   "cell_type": "code",
   "execution_count": 0,
   "metadata": {
    "colab": {},
    "colab_type": "code",
    "id": "e0ETGMIjrJwf"
   },
   "outputs": [],
   "source": [
    "X_test, y_test = prepare_data(c_test, nc_test, normalization_method=3, return_y=True)"
   ]
  },
  {
   "cell_type": "code",
   "execution_count": 0,
   "metadata": {
    "colab": {
     "base_uri": "https://localhost:8080/",
     "height": 357
    },
    "colab_type": "code",
    "id": "H51nYTJXrJwm",
    "outputId": "c6d362d7-cb5e-4428-df96-db1d125be072"
   },
   "outputs": [
    {
     "name": "stdout",
     "output_type": "stream",
     "text": [
      "Avaliando o modelo com os pesos weights/architecture_13/training_1.hdf5\n",
      "1336/1336 [==============================] - 2s 1ms/step\n",
      "Avaliando o modelo com os pesos weights/architecture_13/training_2.hdf5\n",
      "1336/1336 [==============================] - 2s 1ms/step\n",
      "Avaliando o modelo com os pesos weights/architecture_13/training_3.hdf5\n",
      "1336/1336 [==============================] - 2s 1ms/step\n",
      "Avaliando o modelo com os pesos weights/architecture_13/training_4.hdf5\n",
      "1336/1336 [==============================] - 2s 1ms/step\n",
      "Avaliando o modelo com os pesos weights/architecture_13/training_5.hdf5\n",
      "1336/1336 [==============================] - 2s 1ms/step\n",
      "Avaliando o modelo com os pesos weights/architecture_13/training_6.hdf5\n",
      "1336/1336 [==============================] - 2s 1ms/step\n",
      "Avaliando o modelo com os pesos weights/architecture_13/training_7.hdf5\n",
      "1336/1336 [==============================] - 2s 1ms/step\n",
      "Avaliando o modelo com os pesos weights/architecture_13/training_8.hdf5\n",
      "1336/1336 [==============================] - 2s 1ms/step\n",
      "Avaliando o modelo com os pesos weights/architecture_13/training_9.hdf5\n",
      "1336/1336 [==============================] - 2s 1ms/step\n",
      "Avaliando o modelo com os pesos weights/architecture_13/training_10.hdf5\n",
      "1336/1336 [==============================] - 2s 1ms/step\n"
     ]
    }
   ],
   "source": [
    "architecture_13_results = evaluate_multiple_weights(model_builder=model_11, times=10,\n",
    "                                                    weights_path_format='weights/architecture_13/training_{}.hdf5',\n",
    "                                                    x=X_test, y=y_test)"
   ]
  },
  {
   "cell_type": "code",
   "execution_count": 0,
   "metadata": {
    "colab": {
     "base_uri": "https://localhost:8080/",
     "height": 359
    },
    "colab_type": "code",
    "id": "AZC04m5frJww",
    "outputId": "5115234a-1630-4826-b816-1b7cbffdbdc4"
   },
   "outputs": [
    {
     "data": {
      "text/html": [
       "<div>\n",
       "<style scoped>\n",
       "    .dataframe tbody tr th:only-of-type {\n",
       "        vertical-align: middle;\n",
       "    }\n",
       "\n",
       "    .dataframe tbody tr th {\n",
       "        vertical-align: top;\n",
       "    }\n",
       "\n",
       "    .dataframe thead th {\n",
       "        text-align: right;\n",
       "    }\n",
       "</style>\n",
       "<table border=\"1\" class=\"dataframe\">\n",
       "  <thead>\n",
       "    <tr style=\"text-align: right;\">\n",
       "      <th></th>\n",
       "      <th>Loss</th>\n",
       "      <th>Accuracy</th>\n",
       "    </tr>\n",
       "  </thead>\n",
       "  <tbody>\n",
       "    <tr>\n",
       "      <th>1</th>\n",
       "      <td>0.061392</td>\n",
       "      <td>0.979790</td>\n",
       "    </tr>\n",
       "    <tr>\n",
       "      <th>2</th>\n",
       "      <td>0.068841</td>\n",
       "      <td>0.980539</td>\n",
       "    </tr>\n",
       "    <tr>\n",
       "      <th>3</th>\n",
       "      <td>0.070808</td>\n",
       "      <td>0.981287</td>\n",
       "    </tr>\n",
       "    <tr>\n",
       "      <th>4</th>\n",
       "      <td>0.058939</td>\n",
       "      <td>0.985030</td>\n",
       "    </tr>\n",
       "    <tr>\n",
       "      <th>5</th>\n",
       "      <td>0.059970</td>\n",
       "      <td>0.984281</td>\n",
       "    </tr>\n",
       "    <tr>\n",
       "      <th>6</th>\n",
       "      <td>0.080555</td>\n",
       "      <td>0.982036</td>\n",
       "    </tr>\n",
       "    <tr>\n",
       "      <th>7</th>\n",
       "      <td>0.063001</td>\n",
       "      <td>0.984281</td>\n",
       "    </tr>\n",
       "    <tr>\n",
       "      <th>8</th>\n",
       "      <td>0.072188</td>\n",
       "      <td>0.982784</td>\n",
       "    </tr>\n",
       "    <tr>\n",
       "      <th>9</th>\n",
       "      <td>0.072119</td>\n",
       "      <td>0.976048</td>\n",
       "    </tr>\n",
       "    <tr>\n",
       "      <th>10</th>\n",
       "      <td>0.056786</td>\n",
       "      <td>0.983533</td>\n",
       "    </tr>\n",
       "  </tbody>\n",
       "</table>\n",
       "</div>"
      ],
      "text/plain": [
       "        Loss  Accuracy\n",
       "1   0.061392  0.979790\n",
       "2   0.068841  0.980539\n",
       "3   0.070808  0.981287\n",
       "4   0.058939  0.985030\n",
       "5   0.059970  0.984281\n",
       "6   0.080555  0.982036\n",
       "7   0.063001  0.984281\n",
       "8   0.072188  0.982784\n",
       "9   0.072119  0.976048\n",
       "10  0.056786  0.983533"
      ]
     },
     "execution_count": 18,
     "metadata": {
      "tags": []
     },
     "output_type": "execute_result"
    }
   ],
   "source": [
    "show_results_df(architecture_13_results)"
   ]
  },
  {
   "cell_type": "code",
   "execution_count": 0,
   "metadata": {
    "colab": {
     "base_uri": "https://localhost:8080/",
     "height": 297
    },
    "colab_type": "code",
    "id": "579gb7HNrJw7",
    "outputId": "212e9f8b-1200-4746-d84d-1e88a1697b7e"
   },
   "outputs": [
    {
     "data": {
      "text/html": [
       "<div>\n",
       "<style scoped>\n",
       "    .dataframe tbody tr th:only-of-type {\n",
       "        vertical-align: middle;\n",
       "    }\n",
       "\n",
       "    .dataframe tbody tr th {\n",
       "        vertical-align: top;\n",
       "    }\n",
       "\n",
       "    .dataframe thead th {\n",
       "        text-align: right;\n",
       "    }\n",
       "</style>\n",
       "<table border=\"1\" class=\"dataframe\">\n",
       "  <thead>\n",
       "    <tr style=\"text-align: right;\">\n",
       "      <th></th>\n",
       "      <th>Loss</th>\n",
       "      <th>Accuracy</th>\n",
       "    </tr>\n",
       "  </thead>\n",
       "  <tbody>\n",
       "    <tr>\n",
       "      <th>count</th>\n",
       "      <td>10.000000</td>\n",
       "      <td>10.000000</td>\n",
       "    </tr>\n",
       "    <tr>\n",
       "      <th>mean</th>\n",
       "      <td>0.066460</td>\n",
       "      <td>0.981961</td>\n",
       "    </tr>\n",
       "    <tr>\n",
       "      <th>std</th>\n",
       "      <td>0.007587</td>\n",
       "      <td>0.002698</td>\n",
       "    </tr>\n",
       "    <tr>\n",
       "      <th>min</th>\n",
       "      <td>0.056786</td>\n",
       "      <td>0.976048</td>\n",
       "    </tr>\n",
       "    <tr>\n",
       "      <th>25%</th>\n",
       "      <td>0.060325</td>\n",
       "      <td>0.980726</td>\n",
       "    </tr>\n",
       "    <tr>\n",
       "      <th>50%</th>\n",
       "      <td>0.065921</td>\n",
       "      <td>0.982410</td>\n",
       "    </tr>\n",
       "    <tr>\n",
       "      <th>75%</th>\n",
       "      <td>0.071791</td>\n",
       "      <td>0.984094</td>\n",
       "    </tr>\n",
       "    <tr>\n",
       "      <th>max</th>\n",
       "      <td>0.080555</td>\n",
       "      <td>0.985030</td>\n",
       "    </tr>\n",
       "  </tbody>\n",
       "</table>\n",
       "</div>"
      ],
      "text/plain": [
       "            Loss   Accuracy\n",
       "count  10.000000  10.000000\n",
       "mean    0.066460   0.981961\n",
       "std     0.007587   0.002698\n",
       "min     0.056786   0.976048\n",
       "25%     0.060325   0.980726\n",
       "50%     0.065921   0.982410\n",
       "75%     0.071791   0.984094\n",
       "max     0.080555   0.985030"
      ]
     },
     "execution_count": 19,
     "metadata": {
      "tags": []
     },
     "output_type": "execute_result"
    }
   ],
   "source": [
    "show_results_df(architecture_13_results, describe=True)"
   ]
  }
 ],
 "metadata": {
  "accelerator": "GPU",
  "colab": {
   "name": "train_models.ipynb",
   "provenance": [],
   "version": "0.3.2"
  },
  "kernelspec": {
   "display_name": "Python 3",
   "language": "python",
   "name": "python3"
  },
  "language_info": {
   "codemirror_mode": {
    "name": "ipython",
    "version": 3
   },
   "file_extension": ".py",
   "mimetype": "text/x-python",
   "name": "python",
   "nbconvert_exporter": "python",
   "pygments_lexer": "ipython3",
   "version": "3.6.5"
  }
 },
 "nbformat": 4,
 "nbformat_minor": 1
}
